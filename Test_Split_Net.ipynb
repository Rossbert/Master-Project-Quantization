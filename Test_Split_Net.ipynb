{
 "cells": [
  {
   "cell_type": "code",
   "execution_count": 2,
   "metadata": {},
   "outputs": [
    {
     "data": {
      "text/plain": [
       "\" Parameters to be tuned:\\n- Output file name, if you don't update the name manually the previous file won't be deleted. New data will be appended to the end of the file instead.\\n- Flag that enables training data to be saved, a False flag will decrease running time significantly.\\n- Flag that enables laplacian related data to be saved.\\n- Number of simulations per layer.\\n- Total number of bits that will be flipped randomly from any weight in each layer.\\n\""
      ]
     },
     "execution_count": 2,
     "metadata": {},
     "output_type": "execute_result"
    }
   ],
   "source": [
    "import time\n",
    "import datetime\n",
    "import os\n",
    "import csv\n",
    "import numpy as np\n",
    "import scipy as sp\n",
    "import matplotlib.pyplot as plt\n",
    "import tensorflow as tf\n",
    "import tensorflow_model_optimization as tfmot\n",
    "from collections import OrderedDict\n",
    "from typing import Tuple, List\n",
    "\n",
    "def evaluate_model(interpreter: tf.lite.Interpreter, test_images, test_labels) -> Tuple[float, float]:\n",
    "    \"\"\" Evaluate TFLite Model:\n",
    "    -\n",
    "    Receives the interpreter and returns a tuple of loss and accuracy.\n",
    "    \"\"\"\n",
    "    input_index = interpreter.get_input_details()[0][\"index\"]\n",
    "    output_index = interpreter.get_output_details()[0][\"index\"]\n",
    "\n",
    "    # Run predictions on every image in the \"test\" dataset.\n",
    "    prediction_digits = []\n",
    "    predictions = []\n",
    "    for i, test_image in enumerate(test_images):\n",
    "        # Pre-processing: add batch dimension and convert to float32 to match with the model's input data format.\n",
    "        test_image = np.expand_dims(test_image, axis = 0).astype(np.float32)\n",
    "        test_image = np.expand_dims(test_image, axis = 3).astype(np.float32)\n",
    "        interpreter.set_tensor(input_index, test_image)\n",
    "\n",
    "        # Run inference.\n",
    "        interpreter.invoke()\n",
    "\n",
    "        # Post-processing: remove batch dimension and find the digit with highest probability.\n",
    "        output = interpreter.tensor(output_index)\n",
    "        digit = np.argmax(output()[0])\n",
    "        predictions.append(np.copy(output()[0]))\n",
    "        prediction_digits.append(digit)\n",
    "\n",
    "    # Compare prediction results with ground truth labels to calculate accuracy.\n",
    "    prediction_digits = np.array(prediction_digits)\n",
    "    predictions = np.array(predictions)\n",
    "    scce = tf.keras.losses.SparseCategoricalCrossentropy()(test_labels, predictions)\n",
    "\n",
    "    loss = scce.numpy()\n",
    "    accuracy = (prediction_digits == test_labels).mean()\n",
    "    return loss, accuracy\n",
    "\n",
    "def prob_mass_gen(bits : int) -> Tuple[List[int], List[float]]:\n",
    "    \"\"\" Discrete triangular distribution\n",
    "    -\n",
    "    - Receives the number of bits and calculates the probability mass function \"\"\"\n",
    "    values = np.arange(0, bits)\n",
    "    n = len(values)\n",
    "    p_max = 2/n\n",
    "    m_max = p_max/(n - 1)\n",
    "    # Probability calculation\n",
    "    p = p_max * 1.0\n",
    "    m = 2/(n - 1)*(p - 1/n)\n",
    "    probabilities = [p + m*(i - values[-1]) for i in values]\n",
    "    return values, probabilities\n",
    "\n",
    "def random_bit_flipper(value : int) -> Tuple[int, int]:\n",
    "    \"\"\" Random bit flipper \n",
    "    -\n",
    "    Obtains a value and flips one bit at a random position according to a triangular distribution.\n",
    "    - All values are in 8 bits, MSB have higher probability of getting flipped\n",
    "    - It is assumed value is a signed 8 bit number \"\"\"\n",
    "    bits, probs = prob_mass_gen(8)\n",
    "    bit_pos = np.random.choice(bits, p = probs)\n",
    "    # Negative 2 Complement conversion\n",
    "    if value < 0:\n",
    "        value = (-value ^ 0xFF) + 1\n",
    "    flip_mask = 1 << bit_pos\n",
    "    flipped_value = value ^ flip_mask\n",
    "    # Negative back conversion 2 Complement\n",
    "    if flipped_value >= 128:\n",
    "        flipped_value = -((flipped_value ^ 0xFF) + 1)\n",
    "    return bit_pos, flipped_value\n",
    "\n",
    "def random_bit_flipper_uniform(value : int) -> Tuple[int, int]:\n",
    "    \"\"\" Random bit flipper with uniform distribution\n",
    "    -\n",
    "    Obtains a value and flips one bit at a random position according to a uniform distribution.\n",
    "    - All values are in 8 bits, MSB have higher probability of getting flipped\n",
    "    - It is assumed value is a signed 8 bit number \"\"\"\n",
    "    bit_pos = np.random.randint(8)\n",
    "    # Negative 2 Complement conversion\n",
    "    if value < 0:\n",
    "        value = (-value ^ 0xFF) + 1\n",
    "    flip_mask = 1 << bit_pos\n",
    "    flipped_value = value ^ flip_mask\n",
    "    # Negative back conversion 2 Complement\n",
    "    if flipped_value >= 128:\n",
    "        flipped_value = -((flipped_value ^ 0xFF) + 1)\n",
    "    return bit_pos, flipped_value\n",
    "\n",
    "\"\"\" Parameters to be tuned:\n",
    "- Output file name, if you don't update the name manually the previous file won't be deleted. New data will be appended to the end of the file instead.\n",
    "- Flag that enables training data to be saved, a False flag will decrease running time significantly.\n",
    "- Flag that enables laplacian related data to be saved.\n",
    "- Number of simulations per layer.\n",
    "- Total number of bits that will be flipped randomly from any weight in each layer.\n",
    "\"\"\"\n"
   ]
  },
  {
   "cell_type": "code",
   "execution_count": 3,
   "metadata": {},
   "outputs": [],
   "source": [
    "SAVE_FILE_NAME = 'Performance_Multiple_5.csv'\n",
    "SAVE_TRAINING_PERFORMANCE_FLAG = False\n",
    "SAVE_LAPLACIAN_DATA_FLAG = True\n",
    "N_SIMULATIONS_PER_LAYER = 1\n",
    "N_BITS_TO_FLIP = 10\n",
    "\n",
    "MODELS_DIR = \"./model/\"\n",
    "LOAD_PATH_Q_AWARE = MODELS_DIR + \"model_q_aware_final_01\"\n",
    "LOAD_TFLITE_PATH = MODELS_DIR + 'tflite_final_01.tflite'\n",
    "SAVE_NEW_TFLITE_PATH = MODELS_DIR + 'new_tflite_flip_01.tflite'\n",
    "OUTPUTS_DIR = \"./outputs/\"\n",
    "SAVE_DATA_PATH = OUTPUTS_DIR + SAVE_FILE_NAME\n",
    "\n",
    "if not os.path.exists(OUTPUTS_DIR):\n",
    "    os.mkdir(OUTPUTS_DIR)\n"
   ]
  },
  {
   "cell_type": "code",
   "execution_count": 4,
   "metadata": {},
   "outputs": [
    {
     "name": "stdout",
     "output_type": "stream",
     "text": [
      "(60000, 28, 28)\n",
      "313/313 [==============================] - 2s 5ms/step - loss: 0.2891 - accuracy: 0.9115\n",
      "Q Aware model test accuracy :  91.15%\n",
      "Q Aware model test loss:  0.2890910804271698\n",
      "TFLite model test accuracy: 91.17%\n",
      "TFLite model test loss:  0.3396423\n"
     ]
    }
   ],
   "source": [
    "(train_images, train_labels), (test_images, test_labels) = tf.keras.datasets.fashion_mnist.load_data()\n",
    "print(train_images.shape)\n",
    "train_images = train_images / 255.0\n",
    "test_images = test_images / 255.0\n",
    "\n",
    "# Load Q Aware model\n",
    "q_aware_model : tf.keras.Model\n",
    "with tfmot.quantization.keras.quantize_scope():\n",
    "    q_aware_model = tf.keras.models.load_model(LOAD_PATH_Q_AWARE)\n",
    "# Load TFLite model\n",
    "interpreter = tf.lite.Interpreter(LOAD_TFLITE_PATH)\n",
    "\n",
    "# Evaluate accuracy of both models in test set\n",
    "q_aware_test_loss, q_aware_test_acc = q_aware_model.evaluate(test_images, test_labels)\n",
    "print('Q Aware model test accuracy : ', \"{:0.2%}\".format(q_aware_test_acc))\n",
    "print('Q Aware model test loss: ', q_aware_test_loss)\n",
    "interpreter.allocate_tensors()\n",
    "tflite_test_loss, tflite_test_accuracy = evaluate_model(interpreter, test_images, test_labels)\n",
    "print('TFLite model test accuracy:', \"{:0.2%}\".format(tflite_test_accuracy))\n",
    "print('TFLite model test loss: ', tflite_test_loss)"
   ]
  },
  {
   "cell_type": "code",
   "execution_count": 5,
   "metadata": {},
   "outputs": [
    {
     "name": "stdout",
     "output_type": "stream",
     "text": [
      "Q Aware model summary\n",
      "0 input_1 0 input (None, 28, 28, 1) output (None, 28, 28, 1)\n",
      "1 quantize_layer 3 input (None, 28, 28, 1) output (None, 28, 28, 1)\n",
      "2 quant_conv2d 7 input (None, 28, 28, 1) output (None, 24, 24, 32)\n",
      "3 quant_max_pooling2d 1 input (None, 24, 24, 32) output (None, 12, 12, 32)\n",
      "4 quant_conv2d_1 7 input (None, 12, 12, 32) output (None, 8, 8, 64)\n",
      "5 quant_max_pooling2d_1 1 input (None, 8, 8, 64) output (None, 4, 4, 64)\n",
      "6 quant_conv2d_2 7 input (None, 4, 4, 64) output (None, 2, 2, 96)\n",
      "7 quant_max_pooling2d_2 1 input (None, 2, 2, 96) output (None, 1, 1, 96)\n",
      "8 quant_flatten 1 input (None, 1, 1, 96) output (None, 96)\n",
      "9 quant_dense_last 7 input (None, 96) output (None, 10)\n"
     ]
    }
   ],
   "source": [
    "print(\"Q Aware model summary\")\n",
    "for i, layer in enumerate(q_aware_model.layers):\n",
    "    print(i, layer.name, len(layer.variables),\"input\", layer.input.shape, \"output\", layer.output.shape)"
   ]
  },
  {
   "cell_type": "code",
   "execution_count": 6,
   "metadata": {},
   "outputs": [
    {
     "name": "stdout",
     "output_type": "stream",
     "text": [
      "conv2d/kernel:0\n",
      "conv2d/bias:0\n",
      "quant_conv2d/optimizer_step:0\n",
      "quant_conv2d/kernel_min:0\n",
      "quant_conv2d/kernel_max:0\n",
      "quant_conv2d/post_activation_min:0\n",
      "quant_conv2d/post_activation_max:0\n",
      "[-3.9335735, 4.380244]\n"
     ]
    }
   ],
   "source": [
    "TARGET_LAYER = 2\n",
    "for variable in q_aware_model.layers[TARGET_LAYER].variables:\n",
    "    print(variable.name)\n",
    "vars = [var.numpy() for var in q_aware_model.layers[TARGET_LAYER].non_trainable_variables[-2:]]\n",
    "print(vars)"
   ]
  },
  {
   "cell_type": "code",
   "execution_count": 7,
   "metadata": {},
   "outputs": [
    {
     "name": "stdout",
     "output_type": "stream",
     "text": [
      "Trainable\n",
      "2 quant_conv2d conv2d/kernel:0\n",
      "2 quant_conv2d conv2d/bias:0\n",
      "4 quant_conv2d_1 conv2d_1/kernel:0\n",
      "4 quant_conv2d_1 conv2d_1/bias:0\n",
      "6 quant_conv2d_2 conv2d_2/kernel:0\n",
      "6 quant_conv2d_2 conv2d_2/bias:0\n",
      "9 quant_dense_last dense_last/kernel:0\n",
      "9 quant_dense_last dense_last/bias:0\n"
     ]
    }
   ],
   "source": [
    "print(\"Trainable\")\n",
    "for i, layer in enumerate(q_aware_model.layers):\n",
    "    for variable in layer.trainable_variables:\n",
    "        print(i, layer.name, variable.name)"
   ]
  },
  {
   "cell_type": "code",
   "execution_count": 8,
   "metadata": {},
   "outputs": [
    {
     "name": "stdout",
     "output_type": "stream",
     "text": [
      "Non trainable\n",
      "1 quantize_layer quantize_layer/quantize_layer_min:0\n",
      "1 quantize_layer quantize_layer/quantize_layer_max:0\n",
      "1 quantize_layer quantize_layer/optimizer_step:0\n",
      "2 quant_conv2d quant_conv2d/optimizer_step:0\n",
      "2 quant_conv2d quant_conv2d/kernel_min:0\n",
      "2 quant_conv2d quant_conv2d/kernel_max:0\n",
      "2 quant_conv2d quant_conv2d/post_activation_min:0\n",
      "2 quant_conv2d quant_conv2d/post_activation_max:0\n",
      "3 quant_max_pooling2d quant_max_pooling2d/optimizer_step:0\n",
      "4 quant_conv2d_1 quant_conv2d_1/optimizer_step:0\n",
      "4 quant_conv2d_1 quant_conv2d_1/kernel_min:0\n",
      "4 quant_conv2d_1 quant_conv2d_1/kernel_max:0\n",
      "4 quant_conv2d_1 quant_conv2d_1/post_activation_min:0\n",
      "4 quant_conv2d_1 quant_conv2d_1/post_activation_max:0\n",
      "5 quant_max_pooling2d_1 quant_max_pooling2d_1/optimizer_step:0\n",
      "6 quant_conv2d_2 quant_conv2d_2/optimizer_step:0\n",
      "6 quant_conv2d_2 quant_conv2d_2/kernel_min:0\n",
      "6 quant_conv2d_2 quant_conv2d_2/kernel_max:0\n",
      "6 quant_conv2d_2 quant_conv2d_2/post_activation_min:0\n",
      "6 quant_conv2d_2 quant_conv2d_2/post_activation_max:0\n",
      "7 quant_max_pooling2d_2 quant_max_pooling2d_2/optimizer_step:0\n",
      "8 quant_flatten quant_flatten/optimizer_step:0\n",
      "9 quant_dense_last quant_dense_last/optimizer_step:0\n",
      "9 quant_dense_last quant_dense_last/kernel_min:0\n",
      "9 quant_dense_last quant_dense_last/kernel_max:0\n",
      "9 quant_dense_last quant_dense_last/pre_activation_min:0\n",
      "9 quant_dense_last quant_dense_last/pre_activation_max:0\n"
     ]
    }
   ],
   "source": [
    "print(\"Non trainable\")\n",
    "for i, layer in enumerate(q_aware_model.layers):\n",
    "    for variable in layer.non_trainable_variables:\n",
    "        print(i, layer.name, variable.name)"
   ]
  },
  {
   "cell_type": "code",
   "execution_count": 9,
   "metadata": {},
   "outputs": [],
   "source": [
    "input_layer = tf.keras.layers.Input(shape = (28, 28, 1))\n",
    "conv_1 = tf.keras.layers.Conv2D(32, 5, use_bias = True, activation = 'relu')(input_layer)\n",
    "\n",
    "input_layer_2 = tf.keras.layers.Input(shape = (24, 24, 32))\n",
    "pool_1 = tf.keras.layers.MaxPool2D(pool_size = 2, strides = 2)(input_layer_2)\n",
    "conv_2 = tf.keras.layers.Conv2D(64, 5, use_bias = True, activation = 'relu')(pool_1)\n",
    "pool_2 = tf.keras.layers.MaxPool2D(pool_size = 2, strides = 2)(conv_2)\n",
    "conv_3 = tf.keras.layers.Conv2D(96, 3, use_bias = True, activation = 'relu')(pool_2)\n",
    "pool_3 = tf.keras.layers.MaxPool2D(pool_size = 2, strides = 2)(conv_3)\n",
    "flat_1 = tf.keras.layers.Flatten()(pool_3)\n",
    "dense_out = tf.keras.layers.Dense(10, activation = 'softmax', name = \"dense_last\")(flat_1)\n",
    "\n",
    "nq_model_part1 = tf.keras.models.Model(inputs = input_layer, outputs = conv_1)\n",
    "nq_model_part2 = tf.keras.models.Model(inputs = input_layer_2, outputs = dense_out)"
   ]
  },
  {
   "cell_type": "code",
   "execution_count": 10,
   "metadata": {},
   "outputs": [],
   "source": [
    "# Quantification of values\n",
    "BIT_WIDTH = 8\n",
    "quantized_and_dequantized = OrderedDict()\n",
    "quantized = OrderedDict()\n",
    "layer_index_list = []\n",
    "keys_list = []\n",
    "layers_shapes = []\n",
    "\n",
    "layer : tfmot.quantization.keras.QuantizeWrapperV2\n",
    "for i, layer in enumerate(q_aware_model.layers):\n",
    "    quantizer : tfmot.quantization.keras.quantizers.Quantizer\n",
    "    weight : tf.Variable\n",
    "    if hasattr(layer, '_weight_vars'):\n",
    "        for weight, quantizer, quantizer_vars in layer._weight_vars:\n",
    "            min_var = quantizer_vars['min_var']\n",
    "            max_var = quantizer_vars['max_var']\n",
    "\n",
    "            key = weight.name[:-2]\n",
    "            layer_index_list.append(i)\n",
    "            keys_list.append(key)\n",
    "            layers_shapes.append(weight.numpy().shape)\n",
    "            quantized_and_dequantized[key] = quantizer(inputs = weight, training = False, weights = quantizer_vars)\n",
    "            quantized[key] = np.round(quantized_and_dequantized[key] / max_var * (2**(BIT_WIDTH-1)-1))"
   ]
  },
  {
   "cell_type": "code",
   "execution_count": 11,
   "metadata": {},
   "outputs": [
    {
     "name": "stdout",
     "output_type": "stream",
     "text": [
      "Part 1 Summary\n",
      "0 input_1 0 input (None, 28, 28, 1) output (None, 28, 28, 1)\n",
      "1 conv2d 2 input (None, 28, 28, 1) output (None, 24, 24, 32)\n",
      "Part 2 Summary\n",
      "0 input_2 0 input (None, 24, 24, 32) output (None, 24, 24, 32)\n",
      "1 max_pooling2d 0 input (None, 24, 24, 32) output (None, 12, 12, 32)\n",
      "2 conv2d_1 2 input (None, 12, 12, 32) output (None, 8, 8, 64)\n",
      "3 max_pooling2d_1 0 input (None, 8, 8, 64) output (None, 4, 4, 64)\n",
      "4 conv2d_2 2 input (None, 4, 4, 64) output (None, 2, 2, 96)\n",
      "5 max_pooling2d_2 0 input (None, 2, 2, 96) output (None, 1, 1, 96)\n",
      "6 flatten 0 input (None, 1, 1, 96) output (None, 96)\n",
      "7 dense_last 2 input (None, 96) output (None, 10)\n"
     ]
    }
   ],
   "source": [
    "print(\"Part 1 Summary\")\n",
    "for i, layer in enumerate(nq_model_part1.layers):\n",
    "    print(i, layer.name, len(layer.variables),\"input\", layer.input.shape, \"output\", layer.output.shape)\n",
    "print(\"Part 2 Summary\")\n",
    "for i, layer in enumerate(nq_model_part2.layers):\n",
    "    print(i, layer.name, len(layer.variables),\"input\", layer.input.shape, \"output\", layer.output.shape)"
   ]
  },
  {
   "cell_type": "code",
   "execution_count": 12,
   "metadata": {},
   "outputs": [
    {
     "name": "stdout",
     "output_type": "stream",
     "text": [
      "Part 1 Trainable\n",
      "1 conv2d conv2d/kernel:0\n",
      "1 conv2d conv2d/bias:0\n",
      "Part 1 Non Trainable\n",
      "Part 2 Trainable\n",
      "2 conv2d_1 conv2d_1/kernel:0\n",
      "2 conv2d_1 conv2d_1/bias:0\n",
      "4 conv2d_2 conv2d_2/kernel:0\n",
      "4 conv2d_2 conv2d_2/bias:0\n",
      "7 dense_last dense_last/kernel:0\n",
      "7 dense_last dense_last/bias:0\n",
      "Part 2 Non Trainable\n"
     ]
    }
   ],
   "source": [
    "print(\"Part 1 Trainable\")\n",
    "for i, layer in enumerate(nq_model_part1.layers):\n",
    "    for variable in layer.trainable_variables:\n",
    "        print(i, layer.name, variable.name)\n",
    "print(\"Part 1 Non Trainable\")\n",
    "for i, layer in enumerate(nq_model_part1.layers):\n",
    "    for variable in layer.non_trainable_variables:\n",
    "        print(i, layer.name, variable.name)\n",
    "print(\"Part 2 Trainable\")\n",
    "for i, layer in enumerate(nq_model_part2.layers):\n",
    "    for variable in layer.trainable_variables:\n",
    "        print(i, layer.name, variable.name)\n",
    "print(\"Part 2 Non Trainable\")\n",
    "for i, layer in enumerate(nq_model_part2.layers):\n",
    "    for variable in layer.non_trainable_variables:\n",
    "        print(i, layer.name, variable.name)"
   ]
  },
  {
   "cell_type": "code",
   "execution_count": 13,
   "metadata": {},
   "outputs": [
    {
     "name": "stdout",
     "output_type": "stream",
     "text": [
      "[2, 4, 6, 9]\n",
      "[[-0.07918215 -0.01161032  0.07245282]\n",
      " [ 0.00061669 -0.22089666 -0.01293123]\n",
      " [ 0.03844265  0.06296697  0.14747679]]\n",
      "[[-0.07918215 -0.01161032  0.07245282]\n",
      " [ 0.00061669 -0.22089666 -0.01293123]\n",
      " [ 0.03844265  0.06296697  0.14747679]]\n",
      "[ 0.02969096  0.01373224 -0.25231063 -0.01235129 -0.03170829]\n",
      "[ 0.02969096  0.01373224 -0.25231063 -0.01235129 -0.03170829]\n",
      "[[ 0.00423666 -0.10165723 -0.21178155]\n",
      " [-0.1674046  -0.30126658 -0.01047609]\n",
      " [-0.1538336  -0.02137352 -0.08994394]]\n",
      "[[ 0.00423666 -0.10165723 -0.21178155]\n",
      " [-0.1674046  -0.30126658 -0.01047609]\n",
      " [-0.1538336  -0.02137352 -0.08994394]]\n",
      "[-0.0156321  -0.01641378 -0.03496066 -0.13640228  0.00386511]\n",
      "[-0.0156321  -0.01641378 -0.03496066 -0.13640228  0.00386511]\n"
     ]
    }
   ],
   "source": [
    "print(layer_index_list)\n",
    "indexes_part1 = [1]\n",
    "indexes_part2 = [2, 4, 7]\n",
    "weights_1 = q_aware_model.layers[layer_index_list[0]].get_weights()\n",
    "weights_2 = [q_aware_model.layers[idx].get_weights() for idx in layer_index_list[1:]]\n",
    "# print([variable.name for variable in q_aware_model.layers[layer_index_list[0]].trainable_variables])\n",
    "for idx in indexes_part1:\n",
    "    nq_model_part1.layers[idx].set_weights(weights_1[:2])\n",
    "for i, idx in enumerate(indexes_part2):\n",
    "    nq_model_part2.layers[idx].set_weights(weights_2[i][:2])\n",
    "\n",
    "print(q_aware_model.layers[layer_index_list[0]].trainable_variables[0][:3,:3,0,5].numpy())\n",
    "print(nq_model_part1.layers[1].variables[0][:3,:3,0,5].numpy())\n",
    "print(q_aware_model.layers[layer_index_list[0]].trainable_variables[1][:5].numpy())\n",
    "print(nq_model_part1.layers[1].variables[1][:5].numpy())\n",
    "\n",
    "print(q_aware_model.layers[layer_index_list[2]].trainable_variables[0][:3,:3,0,15].numpy())\n",
    "print(nq_model_part2.layers[4].variables[0][:3,:3,0,15].numpy())\n",
    "print(q_aware_model.layers[layer_index_list[2]].trainable_variables[1][:5].numpy())\n",
    "print(nq_model_part2.layers[4].variables[1][:5].numpy())"
   ]
  },
  {
   "cell_type": "code",
   "execution_count": 14,
   "metadata": {},
   "outputs": [
    {
     "name": "stdout",
     "output_type": "stream",
     "text": [
      "train images shape (60000, 28, 28)\n",
      "out images shape (1, 24, 24, 32)\n"
     ]
    },
    {
     "data": {
      "image/png": "[encoded data removed]",
      "text/plain": [
       "<Figure size 650x200 with 3 Axes>"
      ]
     },
     "metadata": {},
     "output_type": "display_data"
    },
    {
     "name": "stdout",
     "output_type": "stream",
     "text": [
      "[[0.02695452 0.02885798 0.00449268 0.02263477]\n",
      " [0.03401939 0.024934   0.00543544 0.        ]\n",
      " [0.04594108 0.         0.0026864  0.        ]\n",
      " [0.02412694 0.         0.         0.        ]]\n",
      "[[0.02695452 0.02885798 0.00449269 0.02263477]\n",
      " [0.0340194  0.024934   0.00543544 0.        ]\n",
      " [0.04594108 0.         0.0026864  0.        ]\n",
      " [0.02412694 0.         0.         0.        ]]\n"
     ]
    }
   ],
   "source": [
    "# Test to replicate the behaviour of first layer\n",
    "TARGET_IMAGE = 1074\n",
    "TARGET_LAYER_FOO = 1\n",
    "T_VARIABLES_KERNEL_INDEX = 0\n",
    "T_VARIABLES_BIAS_INDEX = 1\n",
    "OUT_CHANNEL = 23\n",
    "\n",
    "foo_image = np.zeros((28,28))\n",
    "foo_image[4,4] = 1\n",
    "\n",
    "out = nq_model_part1(train_images[np.newaxis,TARGET_IMAGE])\n",
    "# out = nq_model_part1(foo_image[np.newaxis])\n",
    "\n",
    "kernel = nq_model_part1.layers[TARGET_LAYER_FOO].trainable_variables[T_VARIABLES_KERNEL_INDEX][:,:,0,OUT_CHANNEL].numpy()\n",
    "bias = nq_model_part1.layers[TARGET_LAYER_FOO].trainable_variables[T_VARIABLES_BIAS_INDEX][OUT_CHANNEL].numpy()\n",
    "\n",
    "# self_conv = sp.signal.correlate2d(foo_image, kernel, mode = \"valid\") + bias\n",
    "self_conv = sp.signal.correlate2d(train_images[TARGET_IMAGE], kernel, mode = \"valid\") + bias\n",
    "self_conv = np.maximum(0, self_conv)\n",
    "print(\"train images shape\", train_images.shape)\n",
    "print(\"out images shape\", out.shape)\n",
    "\n",
    "fig, ax = plt.subplots(1, 3, figsize = (6.5, 2))\n",
    "ax[0].imshow(train_images[TARGET_IMAGE], cmap = 'Greys')\n",
    "# ax[0].imshow(foo_image, cmap = 'Greys')\n",
    "ax[0].set_title('original input')\n",
    "ax[0].axis('equal')\n",
    "ax[0].set(xlim = (0, train_images.shape[-2:][0]), ylim = (train_images.shape[-2:][1], 0))\n",
    "\n",
    "ax[1].imshow(out[0,:,:,OUT_CHANNEL], cmap = 'Greys')\n",
    "ax[1].set_title('first layer output')\n",
    "ax[1].axis('equal')\n",
    "ax[1].set(xlim = (0, out.shape[1:3][0]), ylim = (out.shape[1:3][1], 0))\n",
    "\n",
    "ax[2].imshow(self_conv, cmap = 'Greys')\n",
    "ax[2].set_title('self convolution')\n",
    "ax[2].axis('equal')\n",
    "ax[2].set(xlim = (0, out.shape[1:3][0]), ylim = (out.shape[1:3][1], 0))\n",
    "plt.show()\n",
    "plt.close()\n",
    "\n",
    "slicer = slice(None,4)\n",
    "print(self_conv[(slicer,slicer)])\n",
    "print(out[(0,slicer,slicer,OUT_CHANNEL)].numpy())"
   ]
  },
  {
   "cell_type": "code",
   "execution_count": 16,
   "metadata": {},
   "outputs": [
    {
     "name": "stdout",
     "output_type": "stream",
     "text": [
      "[0.] [0.] [0.] [0.] [0.] [0.] [0.] [0.] [0.] [0.]\n"
     ]
    }
   ],
   "source": [
    "# Compare weights and biases\n",
    "# print(\"Original trainable variables\")\n",
    "# for layer in q_aware_model.layers:\n",
    "#     for variable in layer.trainable_variables:\n",
    "#         print(variable.name)\n",
    "# print(\"\\nPart 1 variables\")\n",
    "# for layer in nq_model_part1.layers:\n",
    "#     for variable in layer.variables:\n",
    "#         print(variable.name)\n",
    "# print(\"\\nPart 2 variables\")\n",
    "# for layer in nq_model_part2.layers:\n",
    "#     for variable in layer.variables:\n",
    "#         print(variable.name)\n",
    "KERNEL_INDEX = 0\n",
    "BIAS_INDEX = 1\n",
    "original_layer_vars = [[variable.numpy() for variable in q_aware_model.layers[idx].trainable_variables] for idx in layer_index_list]\n",
    "\n",
    "print(np.unique((nq_model_part1.layers[indexes_part1[0]].variables[KERNEL_INDEX] - original_layer_vars[0][KERNEL_INDEX]).numpy()),\n",
    "np.unique((nq_model_part1.layers[indexes_part1[0]].variables[BIAS_INDEX] - original_layer_vars[0][BIAS_INDEX]).numpy()),\n",
    "\n",
    "np.unique((nq_model_part2.layers[indexes_part2[0]].variables[KERNEL_INDEX] - original_layer_vars[1][KERNEL_INDEX]).numpy()),\n",
    "np.unique((nq_model_part2.layers[indexes_part2[0]].variables[BIAS_INDEX] - original_layer_vars[1][BIAS_INDEX]).numpy()),\n",
    "\n",
    "np.unique((nq_model_part2.layers[indexes_part2[1]].variables[KERNEL_INDEX] - original_layer_vars[2][KERNEL_INDEX]).numpy()),\n",
    "np.unique((nq_model_part2.layers[indexes_part2[1]].variables[BIAS_INDEX] - original_layer_vars[2][BIAS_INDEX]).numpy()),\n",
    "\n",
    "np.unique((nq_model_part2.layers[indexes_part2[1]].variables[KERNEL_INDEX] - original_layer_vars[2][KERNEL_INDEX]).numpy()),\n",
    "np.unique((nq_model_part2.layers[indexes_part2[1]].variables[BIAS_INDEX] - original_layer_vars[2][BIAS_INDEX]).numpy()),\n",
    "\n",
    "np.unique((nq_model_part2.layers[indexes_part2[2]].variables[KERNEL_INDEX] - original_layer_vars[3][KERNEL_INDEX]).numpy()),\n",
    "np.unique((nq_model_part2.layers[indexes_part2[2]].variables[BIAS_INDEX] - original_layer_vars[3][BIAS_INDEX]).numpy()),\n",
    ")"
   ]
  },
  {
   "cell_type": "code",
   "execution_count": 17,
   "metadata": {},
   "outputs": [
    {
     "name": "stdout",
     "output_type": "stream",
     "text": [
      "Q Part 1 Summary\n",
      "0 input_1 vars 0 input (None, 28, 28, 1) output (None, 28, 28, 1)\n",
      "1 quantize_layer vars 3 input (None, 28, 28, 1) output (None, 28, 28, 1)\n",
      "2 quant_conv2d vars 7 input (None, 28, 28, 1) output (None, 24, 24, 32)\n",
      "Q Part 2 Summary\n",
      "0 input_2 vars 0 input (None, 24, 24, 32) output (None, 24, 24, 32)\n",
      "1 quantize_layer_1 vars 3 input (None, 24, 24, 32) output (None, 24, 24, 32)\n",
      "2 quant_max_pooling2d vars 1 input (None, 24, 24, 32) output (None, 12, 12, 32)\n",
      "3 quant_conv2d_1 vars 7 input (None, 12, 12, 32) output (None, 8, 8, 64)\n",
      "4 quant_max_pooling2d_1 vars 1 input (None, 8, 8, 64) output (None, 4, 4, 64)\n",
      "5 quant_conv2d_2 vars 7 input (None, 4, 4, 64) output (None, 2, 2, 96)\n",
      "6 quant_max_pooling2d_2 vars 1 input (None, 2, 2, 96) output (None, 1, 1, 96)\n",
      "7 quant_flatten vars 1 input (None, 1, 1, 96) output (None, 96)\n",
      "8 quant_dense_last vars 7 input (None, 96) output (None, 10)\n"
     ]
    }
   ],
   "source": [
    "q_model_part1 = tfmot.quantization.keras.quantize_model(nq_model_part1)\n",
    "q_model_part2 = tfmot.quantization.keras.quantize_model(nq_model_part2)\n",
    "print(\"Q Part 1 Summary\")\n",
    "for i, layer in enumerate(q_model_part1.layers):\n",
    "    print(i, layer.name, \"vars\", len(layer.variables),\"input\", layer.input.shape, \"output\", layer.output.shape)\n",
    "print(\"Q Part 2 Summary\")\n",
    "for i, layer in enumerate(q_model_part2.layers):\n",
    "    print(i, layer.name, \"vars\", len(layer.variables),\"input\", layer.input.shape, \"output\", layer.output.shape)"
   ]
  },
  {
   "cell_type": "code",
   "execution_count": 18,
   "metadata": {},
   "outputs": [
    {
     "name": "stdout",
     "output_type": "stream",
     "text": [
      "Part 1 Trainable\n",
      "2 quant_conv2d conv2d/kernel:0\n",
      "2 quant_conv2d conv2d/bias:0\n",
      "Part 2 Trainable\n",
      "3 quant_conv2d_1 conv2d_1/kernel:0\n",
      "3 quant_conv2d_1 conv2d_1/bias:0\n",
      "5 quant_conv2d_2 conv2d_2/kernel:0\n",
      "5 quant_conv2d_2 conv2d_2/bias:0\n",
      "8 quant_dense_last dense_last/kernel:0\n",
      "8 quant_dense_last dense_last/bias:0\n"
     ]
    }
   ],
   "source": [
    "print(\"Part 1 Trainable\")\n",
    "for i, layer in enumerate(q_model_part1.layers):\n",
    "    for variable in layer.trainable_variables:\n",
    "        print(i, layer.name, variable.name)\n",
    "print(\"Part 2 Trainable\")\n",
    "for i, layer in enumerate(q_model_part2.layers):\n",
    "    for variable in layer.trainable_variables:\n",
    "        print(i, layer.name, variable.name)"
   ]
  },
  {
   "cell_type": "code",
   "execution_count": 19,
   "metadata": {},
   "outputs": [
    {
     "name": "stdout",
     "output_type": "stream",
     "text": [
      "Part 1 Non Trainable\n",
      "1 quantize_layer quantize_layer/quantize_layer_min:0\n",
      "1 quantize_layer quantize_layer/quantize_layer_max:0\n",
      "1 quantize_layer quantize_layer/optimizer_step:0\n",
      "2 quant_conv2d quant_conv2d/optimizer_step:0\n",
      "2 quant_conv2d quant_conv2d/kernel_min:0\n",
      "2 quant_conv2d quant_conv2d/kernel_max:0\n",
      "2 quant_conv2d quant_conv2d/post_activation_min:0\n",
      "2 quant_conv2d quant_conv2d/post_activation_max:0\n"
     ]
    }
   ],
   "source": [
    "print(\"Part 1 Non Trainable\")\n",
    "for i, layer in enumerate(q_model_part1.layers):\n",
    "    for variable in layer.non_trainable_variables:\n",
    "        print(i, layer.name, variable.name)"
   ]
  },
  {
   "cell_type": "code",
   "execution_count": 20,
   "metadata": {},
   "outputs": [
    {
     "name": "stdout",
     "output_type": "stream",
     "text": [
      "Part 2 Non Trainable\n",
      "1 quantize_layer_1 quantize_layer_1/quantize_layer_1_min:0\n",
      "1 quantize_layer_1 quantize_layer_1/quantize_layer_1_max:0\n",
      "1 quantize_layer_1 quantize_layer_1/optimizer_step:0\n",
      "2 quant_max_pooling2d quant_max_pooling2d/optimizer_step:0\n",
      "3 quant_conv2d_1 quant_conv2d_1/optimizer_step:0\n",
      "3 quant_conv2d_1 quant_conv2d_1/kernel_min:0\n",
      "3 quant_conv2d_1 quant_conv2d_1/kernel_max:0\n",
      "3 quant_conv2d_1 quant_conv2d_1/post_activation_min:0\n",
      "3 quant_conv2d_1 quant_conv2d_1/post_activation_max:0\n",
      "4 quant_max_pooling2d_1 quant_max_pooling2d_1/optimizer_step:0\n",
      "5 quant_conv2d_2 quant_conv2d_2/optimizer_step:0\n",
      "5 quant_conv2d_2 quant_conv2d_2/kernel_min:0\n",
      "5 quant_conv2d_2 quant_conv2d_2/kernel_max:0\n",
      "5 quant_conv2d_2 quant_conv2d_2/post_activation_min:0\n",
      "5 quant_conv2d_2 quant_conv2d_2/post_activation_max:0\n",
      "6 quant_max_pooling2d_2 quant_max_pooling2d_2/optimizer_step:0\n",
      "7 quant_flatten quant_flatten/optimizer_step:0\n",
      "8 quant_dense_last quant_dense_last/optimizer_step:0\n",
      "8 quant_dense_last quant_dense_last/kernel_min:0\n",
      "8 quant_dense_last quant_dense_last/kernel_max:0\n",
      "8 quant_dense_last quant_dense_last/pre_activation_min:0\n",
      "8 quant_dense_last quant_dense_last/pre_activation_max:0\n"
     ]
    }
   ],
   "source": [
    "print(\"Part 2 Non Trainable\")\n",
    "for i, layer in enumerate(q_model_part2.layers):\n",
    "    for variable in layer.non_trainable_variables:\n",
    "        print(i, layer.name, variable.name)"
   ]
  },
  {
   "cell_type": "code",
   "execution_count": 21,
   "metadata": {},
   "outputs": [
    {
     "name": "stdout",
     "output_type": "stream",
     "text": [
      "[0.] [0.] [0] [0.] [0.] [0] [0.] [0.] [0.] [0.] [-3.9335735] [4.380244] [-1] [0] [0.] [0.] [0] [0.] [0.] [0.] [0.] [0] [0.] [0.] [0] [0.] [0.] [0.] [0.] [0] [0] [0.] [0.] [0] [0.] [0.] [0.] [0.]\n"
     ]
    }
   ],
   "source": [
    "q_indexes_part1 = [1, 2]\n",
    "q_indexes_part2 = list(range(3, 9 + 1))\n",
    "q_indexes_part2_2 = list(range(2, 8 + 1))\n",
    "# for i, layer in enumerate(q_aware_model.layers):\n",
    "#     # layer.get_weights()\n",
    "#     if len(layer.get_weights()) != 0:\n",
    "#         print(i)\n",
    "q_weights_1 = [q_aware_model.layers[idx].get_weights() for idx in q_indexes_part1]\n",
    "q_weights_2 = [q_aware_model.layers[idx].get_weights() for idx in q_indexes_part2]\n",
    "# print(q_weights_1[0])\n",
    "for i, idx in enumerate(q_indexes_part1):\n",
    "    q_model_part1.layers[idx].set_weights(q_weights_1[i])\n",
    "intermediate_max_min = q_aware_model.layers[2].get_weights()[-2:]\n",
    "intermediate_max_min.append(-1)\n",
    "q_model_part2.layers[1].set_weights(intermediate_max_min)\n",
    "for i, idx in enumerate(q_indexes_part2_2):\n",
    "    q_model_part2.layers[idx].set_weights(q_weights_2[i])\n",
    "\n",
    "KERNEL_INDEX = 0\n",
    "BIAS_INDEX = 1\n",
    "# print(q_model_part1.layers[q_indexes_part1[1]].variables)\n",
    "# print(q_aware_model.layers[q_indexes_part1[1]].variables)\n",
    "print(np.unique((q_model_part1.layers[q_indexes_part1[0]].variables[0] - q_aware_model.layers[q_indexes_part1[0]].variables[0]).numpy()),\n",
    "np.unique((q_model_part1.layers[q_indexes_part1[0]].variables[1] - q_aware_model.layers[q_indexes_part1[0]].variables[1]).numpy()),\n",
    "np.unique((q_model_part1.layers[q_indexes_part1[0]].variables[2] - q_aware_model.layers[q_indexes_part1[0]].variables[2]).numpy()),\n",
    "\n",
    "np.unique((q_model_part1.layers[q_indexes_part1[1]].variables[0] - q_aware_model.layers[q_indexes_part1[1]].variables[0]).numpy()),\n",
    "np.unique((q_model_part1.layers[q_indexes_part1[1]].variables[1] - q_aware_model.layers[q_indexes_part1[1]].variables[1]).numpy()),\n",
    "np.unique((q_model_part1.layers[q_indexes_part1[1]].variables[2] - q_aware_model.layers[q_indexes_part1[1]].variables[2]).numpy()),\n",
    "np.unique((q_model_part1.layers[q_indexes_part1[1]].variables[3] - q_aware_model.layers[q_indexes_part1[1]].variables[3]).numpy()),\n",
    "np.unique((q_model_part1.layers[q_indexes_part1[1]].variables[4] - q_aware_model.layers[q_indexes_part1[1]].variables[4]).numpy()),\n",
    "np.unique((q_model_part1.layers[q_indexes_part1[1]].variables[5] - q_aware_model.layers[q_indexes_part1[1]].variables[5]).numpy()),\n",
    "np.unique((q_model_part1.layers[q_indexes_part1[1]].variables[6] - q_aware_model.layers[q_indexes_part1[1]].variables[6]).numpy()),\n",
    "\n",
    "np.unique(q_model_part2.layers[1].variables[0].numpy()),\n",
    "np.unique(q_model_part2.layers[1].variables[1].numpy()),\n",
    "np.unique(q_model_part2.layers[1].variables[2].numpy()),\n",
    "\n",
    "np.unique((q_model_part2.layers[q_indexes_part2_2[0]].variables[0] - q_aware_model.layers[q_indexes_part2[0]].variables[0]).numpy()),\n",
    "\n",
    "np.unique((q_model_part2.layers[q_indexes_part2_2[1]].variables[0] - q_aware_model.layers[q_indexes_part2[1]].variables[0]).numpy()),\n",
    "np.unique((q_model_part2.layers[q_indexes_part2_2[1]].variables[1] - q_aware_model.layers[q_indexes_part2[1]].variables[1]).numpy()),\n",
    "np.unique((q_model_part2.layers[q_indexes_part2_2[1]].variables[2] - q_aware_model.layers[q_indexes_part2[1]].variables[2]).numpy()),\n",
    "np.unique((q_model_part2.layers[q_indexes_part2_2[1]].variables[3] - q_aware_model.layers[q_indexes_part2[1]].variables[3]).numpy()),\n",
    "np.unique((q_model_part2.layers[q_indexes_part2_2[1]].variables[4] - q_aware_model.layers[q_indexes_part2[1]].variables[4]).numpy()),\n",
    "np.unique((q_model_part2.layers[q_indexes_part2_2[1]].variables[5] - q_aware_model.layers[q_indexes_part2[1]].variables[5]).numpy()),\n",
    "np.unique((q_model_part2.layers[q_indexes_part2_2[1]].variables[6] - q_aware_model.layers[q_indexes_part2[1]].variables[6]).numpy()),\n",
    "\n",
    "np.unique((q_model_part2.layers[q_indexes_part2_2[2]].variables[0] - q_aware_model.layers[q_indexes_part2[2]].variables[0]).numpy()),\n",
    "\n",
    "np.unique((q_model_part2.layers[q_indexes_part2_2[3]].variables[0] - q_aware_model.layers[q_indexes_part2[3]].variables[0]).numpy()),\n",
    "np.unique((q_model_part2.layers[q_indexes_part2_2[3]].variables[1] - q_aware_model.layers[q_indexes_part2[3]].variables[1]).numpy()),\n",
    "np.unique((q_model_part2.layers[q_indexes_part2_2[3]].variables[2] - q_aware_model.layers[q_indexes_part2[3]].variables[2]).numpy()),\n",
    "np.unique((q_model_part2.layers[q_indexes_part2_2[3]].variables[3] - q_aware_model.layers[q_indexes_part2[3]].variables[3]).numpy()),\n",
    "np.unique((q_model_part2.layers[q_indexes_part2_2[3]].variables[4] - q_aware_model.layers[q_indexes_part2[3]].variables[4]).numpy()),\n",
    "np.unique((q_model_part2.layers[q_indexes_part2_2[3]].variables[5] - q_aware_model.layers[q_indexes_part2[3]].variables[5]).numpy()),\n",
    "np.unique((q_model_part2.layers[q_indexes_part2_2[3]].variables[6] - q_aware_model.layers[q_indexes_part2[3]].variables[6]).numpy()),\n",
    "\n",
    "np.unique((q_model_part2.layers[q_indexes_part2_2[4]].variables[0] - q_aware_model.layers[q_indexes_part2[4]].variables[0]).numpy()),\n",
    "\n",
    "np.unique((q_model_part2.layers[q_indexes_part2_2[5]].variables[0] - q_aware_model.layers[q_indexes_part2[5]].variables[0]).numpy()),\n",
    "\n",
    "np.unique((q_model_part2.layers[q_indexes_part2_2[6]].variables[0] - q_aware_model.layers[q_indexes_part2[6]].variables[0]).numpy()),\n",
    "np.unique((q_model_part2.layers[q_indexes_part2_2[6]].variables[1] - q_aware_model.layers[q_indexes_part2[6]].variables[1]).numpy()),\n",
    "np.unique((q_model_part2.layers[q_indexes_part2_2[6]].variables[2] - q_aware_model.layers[q_indexes_part2[6]].variables[2]).numpy()),\n",
    "np.unique((q_model_part2.layers[q_indexes_part2_2[6]].variables[3] - q_aware_model.layers[q_indexes_part2[6]].variables[3]).numpy()),\n",
    "np.unique((q_model_part2.layers[q_indexes_part2_2[6]].variables[4] - q_aware_model.layers[q_indexes_part2[6]].variables[4]).numpy()),\n",
    "np.unique((q_model_part2.layers[q_indexes_part2_2[6]].variables[5] - q_aware_model.layers[q_indexes_part2[6]].variables[5]).numpy()),\n",
    "np.unique((q_model_part2.layers[q_indexes_part2_2[6]].variables[6] - q_aware_model.layers[q_indexes_part2[6]].variables[6]).numpy()),\n",
    ")"
   ]
  },
  {
   "cell_type": "code",
   "execution_count": 22,
   "metadata": {},
   "outputs": [
    {
     "name": "stdout",
     "output_type": "stream",
     "text": [
      "original output\n",
      " [[1.8473416e-09 9.9999988e-01 2.5903853e-08 4.0264447e-10 5.8375569e-08\n",
      "  5.6541989e-12 1.2723472e-08 5.6541989e-12 2.6821853e-10 5.6541989e-12]]\n",
      "non quantized model output\n",
      " [[1.4625762e-15 1.0000000e+00 7.5149568e-15 4.2900803e-17 9.2893006e-14\n",
      "  1.2390763e-24 2.8898564e-15 5.6050442e-23 1.1157035e-16 4.4603877e-22]]\n",
      "quantized model output\n",
      " [[1.8473416e-09 9.9999988e-01 2.5903853e-08 4.0264447e-10 5.8375569e-08\n",
      "  5.6541989e-12 1.2723472e-08 5.6541989e-12 2.6821853e-10 5.6541989e-12]]\n",
      "\n",
      "Unique difference non quantized [-1.1920929e-07  5.6541989e-12  2.6821842e-10  4.0264442e-10\n",
      "  1.8473402e-09  1.2723469e-08  2.5903846e-08  5.8375477e-08]\n",
      "Unique difference quantized [0.]\n"
     ]
    }
   ],
   "source": [
    "# Test compare inference both original and parts-model\n",
    "TARGET_IMAGE = 2100\n",
    "out_original = q_aware_model(train_images[np.newaxis,TARGET_IMAGE])\n",
    "\n",
    "# Does not yield the same results\n",
    "out_1 = nq_model_part1(train_images[np.newaxis,TARGET_IMAGE])\n",
    "out_2 = nq_model_part2(out_1)\n",
    "\n",
    "# Yields the same results\n",
    "out_3 = q_model_part1(train_images[np.newaxis,TARGET_IMAGE])\n",
    "out_4 = q_model_part2(out_3)\n",
    "\n",
    "print(\"original output\\n\", out_original .numpy())\n",
    "print(\"non quantized model output\\n\", out_2.numpy())\n",
    "print(\"quantized model output\\n\", out_4.numpy())\n",
    "print(\"\\nUnique difference non quantized\", np.unique((out_original - out_2).numpy()))\n",
    "print(\"Unique difference quantized\", np.unique((out_original - out_4).numpy()))"
   ]
  },
  {
   "cell_type": "code",
   "execution_count": 23,
   "metadata": {},
   "outputs": [
    {
     "data": {
      "image/png": "[encoded data removed]",
      "text/plain": [
       "<Figure size 450x200 with 2 Axes>"
      ]
     },
     "metadata": {},
     "output_type": "display_data"
    },
    {
     "name": "stdout",
     "output_type": "stream",
     "text": [
      "tf.Tensor(\n",
      "[[0.05969456 0.18146738 0.3515631  0.        ]\n",
      " [0.09428683 0.22077817 0.32558832 0.        ]\n",
      " [0.10542884 0.23796675 0.30107716 0.        ]\n",
      " [0.10430839 0.2293778  0.27900246 0.        ]], shape=(4, 4), dtype=float32)\n",
      "tf.Tensor(\n",
      "[[0.06520641 0.19561923 0.35863525 0.        ]\n",
      " [0.09780961 0.22822243 0.32603204 0.        ]\n",
      " [0.09780961 0.22822243 0.29342884 0.        ]\n",
      " [0.09780961 0.22822243 0.29342884 0.        ]], shape=(4, 4), dtype=float32)\n"
     ]
    }
   ],
   "source": [
    "OUT_CHANNEL = 1\n",
    "fig, ax = plt.subplots(1, 2, figsize = (4.5, 2))\n",
    "\n",
    "ax[0].imshow(out_1[0,:,:,OUT_CHANNEL], cmap = 'Greys')\n",
    "ax[0].set_title('Non quantized model')\n",
    "ax[0].axis('equal')\n",
    "ax[0].set(xlim = (0, out.shape[1:3][0]), ylim = (out.shape[1:3][1], 0))\n",
    "\n",
    "ax[1].imshow(out_3[0,:,:,OUT_CHANNEL], cmap = 'Greys')\n",
    "ax[1].set_title('Quantized model')\n",
    "ax[1].axis('equal')\n",
    "ax[1].set(xlim = (0, out.shape[1:3][0]), ylim = (out.shape[1:3][1], 0))\n",
    "plt.show()\n",
    "plt.close()\n",
    "\n",
    "slicer = slice(5, 9)\n",
    "print(out_1[0, slicer, slicer, OUT_CHANNEL])\n",
    "print(out_3[0, slicer, slicer, OUT_CHANNEL])"
   ]
  },
  {
   "cell_type": "code",
   "execution_count": 24,
   "metadata": {},
   "outputs": [
    {
     "name": "stdout",
     "output_type": "stream",
     "text": [
      "quantize_layer\n",
      "quant_conv2d\n",
      "input scale 0.00392156862745098\n",
      "input zero -128\n",
      "kernel scales [0.00329171 0.00318886 0.00154461 0.00221212 0.00216033 0.00173925\n",
      " 0.00257462 0.00135561 0.00259043 0.00228444 0.01463084 0.00207081\n",
      " 0.00626407 0.00238244 0.01474832 0.00248384 0.00260051 0.00279522\n",
      " 0.00929473 0.002684   0.00207167 0.0020169  0.00217691 0.00185296\n",
      " 0.00304491 0.00207702 0.0010245  0.00203166 0.00265791 0.00135298\n",
      " 0.00273699 0.00247921]\n",
      "bias scales [1.2908661e-05 1.2505331e-05 6.0573111e-06 8.6749860e-06 8.4718740e-06\n",
      " 6.8206023e-06 1.0096539e-05 5.3161089e-06 1.0158549e-05 8.9585819e-06\n",
      " 5.7375863e-05 8.1208136e-06 2.4564994e-05 9.3428880e-06 5.7836533e-05\n",
      " 9.7405646e-06 1.0198080e-05 1.0961662e-05 3.6449925e-05 1.0525496e-05\n",
      " 8.1241951e-06 7.9094089e-06 8.5368883e-06 7.2664952e-06 1.1940828e-05\n",
      " 8.1451790e-06 4.0176528e-06 7.9673073e-06 1.0423187e-05 5.3058229e-06\n",
      " 1.0733294e-05 9.7224120e-06]\n",
      "activation scale 0.03260320401659199\n",
      "activation zero -7\n",
      "bias [  2300   1098 -41654  -1424  -3743 -19204  -1805   3815  -1373  -1241\n",
      "   4801   -235   4490  -1226   5328  -3315    819   1959   4093   -688\n",
      "  -2146   1330  -3142   3709  -2705  18189 -55454  -1871     36 -43575\n",
      "   1414   -575]\n",
      "bias ['0x8fc', '0x44a', '0xffff5d4a', '0xfffffa70', '0xfffff161', '0xffffb4fc', '0xfffff8f3', '0xee7', '0xfffffaa3', '0xfffffb27', '0x12c1', '0xffffff15', '0x118a', '0xfffffb36', '0x14d0', '0xfffff30d', '0x333', '0x7a7', '0xffd', '0xfffffd50', '0xfffff79e', '0x532', '0xfffff3ba', '0xe7d', '0xfffff56f', '0x470d', '0xffff2762', '0xfffff8b1', '0x24', '0xffff55c9', '0x586', '0xfffffdc1']\n"
     ]
    }
   ],
   "source": [
    "INPUT_LAYER = 1\n",
    "CONV1_LAYER = 2\n",
    "BIT_WIDTH = 8\n",
    "BIAS_BIT_WIDTH = 32\n",
    "T_VARIABLES_KERNEL_INDEX = 0\n",
    "T_VARIABLES_BIAS_INDEX = 1\n",
    "\n",
    "print(q_aware_model.layers[INPUT_LAYER].name)\n",
    "vars_input = {variable.name: variable.numpy() for i, variable in enumerate(q_aware_model.layers[INPUT_LAYER].non_trainable_variables) if \"min\" in variable.name or \"max\" in variable.name}\n",
    "# print(vars_input)\n",
    "quantize_keys_input = [key for key in vars_input if \"quantize\" in key]\n",
    "kernel_keys_input = [key for key in vars_input if \"kernel\" in key]\n",
    "activation_keys_input = [key for key in vars_input if \"activation\" in key]\n",
    "if len(quantize_keys_input) != 0:\n",
    "    min_quantize_key_input, = tuple(key for key in quantize_keys_input if \"min\" in key)\n",
    "    max_quantize_key_input, = tuple(key for key in quantize_keys_input if \"max\" in key)\n",
    "else:\n",
    "    min_quantize_key_input = None\n",
    "    max_quantize_key_input = None\n",
    "if len(kernel_keys_input) != 0:\n",
    "    min_kernel_key_input, = tuple(key for key in kernel_keys_input if \"min\" in key)\n",
    "    max_kernel_key_input, = tuple(key for key in kernel_keys_input if \"max\" in key)\n",
    "else:\n",
    "    min_kernel_key_input = None\n",
    "    max_kernel_key_input = None\n",
    "if len(activation_keys_input) != 0:\n",
    "    min_activ_key_input, = tuple(key for key in activation_keys_input if \"min\" in key)\n",
    "    max_activ_key_input, = tuple(key for key in activation_keys_input if \"max\" in key)\n",
    "else:\n",
    "    min_activ_key_input = None\n",
    "    max_activ_key_input = None\n",
    "\n",
    "print(q_aware_model.layers[CONV1_LAYER].name)\n",
    "vars_conv1 = {variable.name: variable.numpy() for i, variable in enumerate(q_aware_model.layers[CONV1_LAYER].non_trainable_variables) if \"min\" in variable.name or \"max\" in variable.name}\n",
    "# print(vars_conv1)\n",
    "quantize_keys_conv1 = [key for key in vars_conv1 if \"quantize\" in key]\n",
    "kernel_keys_conv1 = [key for key in vars_conv1 if \"kernel\" in key]\n",
    "activation_keys_conv1 = [key for key in vars_conv1 if \"activation\" in key]\n",
    "if len(quantize_keys_conv1) != 0:\n",
    "    min_quantize_key_conv1, = tuple(key for key in quantize_keys_conv1 if \"min\" in key)\n",
    "    max_quantize_key_conv1, = tuple(key for key in quantize_keys_conv1 if \"max\" in key)\n",
    "else:\n",
    "    min_quantize_key_conv1 = None\n",
    "    max_quantize_key_conv1 = None\n",
    "if len(kernel_keys_conv1) != 0:\n",
    "    min_kernel_key_conv1, = tuple(key for key in kernel_keys_conv1 if \"min\" in key)\n",
    "    max_kernel_key_conv1, = tuple(key for key in kernel_keys_conv1 if \"max\" in key)\n",
    "else:\n",
    "    min_kernel_key_conv1 = None\n",
    "    max_kernel_key_conv1 = None\n",
    "if len(activation_keys_conv1) != 0:\n",
    "    min_activ_key_conv1, = tuple(key for key in activation_keys_conv1 if \"min\" in key)\n",
    "    max_activ_key_conv1, = tuple(key for key in activation_keys_conv1 if \"max\" in key)\n",
    "else:\n",
    "    min_activ_key_conv1 = None\n",
    "    max_activ_key_conv1 = None\n",
    "\n",
    "input_min = vars_input.get(min_quantize_key_input)\n",
    "input_max = vars_input.get(max_quantize_key_input)\n",
    "kernel_min = vars_conv1.get(min_kernel_key_conv1)\n",
    "kernel_max = vars_conv1.get(max_kernel_key_conv1)\n",
    "activation_min = vars_conv1.get(min_activ_key_conv1)\n",
    "activation_max = vars_conv1.get(max_activ_key_conv1)\n",
    "\n",
    "# Input scales and zeros\n",
    "input_scale = (input_max - input_min) / (2**BIT_WIDTH - 1)\n",
    "input_zero = np.round(2**(BIT_WIDTH - 1) - 1 - input_max/input_scale).astype(int)\n",
    "# Kernel and biases scales\n",
    "# kernel_scales = (kernel_max - kernel_min) / (2**BIT_WIDTH - 2)\n",
    "kernel_scales = kernel_max / (2**(BIT_WIDTH - 1) - 1)\n",
    "bias_scales = input_scale * kernel_scales\n",
    "# Output scale and zero\n",
    "activation_scale = (activation_max - activation_min) / (2**BIT_WIDTH - 1)\n",
    "activation_zero = np.round(2**(BIT_WIDTH - 1) - 1 - activation_max/activation_scale).astype(int)\n",
    "\n",
    "print(\"input scale\", input_scale)\n",
    "print(\"input zero\", input_zero)\n",
    "print(\"kernel scales\", kernel_scales)\n",
    "print(\"bias scales\", bias_scales)\n",
    "print(\"activation scale\", activation_scale)\n",
    "print(\"activation zero\", activation_zero)\n",
    "\n",
    "bias_ints = np.round(q_aware_model.layers[CONV1_LAYER].trainable_variables[T_VARIABLES_BIAS_INDEX].numpy() / bias_scales).astype(int)\n",
    "print(\"bias\", bias_ints)\n",
    "print(\"bias\", [hex(bias) if bias > 0 else hex((-bias ^ 0xFFFFFFFF) + 1) for bias in bias_ints])\n"
   ]
  },
  {
   "cell_type": "code",
   "execution_count": 25,
   "metadata": {},
   "outputs": [
    {
     "name": "stdout",
     "output_type": "stream",
     "text": [
      "[[-128   33   19   32   42]\n",
      " [-126   47   18   17   40]\n",
      " [ -93   49   27   12   23]\n",
      " [ -69   42   25   13   -8]\n",
      " [ -49   17   32   86   -5]]\n",
      "[[0.         0.63137255 0.57647059 0.62745098 0.66666667]\n",
      " [0.00784314 0.68627451 0.57254902 0.56862745 0.65882353]\n",
      " [0.1372549  0.69411765 0.60784314 0.54901961 0.59215686]\n",
      " [0.23137255 0.66666667 0.6        0.55294118 0.47058824]\n",
      " [0.30980392 0.56862745 0.62745098 0.83921569 0.48235294]]\n",
      "[[0.         0.63137255 0.57647059 0.62745098 0.66666667]\n",
      " [0.00784314 0.68627451 0.57254902 0.56862745 0.65882353]\n",
      " [0.1372549  0.69411765 0.60784314 0.54901961 0.59215686]\n",
      " [0.23137255 0.66666667 0.6        0.55294118 0.47058824]\n",
      " [0.30980392 0.56862745 0.62745098 0.83921569 0.48235294]]\n",
      "Unique [0.00000000e+00 2.77555756e-17 5.55111512e-17 1.11022302e-16]\n"
     ]
    },
    {
     "data": {
      "image/png": "[encoded data removed]",
      "text/plain": [
       "<Figure size 450x200 with 2 Axes>"
      ]
     },
     "metadata": {},
     "output_type": "display_data"
    }
   ],
   "source": [
    "# Test compare inference both original and parts-model\n",
    "TARGET_IMAGE = 10\n",
    "TARGET_LAYER_FOO = 1\n",
    "T_VARIABLES_KERNEL_INDEX = 0\n",
    "T_VARIABLES_BIAS_INDEX = 1\n",
    "OUT_CHANNEL = 29\n",
    "slicer = slice(4,9)\n",
    "quantized_input_image = np.round(train_images[np.newaxis,TARGET_IMAGE]/input_scale).astype(int) + input_zero\n",
    "quantized_and_dequantized_input = input_scale*(quantized_input_image - input_zero)\n",
    "\n",
    "print(quantized_input_image[0,slicer,slicer])\n",
    "print(train_images[TARGET_IMAGE, slicer, slicer])\n",
    "print(quantized_and_dequantized_input[0,slicer,slicer])\n",
    "print(\"Unique\", np.unique(train_images[TARGET_IMAGE] - quantized_and_dequantized_input[0,:,:]))\n",
    "\n",
    "fig, ax = plt.subplots(1, 2, figsize = (4.5, 2))\n",
    "\n",
    "ax[0].imshow(train_images[TARGET_IMAGE], cmap = 'Greys')\n",
    "ax[0].set_title('Non quantized model')\n",
    "ax[0].axis('equal')\n",
    "ax[0].set(xlim = (0, out.shape[1:3][0]), ylim = (out.shape[1:3][1], 0))\n",
    "\n",
    "ax[1].imshow(quantized_and_dequantized_input[0,:,:], cmap = 'Greys')\n",
    "ax[1].set_title('Quantized dequantized model')\n",
    "ax[1].axis('equal')\n",
    "ax[1].set(xlim = (0, out.shape[1:3][0]), ylim = (out.shape[1:3][1], 0))\n",
    "plt.show()\n",
    "plt.close()\n"
   ]
  },
  {
   "cell_type": "code",
   "execution_count": 26,
   "metadata": {},
   "outputs": [
    {
     "name": "stdout",
     "output_type": "stream",
     "text": [
      "(5, 5)\n",
      "(1, 28, 28)\n",
      "(1, 24, 24, 32)\n",
      "-43575\n",
      "[[0.         0.         0.         0.0326032  0.0326032 ]\n",
      " [0.         0.         0.         0.         0.0326032 ]\n",
      " [0.         0.         0.         0.         0.        ]\n",
      " [0.16301602 0.16301602 0.06520641 0.         0.        ]\n",
      " [0.26082563 0.29342884 0.19561923 0.13041282 0.        ]]\n",
      "[[0.         0.         0.         0.01980133 0.03946471]\n",
      " [0.         0.         0.         0.         0.01970583]\n",
      " [0.         0.         0.         0.         0.        ]\n",
      " [0.15172531 0.17578722 0.07327872 0.00453648 0.        ]\n",
      " [0.24928348 0.3046126  0.20572267 0.12452766 0.        ]]\n"
     ]
    },
    {
     "data": {
      "image/png": "[encoded data removed]",
      "text/plain": [
       "<Figure size 450x200 with 2 Axes>"
      ]
     },
     "metadata": {},
     "output_type": "display_data"
    }
   ],
   "source": [
    "out_original = q_aware_model(train_images[np.newaxis,TARGET_IMAGE])\n",
    "\n",
    "# Two part model output\n",
    "out_3 = q_model_part1(train_images[np.newaxis,TARGET_IMAGE])\n",
    "out_4 = q_model_part2(out_3)\n",
    "\n",
    "# First layer\n",
    "key = keys_list[0]\n",
    "\n",
    "kernel = quantized[key][:,:,0,OUT_CHANNEL]\n",
    "bias = bias_ints[OUT_CHANNEL]\n",
    "print(kernel.shape)\n",
    "print(quantized_input_image.shape)\n",
    "print(out_3.shape)\n",
    "\n",
    "print(bias)\n",
    "\n",
    "# self_conv = sp.signal.correlate2d(foo_image, kernel, mode = \"valid\") + bias\n",
    "self_conv = sp.signal.correlate2d(quantized_input_image[0] - input_zero, kernel, mode = \"valid\").astype(int) + bias\n",
    "self_conv = np.maximum(0, self_conv)\n",
    "\n",
    "self_conv_float = bias_scales[OUT_CHANNEL]*self_conv\n",
    "print(out_3[0,slicer,slicer,OUT_CHANNEL].numpy())\n",
    "print(self_conv_float[slicer,slicer])\n",
    "\n",
    "fig, ax = plt.subplots(1, 2, figsize = (4.5, 2))\n",
    "\n",
    "ax[0].imshow(out_3[0,:,:,OUT_CHANNEL], cmap = 'Greys')\n",
    "ax[0].set_title('Non quantized model')\n",
    "ax[0].axis('equal')\n",
    "ax[0].set(xlim = (0, out.shape[1:3][0]), ylim = (out.shape[1:3][1], 0))\n",
    "\n",
    "ax[1].imshow(self_conv_float[:,:], cmap = 'Greys')\n",
    "ax[1].set_title('Quantized model')\n",
    "ax[1].axis('equal')\n",
    "ax[1].set(xlim = (0, out.shape[1:3][0]), ylim = (out.shape[1:3][1], 0))\n",
    "plt.show()\n",
    "plt.close()\n"
   ]
  },
  {
   "cell_type": "code",
   "execution_count": 27,
   "metadata": {},
   "outputs": [
    {
     "name": "stdout",
     "output_type": "stream",
     "text": [
      "1875/1875 [==============================] - 5s 3ms/step\n",
      "1875/1875 [==============================] - 8s 4ms/step\n",
      "(60000, 10)\n",
      "0.9616833333333333 0.11276093\n",
      "1875/1875 [==============================] - 10s 6ms/step - loss: 0.1128 - accuracy: 0.9617\n",
      "Q Aware model test accuracy :  96.17%\n",
      "Q Aware model test loss:  0.1127830371260643\n"
     ]
    }
   ],
   "source": [
    "out_train_pt1 = q_model_part1.predict(train_images)\n",
    "out_train_pt2 = q_model_part2.predict(out_train_pt1)\n",
    "print(out_train_pt2.shape)\n",
    "prediction_digits = []\n",
    "for i, image in enumerate(train_images):\n",
    "    prediction_digits.append(np.argmax(out_train_pt2[i]))\n",
    "prediction_digits = np.array(prediction_digits)\n",
    "\n",
    "scce = tf.keras.losses.SparseCategoricalCrossentropy()(train_labels, out_train_pt2)\n",
    "\n",
    "loss = scce.numpy()\n",
    "accuracy = (prediction_digits == train_labels).mean()\n",
    "print(accuracy, loss)\n",
    "\n",
    "q_aware_train_loss, q_aware_train_acc = q_aware_model.evaluate(train_images, train_labels)\n",
    "print('Q Aware model test accuracy : ', \"{:0.2%}\".format(q_aware_train_acc))\n",
    "print('Q Aware model test loss: ', q_aware_train_loss)"
   ]
  },
  {
   "cell_type": "code",
   "execution_count": 28,
   "metadata": {},
   "outputs": [
    {
     "name": "stdout",
     "output_type": "stream",
     "text": [
      "313/313 [==============================] - 1s 3ms/step\n",
      "313/313 [==============================] - 1s 4ms/step\n",
      "(10000, 10)\n",
      "0.9115 0.28909135\n",
      "313/313 [==============================] - 2s 5ms/step - loss: 0.2891 - accuracy: 0.9115\n",
      "Q Aware model test accuracy :  91.15%\n",
      "Q Aware model test loss:  0.2890910804271698\n"
     ]
    }
   ],
   "source": [
    "out_test_pt1 = q_model_part1.predict(test_images)\n",
    "out_test_pt2 = q_model_part2.predict(out_test_pt1)\n",
    "print(out_test_pt2.shape)\n",
    "prediction_digits = []\n",
    "for i, image in enumerate(test_images):\n",
    "    prediction_digits.append(np.argmax(out_test_pt2[i]))\n",
    "prediction_digits = np.array(prediction_digits)\n",
    "\n",
    "scce = tf.keras.losses.SparseCategoricalCrossentropy()(test_labels, out_test_pt2)\n",
    "\n",
    "loss = scce.numpy()\n",
    "accuracy = (prediction_digits == test_labels).mean()\n",
    "print(accuracy, loss)\n",
    "\n",
    "q_aware_test_loss, q_aware_test_acc = q_aware_model.evaluate(test_images, test_labels)\n",
    "print('Q Aware model test accuracy : ', \"{:0.2%}\".format(q_aware_test_acc))\n",
    "print('Q Aware model test loss: ', q_aware_test_loss)"
   ]
  },
  {
   "cell_type": "code",
   "execution_count": 29,
   "metadata": {},
   "outputs": [
    {
     "name": "stdout",
     "output_type": "stream",
     "text": [
      "Quantized model\n",
      "[[0.         0.         0.13041282 0.        ]\n",
      " [0.         0.         0.         0.        ]\n",
      " [0.         0.0326032  0.         0.        ]\n",
      " [0.         0.22822243 0.         0.        ]]\n",
      "(24, 24, 32)\n",
      "Self quantized model no activation\n",
      "[[0.         0.         0.14309532 0.        ]\n",
      " [0.         0.         0.         0.        ]\n",
      " [0.         0.03776719 0.         0.        ]\n",
      " [0.         0.21986756 0.         0.        ]]\n"
     ]
    }
   ],
   "source": [
    "# Two part model output\n",
    "TARGET_IMAGE = 5300 #100\n",
    "OUT_CHANNEL = 22 #20\n",
    "\n",
    "(train_images_2, train_labels_2), (test_images_2, test_labels_2) = tf.keras.datasets.fashion_mnist.load_data()\n",
    "\n",
    "quantized_input_image = np.round(train_images[TARGET_IMAGE]/input_scale).astype(int) + input_zero\n",
    "quantized_and_dequantized_input = input_scale*(quantized_input_image - input_zero)\n",
    "\n",
    "out_nq = nq_model_part1(train_images[np.newaxis,TARGET_IMAGE])\n",
    "out_q = q_model_part1(train_images[np.newaxis,TARGET_IMAGE])\n",
    "\n",
    "increment = 4\n",
    "initial_x = 5\n",
    "initial_y = 3\n",
    "sub_pos_x = (initial_x, initial_x + increment)\n",
    "sub_pos_y = (initial_y, initial_y + increment)\n",
    "position = (0, slice(*sub_pos_y), slice(*sub_pos_x), OUT_CHANNEL)\n",
    "# print(\"Original input\")\n",
    "# print(train_images[TARGET_IMAGE, slice(*sub_pos_y), slice(*sub_pos_x)])\n",
    "# print(\"Quantized input\")\n",
    "# print(quantized_and_dequantized_input[slice(*sub_pos_y), slice(*sub_pos_x)])\n",
    "print(\"Quantized model\")\n",
    "print(out_q[position].numpy())\n",
    "\n",
    "# First layer\n",
    "key = keys_list[0]\n",
    "kernel = quantized[key][:,:,0]\n",
    "bias = bias_ints\n",
    "# print(kernel.shape)\n",
    "# print(bias.shape)\n",
    "\n",
    "conv_array = []\n",
    "for channel in range(kernel.shape[-1]):\n",
    "    self_conv = sp.signal.correlate2d(quantized_input_image - input_zero, kernel[:,:,channel], mode = \"valid\").astype(int) + bias[channel]\n",
    "    self_conv = np.maximum(0, self_conv)\n",
    "    float_conv = bias_scales[channel]*self_conv\n",
    "    conv_array.append(float_conv)\n",
    "out_conv = np.array(conv_array)\n",
    "out_conv = np.moveaxis(out_conv, 0, 2)\n",
    "print(out_conv.shape)\n",
    "\n",
    "print(\"Self quantized model no activation\")\n",
    "print(out_conv[position[1:]])"
   ]
  },
  {
   "cell_type": "code",
   "execution_count": 30,
   "metadata": {},
   "outputs": [
    {
     "name": "stdout",
     "output_type": "stream",
     "text": [
      "Difference between original input no normalization and quantized input\n",
      "[0]\n",
      "Self quantized with activation\n",
      "[[0.         0.         0.13041282 0.        ]\n",
      " [0.         0.         0.         0.        ]\n",
      " [0.         0.0326032  0.         0.        ]\n",
      " [0.         0.22822243 0.         0.        ]]\n"
     ]
    }
   ],
   "source": [
    "print(\"Difference between original input no normalization and quantized input\")\n",
    "print(np.unique(train_images_2[TARGET_IMAGE] - (quantized_input_image - input_zero)))\n",
    "\n",
    "out_conv_3 = out_conv\n",
    "out_conv_3 = activation_scale * np.round(out_conv_3 / activation_scale)\n",
    "print(\"Self quantized with activation\")\n",
    "print(out_conv_3[position[1:]])"
   ]
  },
  {
   "cell_type": "code",
   "execution_count": 46,
   "metadata": {},
   "outputs": [],
   "source": [
    "input_layer = tf.keras.layers.Input(shape = (28, 28, 1))\n",
    "conv_1_1 = tf.keras.layers.Conv2D(32, 5, use_bias = False, activation = None)(input_layer)\n",
    "\n",
    "input_layer_2 = tf.keras.layers.Input(shape = (24, 24, 32))\n",
    "conv_1_2 = tf.keras.layers.Conv2D(32, 1, use_bias = True, activation = 'relu')(input_layer_2)\n",
    "pool_1 = tf.keras.layers.MaxPool2D(pool_size = 2, strides = 2)(conv_1_2)\n",
    "conv_2 = tf.keras.layers.Conv2D(64, 5, use_bias = True, activation = 'relu')(pool_1)\n",
    "pool_2 = tf.keras.layers.MaxPool2D(pool_size = 2, strides = 2)(conv_2)\n",
    "conv_3 = tf.keras.layers.Conv2D(96, 3, use_bias = True, activation = 'relu')(pool_2)\n",
    "pool_3 = tf.keras.layers.MaxPool2D(pool_size = 2, strides = 2)(conv_3)\n",
    "flat_1 = tf.keras.layers.Flatten()(pool_3)\n",
    "dense_out = tf.keras.layers.Dense(10, activation = 'softmax', name = \"dense_last\")(flat_1)\n",
    "\n",
    "nq2_model_part1 = tf.keras.models.Model(inputs = input_layer, outputs = conv_1_1)\n",
    "nq2_model_part2 = tf.keras.models.Model(inputs = input_layer_2, outputs = dense_out)"
   ]
  },
  {
   "cell_type": "code",
   "execution_count": 47,
   "metadata": {},
   "outputs": [
    {
     "name": "stdout",
     "output_type": "stream",
     "text": [
      "Part 1 Summary\n",
      "0 input_5 0 input (None, 28, 28, 1) output (None, 28, 28, 1)\n",
      "1 conv2d_7 1 input (None, 28, 28, 1) output (None, 24, 24, 32)\n",
      "Part 2 Summary\n",
      "0 input_6 0 input (None, 24, 24, 32) output (None, 24, 24, 32)\n",
      "1 conv2d_8 2 input (None, 24, 24, 32) output (None, 24, 24, 32)\n",
      "2 max_pooling2d_6 0 input (None, 24, 24, 32) output (None, 12, 12, 32)\n",
      "3 conv2d_9 2 input (None, 12, 12, 32) output (None, 8, 8, 64)\n",
      "4 max_pooling2d_7 0 input (None, 8, 8, 64) output (None, 4, 4, 64)\n",
      "5 conv2d_10 2 input (None, 4, 4, 64) output (None, 2, 2, 96)\n",
      "6 max_pooling2d_8 0 input (None, 2, 2, 96) output (None, 1, 1, 96)\n",
      "7 flatten_2 0 input (None, 1, 1, 96) output (None, 96)\n",
      "8 dense_last 2 input (None, 96) output (None, 10)\n"
     ]
    }
   ],
   "source": [
    "print(\"Part 1 Summary\")\n",
    "for i, layer in enumerate(nq2_model_part1.layers):\n",
    "    print(i, layer.name, len(layer.variables),\"input\", layer.input.shape, \"output\", layer.output.shape)\n",
    "print(\"Part 2 Summary\")\n",
    "for i, layer in enumerate(nq2_model_part2.layers):\n",
    "    print(i, layer.name, len(layer.variables),\"input\", layer.input.shape, \"output\", layer.output.shape)"
   ]
  },
  {
   "cell_type": "code",
   "execution_count": 48,
   "metadata": {},
   "outputs": [
    {
     "name": "stdout",
     "output_type": "stream",
     "text": [
      "Q Part 1 Summary\n",
      "0 input_5 vars 0 input (None, 28, 28, 1) output (None, 28, 28, 1)\n",
      "1 quantize_layer_4 vars 3 input (None, 28, 28, 1) output (None, 28, 28, 1)\n",
      "2 quant_conv2d_7 vars 6 input (None, 28, 28, 1) output (None, 24, 24, 32)\n",
      "Q Part 2 Summary\n",
      "0 input_6 vars 0 input (None, 24, 24, 32) output (None, 24, 24, 32)\n",
      "1 quantize_layer_5 vars 3 input (None, 24, 24, 32) output (None, 24, 24, 32)\n",
      "2 quant_conv2d_8 vars 7 input (None, 24, 24, 32) output (None, 24, 24, 32)\n",
      "3 quant_max_pooling2d_6 vars 1 input (None, 24, 24, 32) output (None, 12, 12, 32)\n",
      "4 quant_conv2d_9 vars 7 input (None, 12, 12, 32) output (None, 8, 8, 64)\n",
      "5 quant_max_pooling2d_7 vars 1 input (None, 8, 8, 64) output (None, 4, 4, 64)\n",
      "6 quant_conv2d_10 vars 7 input (None, 4, 4, 64) output (None, 2, 2, 96)\n",
      "7 quant_max_pooling2d_8 vars 1 input (None, 2, 2, 96) output (None, 1, 1, 96)\n",
      "8 quant_flatten_2 vars 1 input (None, 1, 1, 96) output (None, 96)\n",
      "9 quant_dense_last vars 7 input (None, 96) output (None, 10)\n"
     ]
    }
   ],
   "source": [
    "q2_model_part1 = tfmot.quantization.keras.quantize_model(nq2_model_part1)\n",
    "q2_model_part2 = tfmot.quantization.keras.quantize_model(nq2_model_part2)\n",
    "print(\"Q Part 1 Summary\")\n",
    "for i, layer in enumerate(q2_model_part1.layers):\n",
    "    print(i, layer.name, \"vars\", len(layer.variables),\"input\", layer.input.shape, \"output\", layer.output.shape)\n",
    "print(\"Q Part 2 Summary\")\n",
    "for i, layer in enumerate(q2_model_part2.layers):\n",
    "    print(i, layer.name, \"vars\", len(layer.variables),\"input\", layer.input.shape, \"output\", layer.output.shape)"
   ]
  },
  {
   "cell_type": "code",
   "execution_count": 49,
   "metadata": {},
   "outputs": [
    {
     "name": "stdout",
     "output_type": "stream",
     "text": [
      "Part 1 Trainable\n",
      "2 quant_conv2d_7 conv2d_7/kernel:0\n",
      "Part 2 Trainable\n",
      "2 quant_conv2d_8 conv2d_8/kernel:0\n",
      "2 quant_conv2d_8 conv2d_8/bias:0\n",
      "4 quant_conv2d_9 conv2d_9/kernel:0\n",
      "4 quant_conv2d_9 conv2d_9/bias:0\n",
      "6 quant_conv2d_10 conv2d_10/kernel:0\n",
      "6 quant_conv2d_10 conv2d_10/bias:0\n",
      "9 quant_dense_last dense_last/kernel:0\n",
      "9 quant_dense_last dense_last/bias:0\n"
     ]
    }
   ],
   "source": [
    "print(\"Part 1 Trainable\")\n",
    "for i, layer in enumerate(q2_model_part1.layers):\n",
    "    for variable in layer.trainable_variables:\n",
    "        print(i, layer.name, variable.name)\n",
    "print(\"Part 2 Trainable\")\n",
    "for i, layer in enumerate(q2_model_part2.layers):\n",
    "    for variable in layer.trainable_variables:\n",
    "        print(i, layer.name, variable.name)"
   ]
  },
  {
   "cell_type": "code",
   "execution_count": 50,
   "metadata": {},
   "outputs": [
    {
     "name": "stdout",
     "output_type": "stream",
     "text": [
      "Part 1 Non Trainable\n",
      "1 quantize_layer_4 quantize_layer_4/quantize_layer_4_min:0\n",
      "1 quantize_layer_4 quantize_layer_4/quantize_layer_4_max:0\n",
      "1 quantize_layer_4 quantize_layer_4/optimizer_step:0\n",
      "2 quant_conv2d_7 quant_conv2d_7/optimizer_step:0\n",
      "2 quant_conv2d_7 quant_conv2d_7/kernel_min:0\n",
      "2 quant_conv2d_7 quant_conv2d_7/kernel_max:0\n",
      "2 quant_conv2d_7 quant_conv2d_7/post_activation_min:0\n",
      "2 quant_conv2d_7 quant_conv2d_7/post_activation_max:0\n"
     ]
    }
   ],
   "source": [
    "print(\"Part 1 Non Trainable\")\n",
    "for i, layer in enumerate(q2_model_part1.layers):\n",
    "    for variable in layer.non_trainable_variables:\n",
    "        print(i, layer.name, variable.name)"
   ]
  },
  {
   "cell_type": "code",
   "execution_count": 51,
   "metadata": {},
   "outputs": [
    {
     "name": "stdout",
     "output_type": "stream",
     "text": [
      "Part 2 Non Trainable\n",
      "1 quantize_layer_5 quantize_layer_5/quantize_layer_5_min:0\n",
      "1 quantize_layer_5 quantize_layer_5/quantize_layer_5_max:0\n",
      "1 quantize_layer_5 quantize_layer_5/optimizer_step:0\n",
      "2 quant_conv2d_8 quant_conv2d_8/optimizer_step:0\n",
      "2 quant_conv2d_8 quant_conv2d_8/kernel_min:0\n",
      "2 quant_conv2d_8 quant_conv2d_8/kernel_max:0\n",
      "2 quant_conv2d_8 quant_conv2d_8/post_activation_min:0\n",
      "2 quant_conv2d_8 quant_conv2d_8/post_activation_max:0\n",
      "3 quant_max_pooling2d_6 quant_max_pooling2d_6/optimizer_step:0\n",
      "4 quant_conv2d_9 quant_conv2d_9/optimizer_step:0\n",
      "4 quant_conv2d_9 quant_conv2d_9/kernel_min:0\n",
      "4 quant_conv2d_9 quant_conv2d_9/kernel_max:0\n",
      "4 quant_conv2d_9 quant_conv2d_9/post_activation_min:0\n",
      "4 quant_conv2d_9 quant_conv2d_9/post_activation_max:0\n",
      "5 quant_max_pooling2d_7 quant_max_pooling2d_7/optimizer_step:0\n",
      "6 quant_conv2d_10 quant_conv2d_10/optimizer_step:0\n",
      "6 quant_conv2d_10 quant_conv2d_10/kernel_min:0\n",
      "6 quant_conv2d_10 quant_conv2d_10/kernel_max:0\n",
      "6 quant_conv2d_10 quant_conv2d_10/post_activation_min:0\n",
      "6 quant_conv2d_10 quant_conv2d_10/post_activation_max:0\n",
      "7 quant_max_pooling2d_8 quant_max_pooling2d_8/optimizer_step:0\n",
      "8 quant_flatten_2 quant_flatten_2/optimizer_step:0\n",
      "9 quant_dense_last quant_dense_last/optimizer_step:0\n",
      "9 quant_dense_last quant_dense_last/kernel_min:0\n",
      "9 quant_dense_last quant_dense_last/kernel_max:0\n",
      "9 quant_dense_last quant_dense_last/pre_activation_min:0\n",
      "9 quant_dense_last quant_dense_last/pre_activation_max:0\n"
     ]
    }
   ],
   "source": [
    "print(\"Part 2 Non Trainable\")\n",
    "for i, layer in enumerate(q2_model_part2.layers):\n",
    "    for variable in layer.non_trainable_variables:\n",
    "        print(i, layer.name, variable.name)"
   ]
  },
  {
   "cell_type": "code",
   "execution_count": 52,
   "metadata": {},
   "outputs": [
    {
     "name": "stdout",
     "output_type": "stream",
     "text": [
      "conv2d_7/kernel:0\n",
      "quant_conv2d_7/optimizer_step:0\n",
      "quant_conv2d_7/kernel_min:0\n",
      "quant_conv2d_7/kernel_max:0\n",
      "quant_conv2d_7/post_activation_min:0\n",
      "quant_conv2d_7/post_activation_max:0\n"
     ]
    }
   ],
   "source": [
    "TARGET_LAYER = 2\n",
    "for variable in q2_model_part1.layers[TARGET_LAYER].variables:\n",
    "    print(variable.name)"
   ]
  },
  {
   "cell_type": "code",
   "execution_count": 87,
   "metadata": {},
   "outputs": [
    {
     "name": "stdout",
     "output_type": "stream",
     "text": [
      "Non quantized model with quantized weights\n",
      "[[-49752. -20120.  19904. -14789.]\n",
      " [-42347.  -4689. -11192. -49368.]\n",
      " [-25282.   7566. -32724. -76665.]\n",
      " [-13269.  28897. -38694. -79868.]]\n",
      "Self quantized\n",
      "[[-49752 -20120  19904 -14789]\n",
      " [-42347  -4689 -11192 -49368]\n",
      " [-25282   7566 -32724 -76665]\n",
      " [-13269  28897 -38694 -79868]]\n"
     ]
    }
   ],
   "source": [
    "# Two part model output\n",
    "TARGET_IMAGE = 300 #100\n",
    "OUT_CHANNEL = 22 #20\n",
    "\n",
    "q_idx_original_part1 = [1, 2]\n",
    "q_idx_original_part2 = list(range(3, 9 + 1))\n",
    "q_idx_new_part2 = list(range(3, 9 + 1))\n",
    "# for i, layer in enumerate(q_aware_model.layers):\n",
    "#     # layer.get_weights()\n",
    "#     if len(layer.get_weights()) != 0:\n",
    "#         print(i)\n",
    "q_weights_1 = [q_aware_model.layers[idx].get_weights() for idx in q_idx_original_part1]\n",
    "q_weights_2 = [q_aware_model.layers[idx].get_weights() for idx in q_idx_original_part2]\n",
    "q_weights_1_1 = q_weights_1[1].pop(1)\n",
    "# print(q_weights_1[1][1])\n",
    "# print(q_weights_1_1)\n",
    "\n",
    "key = keys_list[0]\n",
    "kernel = quantized[key][:,:,0]\n",
    "bias = bias_ints\n",
    "nq2_model_part1.layers[1].set_weights([quantized[key]])\n",
    "# print(nq2_model_part1.layers[1].variables[0])\n",
    "\n",
    "semi_quantized_input_image = np.round(train_images[TARGET_IMAGE]/input_scale).astype(int)\n",
    "quantized_input_image = np.round(train_images[TARGET_IMAGE]/input_scale).astype(int) + input_zero\n",
    "quantized_and_dequantized_input = input_scale*(quantized_input_image - input_zero)\n",
    "\n",
    "out_nq = nq2_model_part1(semi_quantized_input_image[np.newaxis,:])\n",
    "\n",
    "self_conv = sp.signal.correlate2d(quantized_input_image - input_zero, kernel[:,:,OUT_CHANNEL], mode = \"valid\").astype(int)\n",
    "\n",
    "# out_q = q_model_part1(train_images[np.newaxis,TARGET_IMAGE])\n",
    "\n",
    "increment = 4\n",
    "initial_x = 5\n",
    "initial_y = 3\n",
    "sub_pos_x = (initial_x, initial_x + increment)\n",
    "sub_pos_y = (initial_y, initial_y + increment)\n",
    "position = (0, slice(*sub_pos_y), slice(*sub_pos_x), OUT_CHANNEL)\n",
    "print(\"Non quantized model with quantized weights\")\n",
    "print(out_nq[position].numpy())\n",
    "print(\"Self quantized\")\n",
    "print(self_conv[slice(*sub_pos_y), slice(*sub_pos_x)])\n",
    "\n",
    "for i, idx in enumerate(q_idx_original_part1):\n",
    "    q2_model_part1.layers[idx].set_weights(q_weights_1[i])\n",
    "\n",
    "intermediate_max_min = q_aware_model.layers[2].get_weights()[-2:]\n",
    "intermediate_max_min.append(-1)\n",
    "q2_model_part2.layers[1].set_weights(intermediate_max_min)\n",
    "\n",
    "q_weights_1 = [q_aware_model.layers[idx].get_weights() for idx in q_idx_original_part1]\n",
    "q_weights_1[1][0] = np.ones((1,1,32,32))\n",
    "q2_model_part2.layers[2].set_weights(q_weights_1[1])\n",
    "# print(q2_model_part2.layers[2].variables)\n",
    "# print(q_weights_1_1)\n",
    "\n",
    "for i, idx in enumerate(q_idx_new_part2):\n",
    "    q2_model_part2.layers[idx].set_weights(q_weights_2[i])\n",
    "\n",
    "# for variable in q2_model_part1.layers[2].variables[1:]:\n",
    "#     print(variable)"
   ]
  },
  {
   "cell_type": "code",
   "execution_count": 308,
   "metadata": {},
   "outputs": [
    {
     "name": "stdout",
     "output_type": "stream",
     "text": [
      "<tf.Variable 'dense_last/bias:0' shape=(10,) dtype=float32, numpy=\n",
      "array([-0.01815677,  0.01968499,  0.10201531, -0.01608334, -0.20346883,\n",
      "       -0.09949773,  0.05465699,  0.03644126,  0.17258494, -0.07113054],\n",
      "      dtype=float32)>\n",
      "<tf.Variable 'quant_dense_last/optimizer_step:0' shape=() dtype=int32, numpy=-1>\n",
      "<tf.Variable 'quant_dense_last/kernel_min:0' shape=() dtype=float32, numpy=-1.308446>\n",
      "<tf.Variable 'quant_dense_last/kernel_max:0' shape=() dtype=float32, numpy=1.308446>\n",
      "<tf.Variable 'quant_dense_last/pre_activation_min:0' shape=() dtype=float32, numpy=-14.458281>\n",
      "<tf.Variable 'quant_dense_last/pre_activation_max:0' shape=() dtype=float32, numpy=11.440342>\n"
     ]
    }
   ],
   "source": [
    "TARGET_LAYER = 9\n",
    "# for variable in q_aware_model.layers[TARGET_LAYER].variables[4:]:\n",
    "#     print(variable)\n",
    "for variable in q2_model_part2.layers[TARGET_LAYER].variables[1:]:\n",
    "    print(variable)"
   ]
  },
  {
   "cell_type": "code",
   "execution_count": 309,
   "metadata": {},
   "outputs": [
    {
     "name": "stdout",
     "output_type": "stream",
     "text": [
      "original output\n",
      " [[4.1630726e-09 5.6541989e-12 5.6541989e-12 5.6541989e-12 4.1630726e-09\n",
      "  4.9333132e-10 7.9284503e-11 6.4615868e-08 9.9999988e-01 1.2305925e-09]]\n",
      "quantized model output\n",
      " [[1.7768173e-02 1.3565700e-04 2.3306436e-03 3.1608273e-03 6.2239671e-04\n",
      "  4.2867283e-03 1.7768173e-02 5.0724548e-01 4.1400111e-01 3.2680809e-02]]\n",
      "\n",
      "Unique difference quantized [-5.0724542e-01 -3.2680809e-02 -1.7768173e-02 -1.7768169e-02\n",
      " -4.2867279e-03 -3.1608273e-03 -2.3306436e-03 -6.2239252e-04\n",
      " -1.3565700e-04  5.8599877e-01]\n"
     ]
    }
   ],
   "source": [
    "TARGET_IMAGE = 100\n",
    "OUT_CHANNEL = 20\n",
    "\n",
    "out_original = q_aware_model(train_images[np.newaxis,TARGET_IMAGE])\n",
    "out2_q1 = q2_model_part1(train_images[np.newaxis,TARGET_IMAGE])\n",
    "out2_q2 = q2_model_part2(out2_q1)\n",
    "\n",
    "print(\"original output\\n\", out_original .numpy())\n",
    "print(\"quantized model output\\n\", out2_q2.numpy())\n",
    "print(\"\\nUnique difference quantized\", np.unique((out_original - out2_q2).numpy()))"
   ]
  }
 ],
 "metadata": {
  "kernelspec": {
   "display_name": "Python 3.10.4 ('py_master_project')",
   "language": "python",
   "name": "python3"
  },
  "language_info": {
   "codemirror_mode": {
    "name": "ipython",
    "version": 3
   },
   "file_extension": ".py",
   "mimetype": "text/x-python",
   "name": "python",
   "nbconvert_exporter": "python",
   "pygments_lexer": "ipython3",
   "version": "3.10.4"
  },
  "orig_nbformat": 4,
  "vscode": {
   "interpreter": {
    "hash": "27b772b08f604b6b43e5a3a606000b08c03a565bb0332f867b1c8863c689a183"
   }
  }
 },
 "nbformat": 4,
 "nbformat_minor": 2
}
