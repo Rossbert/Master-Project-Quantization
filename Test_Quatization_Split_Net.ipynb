{
 "cells": [
  {
   "cell_type": "code",
   "execution_count": 2,
   "metadata": {},
   "outputs": [
    {
     "data": {
      "text/plain": [
       "\" Parameters to be tuned:\\n- Output file name, if you don't update the name manually the previous file won't be deleted. New data will be appended to the end of the file instead.\\n- Flag that enables training data to be saved, a False flag will decrease running time significantly.\\n- Flag that enables laplacian related data to be saved.\\n- Number of simulations per layer.\\n- Total number of bits that will be flipped randomly from any weight in each layer.\\n\""
      ]
     },
     "execution_count": 2,
     "metadata": {},
     "output_type": "execute_result"
    }
   ],
   "source": [
    "import time\n",
    "import datetime\n",
    "import os\n",
    "import csv\n",
    "import numpy as np\n",
    "import scipy as sp\n",
    "import matplotlib.pyplot as plt\n",
    "import tensorflow as tf\n",
    "import tensorflow_model_optimization as tfmot\n",
    "from collections import OrderedDict\n",
    "from typing import Tuple, List\n",
    "\n",
    "def evaluate_model(interpreter: tf.lite.Interpreter, test_images, test_labels) -> Tuple[float, float]:\n",
    "    \"\"\" Evaluate TFLite Model:\n",
    "    -\n",
    "    Receives the interpreter and returns a tuple of loss and accuracy.\n",
    "    \"\"\"\n",
    "    input_index = interpreter.get_input_details()[0][\"index\"]\n",
    "    output_index = interpreter.get_output_details()[0][\"index\"]\n",
    "\n",
    "    # Run predictions on every image in the \"test\" dataset.\n",
    "    prediction_digits = []\n",
    "    predictions = []\n",
    "    for i, test_image in enumerate(test_images):\n",
    "        # Pre-processing: add batch dimension and convert to float32 to match with the model's input data format.\n",
    "        test_image = np.expand_dims(test_image, axis = 0).astype(np.float32)\n",
    "        test_image = np.expand_dims(test_image, axis = 3).astype(np.float32)\n",
    "        interpreter.set_tensor(input_index, test_image)\n",
    "\n",
    "        # Run inference.\n",
    "        interpreter.invoke()\n",
    "\n",
    "        # Post-processing: remove batch dimension and find the digit with highest probability.\n",
    "        output = interpreter.tensor(output_index)\n",
    "        digit = np.argmax(output()[0])\n",
    "        predictions.append(np.copy(output()[0]))\n",
    "        prediction_digits.append(digit)\n",
    "\n",
    "    # Compare prediction results with ground truth labels to calculate accuracy.\n",
    "    prediction_digits = np.array(prediction_digits)\n",
    "    predictions = np.array(predictions)\n",
    "    scce = tf.keras.losses.SparseCategoricalCrossentropy()(test_labels, predictions)\n",
    "\n",
    "    loss = scce.numpy()\n",
    "    accuracy = (prediction_digits == test_labels).mean()\n",
    "    return loss, accuracy\n",
    "\n",
    "def prob_mass_gen(bits : int) -> Tuple[List[int], List[float]]:\n",
    "    \"\"\" Discrete triangular distribution\n",
    "    -\n",
    "    - Receives the number of bits and calculates the probability mass function \"\"\"\n",
    "    values = np.arange(0, bits)\n",
    "    n = len(values)\n",
    "    p_max = 2/n\n",
    "    m_max = p_max/(n - 1)\n",
    "    # Probability calculation\n",
    "    p = p_max * 1.0\n",
    "    m = 2/(n - 1)*(p - 1/n)\n",
    "    probabilities = [p + m*(i - values[-1]) for i in values]\n",
    "    return values, probabilities\n",
    "\n",
    "def random_bit_flipper(value : int) -> Tuple[int, int]:\n",
    "    \"\"\" Random bit flipper \n",
    "    -\n",
    "    Obtains a value and flips one bit at a random position according to a triangular distribution.\n",
    "    - All values are in 8 bits, MSB have higher probability of getting flipped\n",
    "    - It is assumed value is a signed 8 bit number \"\"\"\n",
    "    bits, probs = prob_mass_gen(8)\n",
    "    bit_pos = np.random.choice(bits, p = probs)\n",
    "    # Negative 2 Complement conversion\n",
    "    if value < 0:\n",
    "        value = (-value ^ 0xFF) + 1\n",
    "    flip_mask = 1 << bit_pos\n",
    "    flipped_value = value ^ flip_mask\n",
    "    # Negative back conversion 2 Complement\n",
    "    if flipped_value >= 128:\n",
    "        flipped_value = -((flipped_value ^ 0xFF) + 1)\n",
    "    return bit_pos, flipped_value\n",
    "\n",
    "def random_bit_flipper_uniform(value : int) -> Tuple[int, int]:\n",
    "    \"\"\" Random bit flipper with uniform distribution\n",
    "    -\n",
    "    Obtains a value and flips one bit at a random position according to a uniform distribution.\n",
    "    - All values are in 8 bits, every bit has the same probability of getting flipped\n",
    "    - It is assumed value is a signed 8 bit number \"\"\"\n",
    "    bit_pos = np.random.randint(8)\n",
    "    # Negative 2 Complement conversion\n",
    "    if value < 0:\n",
    "        value = (-value ^ 0xFF) + 1\n",
    "    flip_mask = 1 << bit_pos\n",
    "    flipped_value = value ^ flip_mask\n",
    "    # Negative back conversion 2 Complement\n",
    "    if flipped_value >= 128:\n",
    "        flipped_value = -((flipped_value ^ 0xFF) + 1)\n",
    "    return bit_pos, flipped_value\n",
    "\n",
    "def n_bit_flipper(value : int, bit_width: int, bit_pos : int) -> int:\n",
    "    \"\"\" Bit flipper n-bit length\n",
    "    -\n",
    "    Obtains a value and flips one bit at the specified position.\n",
    "    - All values are in n bits\n",
    "    - It is assumed value is a signed n bit number \"\"\"\n",
    "    # Negative 2 Complement conversion\n",
    "    mask = 2**bit_width - 1\n",
    "    if value < 0:\n",
    "        value = (-value ^ mask) + 1\n",
    "    flip_mask = 1 << bit_pos\n",
    "    flipped_value = value ^ flip_mask\n",
    "    # Negative back conversion 2 Complement\n",
    "    if flipped_value >= 2**(bit_width - 1):\n",
    "        flipped_value = -((flipped_value ^ mask) + 1)\n",
    "    return flipped_value\n",
    "\n",
    "\"\"\" Parameters to be tuned:\n",
    "- Output file name, if you don't update the name manually the previous file won't be deleted. New data will be appended to the end of the file instead.\n",
    "- Flag that enables training data to be saved, a False flag will decrease running time significantly.\n",
    "- Flag that enables laplacian related data to be saved.\n",
    "- Number of simulations per layer.\n",
    "- Total number of bits that will be flipped randomly from any weight in each layer.\n",
    "\"\"\"\n"
   ]
  },
  {
   "cell_type": "code",
   "execution_count": 3,
   "metadata": {},
   "outputs": [],
   "source": [
    "SAVE_FILE_NAME = 'Performance_Multiple_5.csv'\n",
    "SAVE_TRAINING_PERFORMANCE_FLAG = False\n",
    "SAVE_LAPLACIAN_DATA_FLAG = True\n",
    "N_SIMULATIONS_PER_LAYER = 1\n",
    "N_BITS_TO_FLIP = 10\n",
    "\n",
    "MODELS_DIR = \"./model/\"\n",
    "LOAD_PATH_Q_AWARE = MODELS_DIR + \"model_q_aware_final_01\"\n",
    "LOAD_TFLITE_PATH = MODELS_DIR + 'tflite_final_01.tflite'\n",
    "SAVE_NEW_TFLITE_PATH = MODELS_DIR + 'new_tflite_flip_01.tflite'\n",
    "OUTPUTS_DIR = \"./outputs/\"\n",
    "SAVE_DATA_PATH = OUTPUTS_DIR + SAVE_FILE_NAME\n",
    "\n",
    "if not os.path.exists(OUTPUTS_DIR):\n",
    "    os.mkdir(OUTPUTS_DIR)\n"
   ]
  },
  {
   "cell_type": "code",
   "execution_count": 4,
   "metadata": {},
   "outputs": [
    {
     "name": "stdout",
     "output_type": "stream",
     "text": [
      "(60000, 28, 28)\n",
      "313/313 [==============================] - 2s 5ms/step - loss: 0.2891 - accuracy: 0.9115\n",
      "Q Aware model test accuracy :  91.15%\n",
      "Q Aware model test loss:  0.2890910804271698\n",
      "TFLite model test accuracy: 91.17%\n",
      "TFLite model test loss:  0.3396423\n"
     ]
    }
   ],
   "source": [
    "(train_images, train_labels), (test_images, test_labels) = tf.keras.datasets.fashion_mnist.load_data()\n",
    "print(train_images.shape)\n",
    "train_images = train_images / 255.0\n",
    "test_images = test_images / 255.0\n",
    "\n",
    "# Load Q Aware model\n",
    "q_aware_model : tf.keras.Model\n",
    "with tfmot.quantization.keras.quantize_scope():\n",
    "    q_aware_model = tf.keras.models.load_model(LOAD_PATH_Q_AWARE)\n",
    "# Load TFLite model\n",
    "interpreter = tf.lite.Interpreter(LOAD_TFLITE_PATH)\n",
    "\n",
    "# Evaluate accuracy of both models in test set\n",
    "q_aware_test_loss, q_aware_test_acc = q_aware_model.evaluate(test_images, test_labels)\n",
    "print('Q Aware model test accuracy : ', \"{:0.2%}\".format(q_aware_test_acc))\n",
    "print('Q Aware model test loss: ', q_aware_test_loss)\n",
    "interpreter.allocate_tensors()\n",
    "tflite_test_loss, tflite_test_accuracy = evaluate_model(interpreter, test_images, test_labels)\n",
    "print('TFLite model test accuracy:', \"{:0.2%}\".format(tflite_test_accuracy))\n",
    "print('TFLite model test loss: ', tflite_test_loss)"
   ]
  },
  {
   "cell_type": "code",
   "execution_count": 5,
   "metadata": {},
   "outputs": [
    {
     "name": "stdout",
     "output_type": "stream",
     "text": [
      "Q Aware model summary\n",
      "0 input_1 0 input (None, 28, 28, 1) output (None, 28, 28, 1)\n",
      "1 quantize_layer 3 input (None, 28, 28, 1) output (None, 28, 28, 1)\n",
      "2 quant_conv2d 7 input (None, 28, 28, 1) output (None, 24, 24, 32)\n",
      "3 quant_max_pooling2d 1 input (None, 24, 24, 32) output (None, 12, 12, 32)\n",
      "4 quant_conv2d_1 7 input (None, 12, 12, 32) output (None, 8, 8, 64)\n",
      "5 quant_max_pooling2d_1 1 input (None, 8, 8, 64) output (None, 4, 4, 64)\n",
      "6 quant_conv2d_2 7 input (None, 4, 4, 64) output (None, 2, 2, 96)\n",
      "7 quant_max_pooling2d_2 1 input (None, 2, 2, 96) output (None, 1, 1, 96)\n",
      "8 quant_flatten 1 input (None, 1, 1, 96) output (None, 96)\n",
      "9 quant_dense_last 7 input (None, 96) output (None, 10)\n"
     ]
    }
   ],
   "source": [
    "print(\"Q Aware model summary\")\n",
    "for i, layer in enumerate(q_aware_model.layers):\n",
    "    print(i, layer.name, len(layer.variables),\"input\", layer.input.shape, \"output\", layer.output.shape)"
   ]
  },
  {
   "cell_type": "code",
   "execution_count": 6,
   "metadata": {},
   "outputs": [
    {
     "name": "stdout",
     "output_type": "stream",
     "text": [
      "conv2d/kernel:0\n",
      "conv2d/bias:0\n",
      "quant_conv2d/optimizer_step:0\n",
      "quant_conv2d/kernel_min:0\n",
      "quant_conv2d/kernel_max:0\n",
      "quant_conv2d/post_activation_min:0\n",
      "quant_conv2d/post_activation_max:0\n",
      "[-3.9335735, 4.380244]\n"
     ]
    }
   ],
   "source": [
    "TARGET_LAYER = 2\n",
    "for variable in q_aware_model.layers[TARGET_LAYER].variables:\n",
    "    print(variable.name)\n",
    "vars = [var.numpy() for var in q_aware_model.layers[TARGET_LAYER].non_trainable_variables[-2:]]\n",
    "print(vars)"
   ]
  },
  {
   "cell_type": "code",
   "execution_count": 7,
   "metadata": {},
   "outputs": [
    {
     "name": "stdout",
     "output_type": "stream",
     "text": [
      "Trainable\n",
      "2 quant_conv2d conv2d/kernel:0\n",
      "2 quant_conv2d conv2d/bias:0\n",
      "4 quant_conv2d_1 conv2d_1/kernel:0\n",
      "4 quant_conv2d_1 conv2d_1/bias:0\n",
      "6 quant_conv2d_2 conv2d_2/kernel:0\n",
      "6 quant_conv2d_2 conv2d_2/bias:0\n",
      "9 quant_dense_last dense_last/kernel:0\n",
      "9 quant_dense_last dense_last/bias:0\n"
     ]
    }
   ],
   "source": [
    "print(\"Trainable\")\n",
    "for i, layer in enumerate(q_aware_model.layers):\n",
    "    for variable in layer.trainable_variables:\n",
    "        print(i, layer.name, variable.name)"
   ]
  },
  {
   "cell_type": "code",
   "execution_count": 8,
   "metadata": {},
   "outputs": [
    {
     "name": "stdout",
     "output_type": "stream",
     "text": [
      "Non trainable\n",
      "1 quantize_layer quantize_layer/quantize_layer_min:0\n",
      "1 quantize_layer quantize_layer/quantize_layer_max:0\n",
      "1 quantize_layer quantize_layer/optimizer_step:0\n",
      "2 quant_conv2d quant_conv2d/optimizer_step:0\n",
      "2 quant_conv2d quant_conv2d/kernel_min:0\n",
      "2 quant_conv2d quant_conv2d/kernel_max:0\n",
      "2 quant_conv2d quant_conv2d/post_activation_min:0\n",
      "2 quant_conv2d quant_conv2d/post_activation_max:0\n",
      "3 quant_max_pooling2d quant_max_pooling2d/optimizer_step:0\n",
      "4 quant_conv2d_1 quant_conv2d_1/optimizer_step:0\n",
      "4 quant_conv2d_1 quant_conv2d_1/kernel_min:0\n",
      "4 quant_conv2d_1 quant_conv2d_1/kernel_max:0\n",
      "4 quant_conv2d_1 quant_conv2d_1/post_activation_min:0\n",
      "4 quant_conv2d_1 quant_conv2d_1/post_activation_max:0\n",
      "5 quant_max_pooling2d_1 quant_max_pooling2d_1/optimizer_step:0\n",
      "6 quant_conv2d_2 quant_conv2d_2/optimizer_step:0\n",
      "6 quant_conv2d_2 quant_conv2d_2/kernel_min:0\n",
      "6 quant_conv2d_2 quant_conv2d_2/kernel_max:0\n",
      "6 quant_conv2d_2 quant_conv2d_2/post_activation_min:0\n",
      "6 quant_conv2d_2 quant_conv2d_2/post_activation_max:0\n",
      "7 quant_max_pooling2d_2 quant_max_pooling2d_2/optimizer_step:0\n",
      "8 quant_flatten quant_flatten/optimizer_step:0\n",
      "9 quant_dense_last quant_dense_last/optimizer_step:0\n",
      "9 quant_dense_last quant_dense_last/kernel_min:0\n",
      "9 quant_dense_last quant_dense_last/kernel_max:0\n",
      "9 quant_dense_last quant_dense_last/pre_activation_min:0\n",
      "9 quant_dense_last quant_dense_last/pre_activation_max:0\n"
     ]
    }
   ],
   "source": [
    "print(\"Non trainable\")\n",
    "for i, layer in enumerate(q_aware_model.layers):\n",
    "    for variable in layer.non_trainable_variables:\n",
    "        print(i, layer.name, variable.name)"
   ]
  },
  {
   "cell_type": "code",
   "execution_count": 9,
   "metadata": {},
   "outputs": [],
   "source": [
    "input_layer = tf.keras.layers.Input(shape = (28, 28, 1))\n",
    "conv_1 = tf.keras.layers.Conv2D(32, 5, use_bias = True, activation = 'relu')(input_layer)\n",
    "\n",
    "input_layer_2 = tf.keras.layers.Input(shape = (24, 24, 32))\n",
    "pool_1 = tf.keras.layers.MaxPool2D(pool_size = 2, strides = 2)(input_layer_2)\n",
    "conv_2 = tf.keras.layers.Conv2D(64, 5, use_bias = True, activation = 'relu')(pool_1)\n",
    "pool_2 = tf.keras.layers.MaxPool2D(pool_size = 2, strides = 2)(conv_2)\n",
    "conv_3 = tf.keras.layers.Conv2D(96, 3, use_bias = True, activation = 'relu')(pool_2)\n",
    "pool_3 = tf.keras.layers.MaxPool2D(pool_size = 2, strides = 2)(conv_3)\n",
    "flat_1 = tf.keras.layers.Flatten()(pool_3)\n",
    "dense_out = tf.keras.layers.Dense(10, activation = 'softmax', name = \"dense_last\")(flat_1)\n",
    "\n",
    "nq_model_part1 = tf.keras.models.Model(inputs = input_layer, outputs = conv_1)\n",
    "nq_model_part2 = tf.keras.models.Model(inputs = input_layer_2, outputs = dense_out)"
   ]
  },
  {
   "cell_type": "code",
   "execution_count": 10,
   "metadata": {},
   "outputs": [],
   "source": [
    "# Quantification of values\n",
    "BIT_WIDTH = 8\n",
    "quantized_and_dequantized = OrderedDict()\n",
    "quantized = OrderedDict()\n",
    "layer_index_list = []\n",
    "keys_list = []\n",
    "layers_shapes = []\n",
    "\n",
    "layer : tfmot.quantization.keras.QuantizeWrapperV2\n",
    "for i, layer in enumerate(q_aware_model.layers):\n",
    "    quantizer : tfmot.quantization.keras.quantizers.Quantizer\n",
    "    weight : tf.Variable\n",
    "    if hasattr(layer, '_weight_vars'):\n",
    "        for weight, quantizer, quantizer_vars in layer._weight_vars:\n",
    "            min_var = quantizer_vars['min_var']\n",
    "            max_var = quantizer_vars['max_var']\n",
    "            \n",
    "            key = weight.name[:-2]\n",
    "            layer_index_list.append(i)\n",
    "            keys_list.append(key)\n",
    "            layers_shapes.append(weight.numpy().shape)\n",
    "            quantized_and_dequantized[key] = quantizer(inputs = weight, training = False, weights = quantizer_vars)\n",
    "            quantized[key] = np.round(quantized_and_dequantized[key] / max_var * (2**(BIT_WIDTH-1)-1))"
   ]
  },
  {
   "cell_type": "code",
   "execution_count": 11,
   "metadata": {},
   "outputs": [
    {
     "name": "stdout",
     "output_type": "stream",
     "text": [
      "<dtype: 'float32'>\n",
      "<dtype: 'float32'>\n",
      "float32\n",
      "float32\n",
      "float32\n",
      "float32\n"
     ]
    }
   ],
   "source": [
    "# Extraction of all scales and quantized values\n",
    "T_VARIABLES_KERNEL_INDEX = 0\n",
    "T_VARIABLES_BIAS_INDEX = 1\n",
    "new_layer_index_list = []\n",
    "new_keys_list = []\n",
    "input_scales = OrderedDict()\n",
    "kernel_scales = OrderedDict()\n",
    "bias_scales = OrderedDict()\n",
    "output_scales = OrderedDict()\n",
    "\n",
    "kernel_max_vars = OrderedDict()\n",
    "kernel_min_vars = OrderedDict()\n",
    "quantized_bias = OrderedDict()\n",
    "quantized_and_dequantized_weights = OrderedDict()\n",
    "quantized_weights = OrderedDict()\n",
    "\n",
    "for i, layer in enumerate(q_aware_model.layers):\n",
    "    layer_flag = False\n",
    "    for nt_variable in layer.non_trainable_variables:\n",
    "        if (\"quantize_layer\" in nt_variable.name or \"kernel\" in nt_variable.name) and not layer_flag:\n",
    "            new_layer_index_list.append(i)\n",
    "            new_keys_list.append(layer.name)\n",
    "            layer_flag = True\n",
    "\n",
    "for i, index in enumerate(new_layer_index_list):\n",
    "    key = new_keys_list[i]\n",
    "    for nt_variable in q_aware_model.layers[index].non_trainable_variables:\n",
    "        # First layer (Quantization Layer) does not have input scale\n",
    "        if i == 0:\n",
    "            if \"quantize_layer\" in nt_variable.name and \"min\" in nt_variable.name:\n",
    "                min_var = nt_variable\n",
    "            if \"quantize_layer\" in nt_variable.name and \"max\" in nt_variable.name:\n",
    "                max_var = nt_variable\n",
    "        else:\n",
    "            if \"activation_min\" in nt_variable.name:\n",
    "                min_var = nt_variable\n",
    "            if \"activation_max\" in nt_variable.name:\n",
    "                max_var = nt_variable\n",
    "            if \"kernel_min\" in nt_variable.name:\n",
    "                kernel_min_var = nt_variable\n",
    "            if \"kernel_max\" in nt_variable.name:\n",
    "                kernel_max_var = nt_variable\n",
    "    if i != 0:\n",
    "        kernel_max_vars[key] = kernel_max_var\n",
    "        kernel_min_vars[key] = kernel_min_var\n",
    "        input_scales[key] = output_scales[new_keys_list[i - 1]]\n",
    "        kernel_scales[key] = (kernel_max_var - kernel_min_var).numpy()/(2**BIT_WIDTH - 2)\n",
    "        bias_scales[key] = input_scales[key]*kernel_scales[key]\n",
    "    output_scales[key] = ((max_var - min_var).numpy()/(2**BIT_WIDTH - 1)).astype(np.float32)\n",
    "\n",
    "\n",
    "for i, index in enumerate(new_layer_index_list):\n",
    "    key = new_keys_list[i]\n",
    "    if len(q_aware_model.layers[index].trainable_variables) != 0:\n",
    "        quantized_bias[key] = np.round(q_aware_model.layers[index].trainable_variables[T_VARIABLES_BIAS_INDEX].numpy()/bias_scales[key]).astype(int)\n",
    "        if \"conv2d\" in key:\n",
    "            quantized_and_dequantized_weights[key] = tf.quantization.fake_quant_with_min_max_vars_per_channel(q_aware_model.layers[index].trainable_variables[T_VARIABLES_KERNEL_INDEX], kernel_min_vars[key], kernel_max_vars[key], BIT_WIDTH, narrow_range = True)\n",
    "        elif \"dense\" in key:\n",
    "            quantized_and_dequantized_weights[key] = tf.quantization.fake_quant_with_min_max_vars(q_aware_model.layers[index].trainable_variables[T_VARIABLES_KERNEL_INDEX], kernel_min_vars[key], kernel_max_vars[key], BIT_WIDTH, narrow_range = True)\n",
    "        quantized_weights[key] = np.round(quantized_and_dequantized_weights[key] / kernel_scales[key]).astype(int)\n",
    "        # quantized_weights[key] = np.round(q_aware_model.layers[index].trainable_variables[T_VARIABLES_KERNEL_INDEX].numpy()/kernel_scales[key]).astype(int) # Does not work properly\n",
    "\n",
    "# print(new_keys_list)\n",
    "# print(new_layer_index_list)\n",
    "\n",
    "# print(\"Input scales\", input_scales)\n",
    "# print(\"Output scales\", output_scales)\n",
    "# print(\"Kernel scales\", kernel_scales)\n",
    "# print(\"Bias scales\", bias_scales)\n",
    "\n",
    "# print(\"Quantized weights difference\", np.unique(quantized_weights[new_keys_list[4]] - quantized[keys_list[3]]))\n",
    "# print(\"Quantized weights\", quantized_weights)\n",
    "# print(\"Quantized biases\", quantized_bias)\n",
    "\n",
    "print(kernel_min_vars[new_keys_list[1]].dtype)\n",
    "print(kernel_max_vars[new_keys_list[1]].dtype)\n",
    "print(input_scales[new_keys_list[1]].dtype)\n",
    "print(kernel_scales[new_keys_list[1]].dtype)\n",
    "print(bias_scales[new_keys_list[1]].dtype)\n",
    "print(output_scales[new_keys_list[1]].dtype)"
   ]
  },
  {
   "cell_type": "code",
   "execution_count": 12,
   "metadata": {},
   "outputs": [
    {
     "name": "stdout",
     "output_type": "stream",
     "text": [
      "Part 1 Summary\n",
      "0 input_1 0 input (None, 28, 28, 1) output (None, 28, 28, 1)\n",
      "1 conv2d 2 input (None, 28, 28, 1) output (None, 24, 24, 32)\n",
      "Part 2 Summary\n",
      "0 input_2 0 input (None, 24, 24, 32) output (None, 24, 24, 32)\n",
      "1 max_pooling2d 0 input (None, 24, 24, 32) output (None, 12, 12, 32)\n",
      "2 conv2d_1 2 input (None, 12, 12, 32) output (None, 8, 8, 64)\n",
      "3 max_pooling2d_1 0 input (None, 8, 8, 64) output (None, 4, 4, 64)\n",
      "4 conv2d_2 2 input (None, 4, 4, 64) output (None, 2, 2, 96)\n",
      "5 max_pooling2d_2 0 input (None, 2, 2, 96) output (None, 1, 1, 96)\n",
      "6 flatten 0 input (None, 1, 1, 96) output (None, 96)\n",
      "7 dense_last 2 input (None, 96) output (None, 10)\n"
     ]
    }
   ],
   "source": [
    "print(\"Part 1 Summary\")\n",
    "for i, layer in enumerate(nq_model_part1.layers):\n",
    "    print(i, layer.name, len(layer.variables),\"input\", layer.input.shape, \"output\", layer.output.shape)\n",
    "print(\"Part 2 Summary\")\n",
    "for i, layer in enumerate(nq_model_part2.layers):\n",
    "    print(i, layer.name, len(layer.variables),\"input\", layer.input.shape, \"output\", layer.output.shape)"
   ]
  },
  {
   "cell_type": "code",
   "execution_count": 13,
   "metadata": {},
   "outputs": [
    {
     "name": "stdout",
     "output_type": "stream",
     "text": [
      "Part 1 Trainable\n",
      "1 conv2d conv2d/kernel:0\n",
      "1 conv2d conv2d/bias:0\n",
      "Part 1 Non Trainable\n",
      "Part 2 Trainable\n",
      "2 conv2d_1 conv2d_1/kernel:0\n",
      "2 conv2d_1 conv2d_1/bias:0\n",
      "4 conv2d_2 conv2d_2/kernel:0\n",
      "4 conv2d_2 conv2d_2/bias:0\n",
      "7 dense_last dense_last/kernel:0\n",
      "7 dense_last dense_last/bias:0\n",
      "Part 2 Non Trainable\n"
     ]
    }
   ],
   "source": [
    "print(\"Part 1 Trainable\")\n",
    "for i, layer in enumerate(nq_model_part1.layers):\n",
    "    for variable in layer.trainable_variables:\n",
    "        print(i, layer.name, variable.name)\n",
    "print(\"Part 1 Non Trainable\")\n",
    "for i, layer in enumerate(nq_model_part1.layers):\n",
    "    for variable in layer.non_trainable_variables:\n",
    "        print(i, layer.name, variable.name)\n",
    "print(\"Part 2 Trainable\")\n",
    "for i, layer in enumerate(nq_model_part2.layers):\n",
    "    for variable in layer.trainable_variables:\n",
    "        print(i, layer.name, variable.name)\n",
    "print(\"Part 2 Non Trainable\")\n",
    "for i, layer in enumerate(nq_model_part2.layers):\n",
    "    for variable in layer.non_trainable_variables:\n",
    "        print(i, layer.name, variable.name)"
   ]
  },
  {
   "cell_type": "code",
   "execution_count": 14,
   "metadata": {},
   "outputs": [
    {
     "name": "stdout",
     "output_type": "stream",
     "text": [
      "[2, 4, 6, 9]\n",
      "[[-0.07918215 -0.01161032  0.07245282]\n",
      " [ 0.00061669 -0.22089666 -0.01293123]\n",
      " [ 0.03844265  0.06296697  0.14747679]]\n",
      "[[-0.07918215 -0.01161032  0.07245282]\n",
      " [ 0.00061669 -0.22089666 -0.01293123]\n",
      " [ 0.03844265  0.06296697  0.14747679]]\n",
      "[ 0.02969096  0.01373224 -0.25231063 -0.01235129 -0.03170829]\n",
      "[ 0.02969096  0.01373224 -0.25231063 -0.01235129 -0.03170829]\n",
      "[[ 0.00423666 -0.10165723 -0.21178155]\n",
      " [-0.1674046  -0.30126658 -0.01047609]\n",
      " [-0.1538336  -0.02137352 -0.08994394]]\n",
      "[[ 0.00423666 -0.10165723 -0.21178155]\n",
      " [-0.1674046  -0.30126658 -0.01047609]\n",
      " [-0.1538336  -0.02137352 -0.08994394]]\n",
      "[-0.0156321  -0.01641378 -0.03496066 -0.13640228  0.00386511]\n",
      "[-0.0156321  -0.01641378 -0.03496066 -0.13640228  0.00386511]\n"
     ]
    }
   ],
   "source": [
    "print(layer_index_list)\n",
    "indexes_part1 = [1]\n",
    "indexes_part2 = [2, 4, 7]\n",
    "weights_1 = q_aware_model.layers[layer_index_list[0]].get_weights()\n",
    "weights_2 = [q_aware_model.layers[idx].get_weights() for idx in layer_index_list[1:]]\n",
    "# print([variable.name for variable in q_aware_model.layers[layer_index_list[0]].trainable_variables])\n",
    "for idx in indexes_part1:\n",
    "    nq_model_part1.layers[idx].set_weights(weights_1[:2])\n",
    "for i, idx in enumerate(indexes_part2):\n",
    "    nq_model_part2.layers[idx].set_weights(weights_2[i][:2])\n",
    "\n",
    "print(q_aware_model.layers[layer_index_list[0]].trainable_variables[0][:3,:3,0,5].numpy())\n",
    "print(nq_model_part1.layers[1].variables[0][:3,:3,0,5].numpy())\n",
    "print(q_aware_model.layers[layer_index_list[0]].trainable_variables[1][:5].numpy())\n",
    "print(nq_model_part1.layers[1].variables[1][:5].numpy())\n",
    "\n",
    "print(q_aware_model.layers[layer_index_list[2]].trainable_variables[0][:3,:3,0,15].numpy())\n",
    "print(nq_model_part2.layers[4].variables[0][:3,:3,0,15].numpy())\n",
    "print(q_aware_model.layers[layer_index_list[2]].trainable_variables[1][:5].numpy())\n",
    "print(nq_model_part2.layers[4].variables[1][:5].numpy())"
   ]
  },
  {
   "cell_type": "code",
   "execution_count": 15,
   "metadata": {},
   "outputs": [
    {
     "name": "stdout",
     "output_type": "stream",
     "text": [
      "train images shape (60000, 28, 28)\n",
      "out images shape (1, 24, 24, 32)\n"
     ]
    },
    {
     "data": {
      "image/png": "[encoded data removed]",
      "text/plain": [
       "<Figure size 650x200 with 3 Axes>"
      ]
     },
     "metadata": {},
     "output_type": "display_data"
    },
    {
     "name": "stdout",
     "output_type": "stream",
     "text": [
      "[[0.02695452 0.02885798 0.00449268 0.02263477]\n",
      " [0.03401939 0.024934   0.00543544 0.        ]\n",
      " [0.04594108 0.         0.0026864  0.        ]\n",
      " [0.02412694 0.         0.         0.        ]]\n",
      "[[0.02695452 0.02885798 0.00449269 0.02263477]\n",
      " [0.0340194  0.024934   0.00543544 0.        ]\n",
      " [0.04594108 0.         0.0026864  0.        ]\n",
      " [0.02412694 0.         0.         0.        ]]\n"
     ]
    }
   ],
   "source": [
    "# Test to replicate the behaviour of first layer\n",
    "TARGET_IMAGE = 1074\n",
    "TARGET_LAYER_FOO = 1\n",
    "T_VARIABLES_KERNEL_INDEX = 0\n",
    "T_VARIABLES_BIAS_INDEX = 1\n",
    "OUT_CHANNEL = 23\n",
    "\n",
    "foo_image = np.zeros((28,28))\n",
    "foo_image[4,4] = 1\n",
    "\n",
    "out = nq_model_part1(train_images[np.newaxis,TARGET_IMAGE])\n",
    "# out = nq_model_part1(foo_image[np.newaxis])\n",
    "\n",
    "kernel = nq_model_part1.layers[TARGET_LAYER_FOO].trainable_variables[T_VARIABLES_KERNEL_INDEX][:,:,0,OUT_CHANNEL].numpy()\n",
    "bias = nq_model_part1.layers[TARGET_LAYER_FOO].trainable_variables[T_VARIABLES_BIAS_INDEX][OUT_CHANNEL].numpy()\n",
    "\n",
    "# self_conv = sp.signal.correlate2d(foo_image, kernel, mode = \"valid\") + bias\n",
    "self_conv = sp.signal.correlate2d(train_images[TARGET_IMAGE], kernel, mode = \"valid\") + bias\n",
    "self_conv = np.maximum(0, self_conv)\n",
    "print(\"train images shape\", train_images.shape)\n",
    "print(\"out images shape\", out.shape)\n",
    "\n",
    "fig, ax = plt.subplots(1, 3, figsize = (6.5, 2))\n",
    "ax[0].imshow(train_images[TARGET_IMAGE], cmap = 'Greys')\n",
    "# ax[0].imshow(foo_image, cmap = 'Greys')\n",
    "ax[0].set_title('original input')\n",
    "ax[0].axis('equal')\n",
    "ax[0].set(xlim = (0, train_images.shape[-2:][0]), ylim = (train_images.shape[-2:][1], 0))\n",
    "\n",
    "ax[1].imshow(out[0,:,:,OUT_CHANNEL], cmap = 'Greys')\n",
    "ax[1].set_title('first layer output')\n",
    "ax[1].axis('equal')\n",
    "ax[1].set(xlim = (0, out.shape[1:3][0]), ylim = (out.shape[1:3][1], 0))\n",
    "\n",
    "ax[2].imshow(self_conv, cmap = 'Greys')\n",
    "ax[2].set_title('self convolution')\n",
    "ax[2].axis('equal')\n",
    "ax[2].set(xlim = (0, out.shape[1:3][0]), ylim = (out.shape[1:3][1], 0))\n",
    "plt.show()\n",
    "plt.close()\n",
    "\n",
    "slicer = slice(None,4)\n",
    "print(self_conv[(slicer,slicer)])\n",
    "print(out[(0,slicer,slicer,OUT_CHANNEL)].numpy())"
   ]
  },
  {
   "cell_type": "code",
   "execution_count": 16,
   "metadata": {},
   "outputs": [
    {
     "name": "stdout",
     "output_type": "stream",
     "text": [
      "[0.] [0.] [0.] [0.] [0.] [0.] [0.] [0.] [0.] [0.]\n"
     ]
    }
   ],
   "source": [
    "KERNEL_INDEX = 0\n",
    "BIAS_INDEX = 1\n",
    "original_layer_vars = [[variable.numpy() for variable in q_aware_model.layers[idx].trainable_variables] for idx in layer_index_list]\n",
    "\n",
    "print(np.unique((nq_model_part1.layers[indexes_part1[0]].variables[KERNEL_INDEX] - original_layer_vars[0][KERNEL_INDEX]).numpy()),\n",
    "np.unique((nq_model_part1.layers[indexes_part1[0]].variables[BIAS_INDEX] - original_layer_vars[0][BIAS_INDEX]).numpy()),\n",
    "\n",
    "np.unique((nq_model_part2.layers[indexes_part2[0]].variables[KERNEL_INDEX] - original_layer_vars[1][KERNEL_INDEX]).numpy()),\n",
    "np.unique((nq_model_part2.layers[indexes_part2[0]].variables[BIAS_INDEX] - original_layer_vars[1][BIAS_INDEX]).numpy()),\n",
    "\n",
    "np.unique((nq_model_part2.layers[indexes_part2[1]].variables[KERNEL_INDEX] - original_layer_vars[2][KERNEL_INDEX]).numpy()),\n",
    "np.unique((nq_model_part2.layers[indexes_part2[1]].variables[BIAS_INDEX] - original_layer_vars[2][BIAS_INDEX]).numpy()),\n",
    "\n",
    "np.unique((nq_model_part2.layers[indexes_part2[1]].variables[KERNEL_INDEX] - original_layer_vars[2][KERNEL_INDEX]).numpy()),\n",
    "np.unique((nq_model_part2.layers[indexes_part2[1]].variables[BIAS_INDEX] - original_layer_vars[2][BIAS_INDEX]).numpy()),\n",
    "\n",
    "np.unique((nq_model_part2.layers[indexes_part2[2]].variables[KERNEL_INDEX] - original_layer_vars[3][KERNEL_INDEX]).numpy()),\n",
    "np.unique((nq_model_part2.layers[indexes_part2[2]].variables[BIAS_INDEX] - original_layer_vars[3][BIAS_INDEX]).numpy()),\n",
    ")"
   ]
  },
  {
   "cell_type": "code",
   "execution_count": 17,
   "metadata": {},
   "outputs": [
    {
     "name": "stdout",
     "output_type": "stream",
     "text": [
      "Q Part 1 Summary\n",
      "0 input_1 vars 0 input (None, 28, 28, 1) output (None, 28, 28, 1)\n",
      "1 quantize_layer vars 3 input (None, 28, 28, 1) output (None, 28, 28, 1)\n",
      "2 quant_conv2d vars 7 input (None, 28, 28, 1) output (None, 24, 24, 32)\n",
      "Q Part 2 Summary\n",
      "0 input_2 vars 0 input (None, 24, 24, 32) output (None, 24, 24, 32)\n",
      "1 quantize_layer_1 vars 3 input (None, 24, 24, 32) output (None, 24, 24, 32)\n",
      "2 quant_max_pooling2d vars 1 input (None, 24, 24, 32) output (None, 12, 12, 32)\n",
      "3 quant_conv2d_1 vars 7 input (None, 12, 12, 32) output (None, 8, 8, 64)\n",
      "4 quant_max_pooling2d_1 vars 1 input (None, 8, 8, 64) output (None, 4, 4, 64)\n",
      "5 quant_conv2d_2 vars 7 input (None, 4, 4, 64) output (None, 2, 2, 96)\n",
      "6 quant_max_pooling2d_2 vars 1 input (None, 2, 2, 96) output (None, 1, 1, 96)\n",
      "7 quant_flatten vars 1 input (None, 1, 1, 96) output (None, 96)\n",
      "8 quant_dense_last vars 7 input (None, 96) output (None, 10)\n"
     ]
    }
   ],
   "source": [
    "q_model_part1 = tfmot.quantization.keras.quantize_model(nq_model_part1)\n",
    "q_model_part2 = tfmot.quantization.keras.quantize_model(nq_model_part2)\n",
    "print(\"Q Part 1 Summary\")\n",
    "for i, layer in enumerate(q_model_part1.layers):\n",
    "    print(i, layer.name, \"vars\", len(layer.variables),\"input\", layer.input.shape, \"output\", layer.output.shape)\n",
    "print(\"Q Part 2 Summary\")\n",
    "for i, layer in enumerate(q_model_part2.layers):\n",
    "    print(i, layer.name, \"vars\", len(layer.variables),\"input\", layer.input.shape, \"output\", layer.output.shape)"
   ]
  },
  {
   "cell_type": "code",
   "execution_count": 18,
   "metadata": {},
   "outputs": [
    {
     "name": "stdout",
     "output_type": "stream",
     "text": [
      "Part 1 Trainable\n",
      "2 quant_conv2d conv2d/kernel:0\n",
      "2 quant_conv2d conv2d/bias:0\n",
      "Part 2 Trainable\n",
      "3 quant_conv2d_1 conv2d_1/kernel:0\n",
      "3 quant_conv2d_1 conv2d_1/bias:0\n",
      "5 quant_conv2d_2 conv2d_2/kernel:0\n",
      "5 quant_conv2d_2 conv2d_2/bias:0\n",
      "8 quant_dense_last dense_last/kernel:0\n",
      "8 quant_dense_last dense_last/bias:0\n"
     ]
    }
   ],
   "source": [
    "print(\"Part 1 Trainable\")\n",
    "for i, layer in enumerate(q_model_part1.layers):\n",
    "    for variable in layer.trainable_variables:\n",
    "        print(i, layer.name, variable.name)\n",
    "print(\"Part 2 Trainable\")\n",
    "for i, layer in enumerate(q_model_part2.layers):\n",
    "    for variable in layer.trainable_variables:\n",
    "        print(i, layer.name, variable.name)"
   ]
  },
  {
   "cell_type": "code",
   "execution_count": 19,
   "metadata": {},
   "outputs": [
    {
     "name": "stdout",
     "output_type": "stream",
     "text": [
      "Part 1 Non Trainable\n",
      "1 quantize_layer quantize_layer/quantize_layer_min:0\n",
      "1 quantize_layer quantize_layer/quantize_layer_max:0\n",
      "1 quantize_layer quantize_layer/optimizer_step:0\n",
      "2 quant_conv2d quant_conv2d/optimizer_step:0\n",
      "2 quant_conv2d quant_conv2d/kernel_min:0\n",
      "2 quant_conv2d quant_conv2d/kernel_max:0\n",
      "2 quant_conv2d quant_conv2d/post_activation_min:0\n",
      "2 quant_conv2d quant_conv2d/post_activation_max:0\n"
     ]
    }
   ],
   "source": [
    "print(\"Part 1 Non Trainable\")\n",
    "for i, layer in enumerate(q_model_part1.layers):\n",
    "    for variable in layer.non_trainable_variables:\n",
    "        print(i, layer.name, variable.name)"
   ]
  },
  {
   "cell_type": "code",
   "execution_count": 20,
   "metadata": {},
   "outputs": [
    {
     "name": "stdout",
     "output_type": "stream",
     "text": [
      "Part 2 Non Trainable\n",
      "1 quantize_layer_1 quantize_layer_1/quantize_layer_1_min:0\n",
      "1 quantize_layer_1 quantize_layer_1/quantize_layer_1_max:0\n",
      "1 quantize_layer_1 quantize_layer_1/optimizer_step:0\n",
      "2 quant_max_pooling2d quant_max_pooling2d/optimizer_step:0\n",
      "3 quant_conv2d_1 quant_conv2d_1/optimizer_step:0\n",
      "3 quant_conv2d_1 quant_conv2d_1/kernel_min:0\n",
      "3 quant_conv2d_1 quant_conv2d_1/kernel_max:0\n",
      "3 quant_conv2d_1 quant_conv2d_1/post_activation_min:0\n",
      "3 quant_conv2d_1 quant_conv2d_1/post_activation_max:0\n",
      "4 quant_max_pooling2d_1 quant_max_pooling2d_1/optimizer_step:0\n",
      "5 quant_conv2d_2 quant_conv2d_2/optimizer_step:0\n",
      "5 quant_conv2d_2 quant_conv2d_2/kernel_min:0\n",
      "5 quant_conv2d_2 quant_conv2d_2/kernel_max:0\n",
      "5 quant_conv2d_2 quant_conv2d_2/post_activation_min:0\n",
      "5 quant_conv2d_2 quant_conv2d_2/post_activation_max:0\n",
      "6 quant_max_pooling2d_2 quant_max_pooling2d_2/optimizer_step:0\n",
      "7 quant_flatten quant_flatten/optimizer_step:0\n",
      "8 quant_dense_last quant_dense_last/optimizer_step:0\n",
      "8 quant_dense_last quant_dense_last/kernel_min:0\n",
      "8 quant_dense_last quant_dense_last/kernel_max:0\n",
      "8 quant_dense_last quant_dense_last/pre_activation_min:0\n",
      "8 quant_dense_last quant_dense_last/pre_activation_max:0\n"
     ]
    }
   ],
   "source": [
    "print(\"Part 2 Non Trainable\")\n",
    "for i, layer in enumerate(q_model_part2.layers):\n",
    "    for variable in layer.non_trainable_variables:\n",
    "        print(i, layer.name, variable.name)"
   ]
  },
  {
   "cell_type": "code",
   "execution_count": 21,
   "metadata": {},
   "outputs": [
    {
     "name": "stdout",
     "output_type": "stream",
     "text": [
      "[0.] [0.] [0] [0.] [0.] [0] [0.] [0.] [0.] [0.] [-3.9335735] [4.380244] [-1] [0] [0.] [0.] [0] [0.] [0.] [0.] [0.] [0] [0.] [0.] [0] [0.] [0.] [0.] [0.] [0] [0] [0.] [0.] [0] [0.] [0.] [0.] [0.]\n"
     ]
    }
   ],
   "source": [
    "# Assignation of values to first divided model both parts quantized\n",
    "q_indexes_part1 = [1, 2]\n",
    "q_indexes_part2 = list(range(3, 9 + 1))\n",
    "q_indexes_part2_2 = list(range(2, 8 + 1))\n",
    "# for i, layer in enumerate(q_aware_model.layers):\n",
    "#     # layer.get_weights()\n",
    "#     if len(layer.get_weights()) != 0:\n",
    "#         print(i)\n",
    "q_weights_1 = [q_aware_model.layers[idx].get_weights() for idx in q_indexes_part1]\n",
    "q_weights_2 = [q_aware_model.layers[idx].get_weights() for idx in q_indexes_part2]\n",
    "# print(q_weights_1[0])\n",
    "for i, idx in enumerate(q_indexes_part1):\n",
    "    q_model_part1.layers[idx].set_weights(q_weights_1[i])\n",
    "intermediate_max_min = q_aware_model.layers[2].get_weights()[-2:]\n",
    "intermediate_max_min.append(-1)\n",
    "q_model_part2.layers[1].set_weights(intermediate_max_min)\n",
    "for i, idx in enumerate(q_indexes_part2_2):\n",
    "    q_model_part2.layers[idx].set_weights(q_weights_2[i])\n",
    "\n",
    "KERNEL_INDEX = 0\n",
    "BIAS_INDEX = 1\n",
    "# print(q_model_part1.layers[q_indexes_part1[1]].variables)\n",
    "# print(q_aware_model.layers[q_indexes_part1[1]].variables)\n",
    "print(np.unique((q_model_part1.layers[q_indexes_part1[0]].variables[0] - q_aware_model.layers[q_indexes_part1[0]].variables[0]).numpy()),\n",
    "np.unique((q_model_part1.layers[q_indexes_part1[0]].variables[1] - q_aware_model.layers[q_indexes_part1[0]].variables[1]).numpy()),\n",
    "np.unique((q_model_part1.layers[q_indexes_part1[0]].variables[2] - q_aware_model.layers[q_indexes_part1[0]].variables[2]).numpy()),\n",
    "\n",
    "np.unique((q_model_part1.layers[q_indexes_part1[1]].variables[0] - q_aware_model.layers[q_indexes_part1[1]].variables[0]).numpy()),\n",
    "np.unique((q_model_part1.layers[q_indexes_part1[1]].variables[1] - q_aware_model.layers[q_indexes_part1[1]].variables[1]).numpy()),\n",
    "np.unique((q_model_part1.layers[q_indexes_part1[1]].variables[2] - q_aware_model.layers[q_indexes_part1[1]].variables[2]).numpy()),\n",
    "np.unique((q_model_part1.layers[q_indexes_part1[1]].variables[3] - q_aware_model.layers[q_indexes_part1[1]].variables[3]).numpy()),\n",
    "np.unique((q_model_part1.layers[q_indexes_part1[1]].variables[4] - q_aware_model.layers[q_indexes_part1[1]].variables[4]).numpy()),\n",
    "np.unique((q_model_part1.layers[q_indexes_part1[1]].variables[5] - q_aware_model.layers[q_indexes_part1[1]].variables[5]).numpy()),\n",
    "np.unique((q_model_part1.layers[q_indexes_part1[1]].variables[6] - q_aware_model.layers[q_indexes_part1[1]].variables[6]).numpy()),\n",
    "\n",
    "np.unique(q_model_part2.layers[1].variables[0].numpy()),\n",
    "np.unique(q_model_part2.layers[1].variables[1].numpy()),\n",
    "np.unique(q_model_part2.layers[1].variables[2].numpy()),\n",
    "\n",
    "np.unique((q_model_part2.layers[q_indexes_part2_2[0]].variables[0] - q_aware_model.layers[q_indexes_part2[0]].variables[0]).numpy()),\n",
    "\n",
    "np.unique((q_model_part2.layers[q_indexes_part2_2[1]].variables[0] - q_aware_model.layers[q_indexes_part2[1]].variables[0]).numpy()),\n",
    "np.unique((q_model_part2.layers[q_indexes_part2_2[1]].variables[1] - q_aware_model.layers[q_indexes_part2[1]].variables[1]).numpy()),\n",
    "np.unique((q_model_part2.layers[q_indexes_part2_2[1]].variables[2] - q_aware_model.layers[q_indexes_part2[1]].variables[2]).numpy()),\n",
    "np.unique((q_model_part2.layers[q_indexes_part2_2[1]].variables[3] - q_aware_model.layers[q_indexes_part2[1]].variables[3]).numpy()),\n",
    "np.unique((q_model_part2.layers[q_indexes_part2_2[1]].variables[4] - q_aware_model.layers[q_indexes_part2[1]].variables[4]).numpy()),\n",
    "np.unique((q_model_part2.layers[q_indexes_part2_2[1]].variables[5] - q_aware_model.layers[q_indexes_part2[1]].variables[5]).numpy()),\n",
    "np.unique((q_model_part2.layers[q_indexes_part2_2[1]].variables[6] - q_aware_model.layers[q_indexes_part2[1]].variables[6]).numpy()),\n",
    "\n",
    "np.unique((q_model_part2.layers[q_indexes_part2_2[2]].variables[0] - q_aware_model.layers[q_indexes_part2[2]].variables[0]).numpy()),\n",
    "\n",
    "np.unique((q_model_part2.layers[q_indexes_part2_2[3]].variables[0] - q_aware_model.layers[q_indexes_part2[3]].variables[0]).numpy()),\n",
    "np.unique((q_model_part2.layers[q_indexes_part2_2[3]].variables[1] - q_aware_model.layers[q_indexes_part2[3]].variables[1]).numpy()),\n",
    "np.unique((q_model_part2.layers[q_indexes_part2_2[3]].variables[2] - q_aware_model.layers[q_indexes_part2[3]].variables[2]).numpy()),\n",
    "np.unique((q_model_part2.layers[q_indexes_part2_2[3]].variables[3] - q_aware_model.layers[q_indexes_part2[3]].variables[3]).numpy()),\n",
    "np.unique((q_model_part2.layers[q_indexes_part2_2[3]].variables[4] - q_aware_model.layers[q_indexes_part2[3]].variables[4]).numpy()),\n",
    "np.unique((q_model_part2.layers[q_indexes_part2_2[3]].variables[5] - q_aware_model.layers[q_indexes_part2[3]].variables[5]).numpy()),\n",
    "np.unique((q_model_part2.layers[q_indexes_part2_2[3]].variables[6] - q_aware_model.layers[q_indexes_part2[3]].variables[6]).numpy()),\n",
    "\n",
    "np.unique((q_model_part2.layers[q_indexes_part2_2[4]].variables[0] - q_aware_model.layers[q_indexes_part2[4]].variables[0]).numpy()),\n",
    "\n",
    "np.unique((q_model_part2.layers[q_indexes_part2_2[5]].variables[0] - q_aware_model.layers[q_indexes_part2[5]].variables[0]).numpy()),\n",
    "\n",
    "np.unique((q_model_part2.layers[q_indexes_part2_2[6]].variables[0] - q_aware_model.layers[q_indexes_part2[6]].variables[0]).numpy()),\n",
    "np.unique((q_model_part2.layers[q_indexes_part2_2[6]].variables[1] - q_aware_model.layers[q_indexes_part2[6]].variables[1]).numpy()),\n",
    "np.unique((q_model_part2.layers[q_indexes_part2_2[6]].variables[2] - q_aware_model.layers[q_indexes_part2[6]].variables[2]).numpy()),\n",
    "np.unique((q_model_part2.layers[q_indexes_part2_2[6]].variables[3] - q_aware_model.layers[q_indexes_part2[6]].variables[3]).numpy()),\n",
    "np.unique((q_model_part2.layers[q_indexes_part2_2[6]].variables[4] - q_aware_model.layers[q_indexes_part2[6]].variables[4]).numpy()),\n",
    "np.unique((q_model_part2.layers[q_indexes_part2_2[6]].variables[5] - q_aware_model.layers[q_indexes_part2[6]].variables[5]).numpy()),\n",
    "np.unique((q_model_part2.layers[q_indexes_part2_2[6]].variables[6] - q_aware_model.layers[q_indexes_part2[6]].variables[6]).numpy()),\n",
    ")"
   ]
  },
  {
   "cell_type": "code",
   "execution_count": 22,
   "metadata": {},
   "outputs": [
    {
     "name": "stdout",
     "output_type": "stream",
     "text": [
      "original output\n",
      " [[1.8473416e-09 9.9999988e-01 2.5903853e-08 4.0264447e-10 5.8375569e-08\n",
      "  5.6541989e-12 1.2723472e-08 5.6541989e-12 2.6821853e-10 5.6541989e-12]]\n",
      "non quantized model output\n",
      " [[1.4625762e-15 1.0000000e+00 7.5149568e-15 4.2900803e-17 9.2893006e-14\n",
      "  1.2390763e-24 2.8898564e-15 5.6050442e-23 1.1157035e-16 4.4603877e-22]]\n",
      "quantized model output\n",
      " [[1.8473416e-09 9.9999988e-01 2.5903853e-08 4.0264447e-10 5.8375569e-08\n",
      "  5.6541989e-12 1.2723472e-08 5.6541989e-12 2.6821853e-10 5.6541989e-12]]\n",
      "\n",
      "Unique difference non quantized [-1.1920929e-07  5.6541989e-12  2.6821842e-10  4.0264442e-10\n",
      "  1.8473402e-09  1.2723469e-08  2.5903846e-08  5.8375477e-08]\n",
      "Unique difference quantized [0.]\n"
     ]
    }
   ],
   "source": [
    "# Test compare inference both original and parts-model\n",
    "TARGET_IMAGE = 2100\n",
    "out_original = q_aware_model(train_images[np.newaxis,TARGET_IMAGE])\n",
    "\n",
    "# Does not yield the same results\n",
    "out_1 = nq_model_part1(train_images[np.newaxis,TARGET_IMAGE])\n",
    "out_2 = nq_model_part2(out_1)\n",
    "\n",
    "# Yields the same results\n",
    "out_3 = q_model_part1(train_images[np.newaxis,TARGET_IMAGE])\n",
    "out_4 = q_model_part2(out_3)\n",
    "\n",
    "print(\"original output\\n\", out_original .numpy())\n",
    "print(\"non quantized model output\\n\", out_2.numpy())\n",
    "print(\"quantized model output\\n\", out_4.numpy())\n",
    "print(\"\\nUnique difference non quantized\", np.unique((out_original - out_2).numpy()))\n",
    "print(\"Unique difference quantized\", np.unique((out_original - out_4).numpy()))"
   ]
  },
  {
   "cell_type": "code",
   "execution_count": 23,
   "metadata": {},
   "outputs": [
    {
     "name": "stdout",
     "output_type": "stream",
     "text": [
      "quantize_layer\n",
      "quant_conv2d\n",
      "input scale 0.00392156862745098\n",
      "input zero -128\n",
      "kernel scales [0.00329171 0.00318886 0.00154461 0.00221212 0.00216033 0.00173925\n",
      " 0.00257462 0.00135561 0.00259043 0.00228444 0.01463084 0.00207081\n",
      " 0.00626407 0.00238244 0.01474832 0.00248384 0.00260051 0.00279522\n",
      " 0.00929473 0.002684   0.00207167 0.0020169  0.00217691 0.00185296\n",
      " 0.00304491 0.00207702 0.0010245  0.00203166 0.00265791 0.00135298\n",
      " 0.00273699 0.00247921]\n",
      "bias scales [1.2908661e-05 1.2505331e-05 6.0573111e-06 8.6749860e-06 8.4718740e-06\n",
      " 6.8206023e-06 1.0096539e-05 5.3161089e-06 1.0158549e-05 8.9585819e-06\n",
      " 5.7375863e-05 8.1208136e-06 2.4564994e-05 9.3428880e-06 5.7836533e-05\n",
      " 9.7405646e-06 1.0198080e-05 1.0961662e-05 3.6449925e-05 1.0525496e-05\n",
      " 8.1241951e-06 7.9094089e-06 8.5368883e-06 7.2664952e-06 1.1940828e-05\n",
      " 8.1451790e-06 4.0176528e-06 7.9673073e-06 1.0423187e-05 5.3058229e-06\n",
      " 1.0733294e-05 9.7224120e-06]\n",
      "activation scale 0.03260320401659199\n",
      "activation zero -7\n",
      "bias [  2300   1098 -41654  -1424  -3743 -19204  -1805   3815  -1373  -1241\n",
      "   4801   -235   4490  -1226   5328  -3315    819   1959   4093   -688\n",
      "  -2146   1330  -3142   3709  -2705  18189 -55454  -1871     36 -43575\n",
      "   1414   -575]\n",
      "bias ['0x8fc', '0x44a', '0xffff5d4a', '0xfffffa70', '0xfffff161', '0xffffb4fc', '0xfffff8f3', '0xee7', '0xfffffaa3', '0xfffffb27', '0x12c1', '0xffffff15', '0x118a', '0xfffffb36', '0x14d0', '0xfffff30d', '0x333', '0x7a7', '0xffd', '0xfffffd50', '0xfffff79e', '0x532', '0xfffff3ba', '0xe7d', '0xfffff56f', '0x470d', '0xffff2762', '0xfffff8b1', '0x24', '0xffff55c9', '0x586', '0xfffffdc1']\n"
     ]
    }
   ],
   "source": [
    "# Extraction of scales and bias of first layer calculation\n",
    "INPUT_LAYER = 1\n",
    "CONV1_LAYER = 2\n",
    "BIT_WIDTH = 8\n",
    "BIAS_BIT_WIDTH = 32\n",
    "T_VARIABLES_KERNEL_INDEX = 0\n",
    "T_VARIABLES_BIAS_INDEX = 1\n",
    "\n",
    "print(q_aware_model.layers[INPUT_LAYER].name)\n",
    "vars_input = {variable.name: variable.numpy() for i, variable in enumerate(q_aware_model.layers[INPUT_LAYER].non_trainable_variables) if \"min\" in variable.name or \"max\" in variable.name}\n",
    "# print(vars_input)\n",
    "quantize_keys_input = [key for key in vars_input if \"quantize\" in key]\n",
    "kernel_keys_input = [key for key in vars_input if \"kernel\" in key]\n",
    "activation_keys_input = [key for key in vars_input if \"activation\" in key]\n",
    "if len(quantize_keys_input) != 0:\n",
    "    min_quantize_key_input, = tuple(key for key in quantize_keys_input if \"min\" in key)\n",
    "    max_quantize_key_input, = tuple(key for key in quantize_keys_input if \"max\" in key)\n",
    "else:\n",
    "    min_quantize_key_input = None\n",
    "    max_quantize_key_input = None\n",
    "if len(kernel_keys_input) != 0:\n",
    "    min_kernel_key_input, = tuple(key for key in kernel_keys_input if \"min\" in key)\n",
    "    max_kernel_key_input, = tuple(key for key in kernel_keys_input if \"max\" in key)\n",
    "else:\n",
    "    min_kernel_key_input = None\n",
    "    max_kernel_key_input = None\n",
    "if len(activation_keys_input) != 0:\n",
    "    min_activ_key_input, = tuple(key for key in activation_keys_input if \"min\" in key)\n",
    "    max_activ_key_input, = tuple(key for key in activation_keys_input if \"max\" in key)\n",
    "else:\n",
    "    min_activ_key_input = None\n",
    "    max_activ_key_input = None\n",
    "\n",
    "print(q_aware_model.layers[CONV1_LAYER].name)\n",
    "vars_conv1 = {variable.name: variable.numpy() for i, variable in enumerate(q_aware_model.layers[CONV1_LAYER].non_trainable_variables) if \"min\" in variable.name or \"max\" in variable.name}\n",
    "# print(vars_conv1)\n",
    "quantize_keys_conv1 = [key for key in vars_conv1 if \"quantize\" in key]\n",
    "kernel_keys_conv1 = [key for key in vars_conv1 if \"kernel\" in key]\n",
    "activation_keys_conv1 = [key for key in vars_conv1 if \"activation\" in key]\n",
    "if len(quantize_keys_conv1) != 0:\n",
    "    min_quantize_key_conv1, = tuple(key for key in quantize_keys_conv1 if \"min\" in key)\n",
    "    max_quantize_key_conv1, = tuple(key for key in quantize_keys_conv1 if \"max\" in key)\n",
    "else:\n",
    "    min_quantize_key_conv1 = None\n",
    "    max_quantize_key_conv1 = None\n",
    "if len(kernel_keys_conv1) != 0:\n",
    "    min_kernel_key_conv1, = tuple(key for key in kernel_keys_conv1 if \"min\" in key)\n",
    "    max_kernel_key_conv1, = tuple(key for key in kernel_keys_conv1 if \"max\" in key)\n",
    "else:\n",
    "    min_kernel_key_conv1 = None\n",
    "    max_kernel_key_conv1 = None\n",
    "if len(activation_keys_conv1) != 0:\n",
    "    min_activ_key_conv1, = tuple(key for key in activation_keys_conv1 if \"min\" in key)\n",
    "    max_activ_key_conv1, = tuple(key for key in activation_keys_conv1 if \"max\" in key)\n",
    "else:\n",
    "    min_activ_key_conv1 = None\n",
    "    max_activ_key_conv1 = None\n",
    "\n",
    "input_min = vars_input.get(min_quantize_key_input)\n",
    "input_max = vars_input.get(max_quantize_key_input)\n",
    "kernel_min = vars_conv1.get(min_kernel_key_conv1)\n",
    "kernel_max = vars_conv1.get(max_kernel_key_conv1)\n",
    "activation_min = vars_conv1.get(min_activ_key_conv1)\n",
    "activation_max = vars_conv1.get(max_activ_key_conv1)\n",
    "\n",
    "# Input scales and zeros\n",
    "input_scale = (input_max - input_min) / (2**BIT_WIDTH - 1)\n",
    "input_zero = np.round(2**(BIT_WIDTH - 1) - 1 - input_max/input_scale).astype(int)\n",
    "# Kernel and biases scales\n",
    "# kernel_scales = (kernel_max - kernel_min) / (2**BIT_WIDTH - 2)\n",
    "kernel_scales = kernel_max / (2**(BIT_WIDTH - 1) - 1)\n",
    "bias_scales_first_layer = input_scale * kernel_scales\n",
    "# Output scale and zero\n",
    "activation_scale = (activation_max - activation_min) / (2**BIT_WIDTH - 1)\n",
    "activation_zero = np.round(2**(BIT_WIDTH - 1) - 1 - activation_max/activation_scale).astype(int)\n",
    "\n",
    "print(\"input scale\", input_scale)\n",
    "print(\"input zero\", input_zero)\n",
    "print(\"kernel scales\", kernel_scales)\n",
    "print(\"bias scales\", bias_scales_first_layer)\n",
    "print(\"activation scale\", activation_scale)\n",
    "print(\"activation zero\", activation_zero)\n",
    "\n",
    "bias_ints = np.round(q_aware_model.layers[CONV1_LAYER].trainable_variables[T_VARIABLES_BIAS_INDEX].numpy() / bias_scales_first_layer).astype(int)\n",
    "print(\"bias\", bias_ints)\n",
    "print(\"bias\", [hex(bias) if bias > 0 else hex((-bias ^ 0xFFFFFFFF) + 1) for bias in bias_ints])\n"
   ]
  },
  {
   "cell_type": "code",
   "execution_count": 24,
   "metadata": {},
   "outputs": [
    {
     "name": "stdout",
     "output_type": "stream",
     "text": [
      "[[-128   33   19   32   42]\n",
      " [-126   47   18   17   40]\n",
      " [ -93   49   27   12   23]\n",
      " [ -69   42   25   13   -8]\n",
      " [ -49   17   32   86   -5]]\n",
      "Unique difference between image and quantized and dequantized image [0.00000000e+00 2.77555756e-17 5.55111512e-17 1.11022302e-16]\n"
     ]
    },
    {
     "data": {
      "image/png": "[encoded data removed]",
      "text/plain": [
       "<Figure size 450x200 with 2 Axes>"
      ]
     },
     "metadata": {},
     "output_type": "display_data"
    }
   ],
   "source": [
    "# Test compare inference both original and parts-model\n",
    "TARGET_IMAGE = 10\n",
    "TARGET_LAYER_FOO = 1\n",
    "T_VARIABLES_KERNEL_INDEX = 0\n",
    "T_VARIABLES_BIAS_INDEX = 1\n",
    "OUT_CHANNEL = 29\n",
    "slicer = slice(4,9)\n",
    "quantized_input_image = np.round(train_images[np.newaxis,TARGET_IMAGE]/input_scale).astype(int) + input_zero\n",
    "quantized_and_dequantized_input = input_scale*(quantized_input_image - input_zero)\n",
    "\n",
    "print(quantized_input_image[0,slicer,slicer])\n",
    "print(\"Unique difference between image and quantized and dequantized image\", np.unique(train_images[TARGET_IMAGE] - quantized_and_dequantized_input[0,:,:]))\n",
    "\n",
    "fig, ax = plt.subplots(1, 2, figsize = (4.5, 2))\n",
    "\n",
    "ax[0].imshow(train_images[TARGET_IMAGE], cmap = 'Greys')\n",
    "ax[0].set_title('Non quantized model')\n",
    "ax[0].axis('equal')\n",
    "ax[0].set(xlim = (0, out.shape[1:3][0]), ylim = (out.shape[1:3][1], 0))\n",
    "\n",
    "ax[1].imshow(quantized_and_dequantized_input[0,:,:], cmap = 'Greys')\n",
    "ax[1].set_title('Quantized dequantized model')\n",
    "ax[1].axis('equal')\n",
    "ax[1].set(xlim = (0, out.shape[1:3][0]), ylim = (out.shape[1:3][1], 0))\n",
    "plt.show()\n",
    "plt.close()\n"
   ]
  },
  {
   "cell_type": "code",
   "execution_count": 25,
   "metadata": {},
   "outputs": [
    {
     "name": "stdout",
     "output_type": "stream",
     "text": [
      "[[0.         0.         0.         0.0326032  0.0326032 ]\n",
      " [0.         0.         0.         0.         0.0326032 ]\n",
      " [0.         0.         0.         0.         0.        ]\n",
      " [0.16301602 0.16301602 0.06520641 0.         0.        ]\n",
      " [0.26082563 0.29342884 0.19561923 0.13041282 0.        ]]\n",
      "[[0.         0.         0.         0.01980133 0.03946471]\n",
      " [0.         0.         0.         0.         0.01970583]\n",
      " [0.         0.         0.         0.         0.        ]\n",
      " [0.15172531 0.17578722 0.07327872 0.00453648 0.        ]\n",
      " [0.24928348 0.3046126  0.20572267 0.12452766 0.        ]]\n"
     ]
    },
    {
     "data": {
      "image/png": "[encoded data removed]",
      "text/plain": [
       "<Figure size 450x200 with 2 Axes>"
      ]
     },
     "metadata": {},
     "output_type": "display_data"
    }
   ],
   "source": [
    "# Test outputs with quantization and NO post activation quantization\n",
    "out_original = q_aware_model(train_images[np.newaxis,TARGET_IMAGE])\n",
    "\n",
    "# Two part model output\n",
    "out_3 = q_model_part1(train_images[np.newaxis,TARGET_IMAGE])\n",
    "out_4 = q_model_part2(out_3)\n",
    "\n",
    "# First layer\n",
    "key = keys_list[0]\n",
    "\n",
    "kernel = quantized[key][:,:,0,OUT_CHANNEL]\n",
    "bias = bias_ints[OUT_CHANNEL]\n",
    "\n",
    "# self_conv = sp.signal.correlate2d(foo_image, kernel, mode = \"valid\") + bias\n",
    "self_conv = sp.signal.correlate2d(quantized_input_image[0] - input_zero, kernel, mode = \"valid\").astype(int) + bias\n",
    "self_conv = np.maximum(0, self_conv)\n",
    "\n",
    "self_conv_float = bias_scales_first_layer[OUT_CHANNEL]*self_conv\n",
    "print(out_3[0,slicer,slicer,OUT_CHANNEL].numpy())\n",
    "print(self_conv_float[slicer,slicer])\n",
    "\n",
    "fig, ax = plt.subplots(1, 2, figsize = (4.5, 2))\n",
    "\n",
    "ax[0].imshow(out_3[0,:,:,OUT_CHANNEL], cmap = 'Greys')\n",
    "ax[0].set_title('Quantized model')\n",
    "ax[0].axis('equal')\n",
    "ax[0].set(xlim = (0, out.shape[1:3][0]), ylim = (out.shape[1:3][1], 0))\n",
    "\n",
    "ax[1].imshow(self_conv_float[:,:], cmap = 'Greys')\n",
    "ax[1].set_title('Self quantized model with scipy')\n",
    "ax[1].axis('equal')\n",
    "ax[1].set(xlim = (0, out.shape[1:3][0]), ylim = (out.shape[1:3][1], 0))\n",
    "plt.show()\n",
    "plt.close()\n"
   ]
  },
  {
   "cell_type": "code",
   "execution_count": 26,
   "metadata": {},
   "outputs": [
    {
     "name": "stdout",
     "output_type": "stream",
     "text": [
      "Quantized model\n",
      "[[0.         0.         0.13041282 0.        ]\n",
      " [0.         0.         0.         0.        ]\n",
      " [0.         0.0326032  0.         0.        ]\n",
      " [0.         0.22822243 0.         0.        ]]\n",
      "Self quantized model no activation\n",
      "[[0.         0.         0.14309532 0.        ]\n",
      " [0.         0.         0.         0.        ]\n",
      " [0.         0.03776719 0.         0.        ]\n",
      " [0.         0.21986756 0.         0.        ]]\n",
      "Difference between original input no normalization and quantized input\n",
      "[0]\n",
      "Self quantized with activation\n",
      "[[0.         0.         0.13041282 0.        ]\n",
      " [0.         0.         0.         0.        ]\n",
      " [0.         0.0326032  0.         0.        ]\n",
      " [0.         0.22822243 0.         0.        ]]\n"
     ]
    }
   ],
   "source": [
    "# Two part model output Test against quantized model with post activation quantization included\n",
    "TARGET_IMAGE = 5300 #100\n",
    "OUT_CHANNEL = 22 #20\n",
    "\n",
    "(train_images_2, train_labels_2), (test_images_2, test_labels_2) = tf.keras.datasets.fashion_mnist.load_data()\n",
    "\n",
    "quantized_input_image = np.round(train_images[TARGET_IMAGE]/input_scale).astype(int) + input_zero\n",
    "quantized_and_dequantized_input = input_scale*(quantized_input_image - input_zero)\n",
    "\n",
    "out_nq = nq_model_part1(train_images[np.newaxis,TARGET_IMAGE])\n",
    "out_q = q_model_part1(train_images[np.newaxis,TARGET_IMAGE])\n",
    "\n",
    "increment = 4\n",
    "initial_x = 5\n",
    "initial_y = 3\n",
    "sub_pos_x = (initial_x, initial_x + increment)\n",
    "sub_pos_y = (initial_y, initial_y + increment)\n",
    "position = (0, slice(*sub_pos_y), slice(*sub_pos_x), OUT_CHANNEL)\n",
    "# print(\"Original input\")\n",
    "# print(train_images[TARGET_IMAGE, slice(*sub_pos_y), slice(*sub_pos_x)])\n",
    "# print(\"Quantized input\")\n",
    "# print(quantized_and_dequantized_input[slice(*sub_pos_y), slice(*sub_pos_x)])\n",
    "print(\"Quantized model\")\n",
    "print(out_q[position].numpy())\n",
    "\n",
    "# First layer\n",
    "key = keys_list[0]\n",
    "kernel = quantized[key][:,:,0]\n",
    "bias = bias_ints\n",
    "# print(kernel.shape)\n",
    "# print(bias.shape)\n",
    "\n",
    "conv_array = []\n",
    "for channel in range(kernel.shape[-1]):\n",
    "    self_conv = sp.signal.correlate2d(quantized_input_image - input_zero, kernel[:,:,channel], mode = \"valid\").astype(int) + bias[channel]\n",
    "    self_conv = np.maximum(0, self_conv)\n",
    "    float_conv = bias_scales_first_layer[channel]*self_conv\n",
    "    conv_array.append(float_conv)\n",
    "out_conv = np.array(conv_array)\n",
    "out_conv = np.moveaxis(out_conv, 0, 2)\n",
    "\n",
    "print(\"Self quantized model no activation\")\n",
    "print(out_conv[position[1:]])\n",
    "\n",
    "print(\"Difference between original input no normalization and quantized input\")\n",
    "print(np.unique(train_images_2[TARGET_IMAGE] - (quantized_input_image - input_zero)))\n",
    "\n",
    "out_conv_3 = out_conv\n",
    "out_conv_3 = activation_scale * np.round(out_conv_3 / activation_scale)\n",
    "print(\"Self quantized with activation\")\n",
    "print(out_conv_3[position[1:]])"
   ]
  },
  {
   "cell_type": "code",
   "execution_count": 27,
   "metadata": {},
   "outputs": [],
   "source": [
    "# Mixed model practice First part no bias, Second part with bias\n",
    "input_layer = tf.keras.layers.Input(shape = (28, 28, 1))\n",
    "conv_1_1 = tf.keras.layers.Conv2D(32, 5, use_bias = False, activation = None)(input_layer)\n",
    "conv_1_1_2 = tf.keras.layers.Conv2D(32, 5, use_bias = True, activation = 'relu')(input_layer)\n",
    "\n",
    "nq2_model_part1 = tf.keras.models.Model(inputs = input_layer, outputs = conv_1_1)\n",
    "nq2_model2_part1 = tf.keras.models.Model(inputs = input_layer, outputs = conv_1_1_2)"
   ]
  },
  {
   "cell_type": "code",
   "execution_count": 28,
   "metadata": {},
   "outputs": [
    {
     "name": "stdout",
     "output_type": "stream",
     "text": [
      "Part 1 Summary\n",
      "0 input_3 0 input (None, 28, 28, 1) output (None, 28, 28, 1)\n",
      "1 conv2d_3 1 input (None, 28, 28, 1) output (None, 24, 24, 32)\n"
     ]
    }
   ],
   "source": [
    "print(\"Part 1 Summary\")\n",
    "for i, layer in enumerate(nq2_model_part1.layers):\n",
    "    print(i, layer.name, len(layer.variables),\"input\", layer.input.shape, \"output\", layer.output.shape)"
   ]
  },
  {
   "cell_type": "code",
   "execution_count": 29,
   "metadata": {},
   "outputs": [
    {
     "name": "stdout",
     "output_type": "stream",
     "text": [
      "Non quantized model with quantized weights and quantized input\n",
      "[[-35042.   9846.  19631.  20150.]\n",
      " [-40184.  12607.  10848.  15334.]\n",
      " [-45388.  29371.   2536.   8055.]\n",
      " [-31863.  31451.   2903.   4584.]]\n",
      "Self quantized\n",
      "[[-35042   9846  19631  20150]\n",
      " [-40184  12607  10848  15334]\n",
      " [-45388  29371   2536   8055]\n",
      " [-31863  31451   2903   4584]]\n",
      "Self quantized with biases\n",
      "[[    0  6704 16489 17008]\n",
      " [    0  9465  7706 12192]\n",
      " [    0 26229     0  4913]\n",
      " [    0 28309     0  1442]]\n",
      "Layers usage\n",
      "[[    0.  6704. 16489. 17008.]\n",
      " [    0.  9465.  7706. 12192.]\n",
      " [    0. 26229.     0.  4913.]\n",
      " [    0. 28309.     0.  1442.]]\n",
      "Non quantized model 2 with quantized weights and biases and quantized input\n",
      "[[    0.  6704. 16489. 17008.]\n",
      " [    0.  9465.  7706. 12192.]\n",
      " [    0. 26229.     0.  4913.]\n",
      " [    0. 28309.     0.  1442.]]\n"
     ]
    }
   ],
   "source": [
    "# Assignation of weights and testing mixed model\n",
    "TARGET_IMAGE = 6300 #100\n",
    "OUT_CHANNEL = 22 #20\n",
    "\n",
    "q_idx_original_part1 = [1, 2]\n",
    "q_idx_original_part2 = list(range(3, 9 + 1))\n",
    "q_idx_new_part2 = list(range(3, 9 + 1))\n",
    "# for i, layer in enumerate(q_aware_model.layers):\n",
    "#     # layer.get_weights()\n",
    "#     if len(layer.get_weights()) != 0:\n",
    "#         print(i)\n",
    "q_weights_1 = [q_aware_model.layers[idx].get_weights() for idx in q_idx_original_part1]\n",
    "q_weights_2 = [q_aware_model.layers[idx].get_weights() for idx in q_idx_original_part2]\n",
    "q_weights_1_1 = q_weights_1[1].pop(1)\n",
    "# print(q_weights_1[1][1])\n",
    "# print(q_weights_1_1)\n",
    "\n",
    "key = keys_list[0]\n",
    "kernel = quantized[key][:,:,0]\n",
    "bias = bias_ints\n",
    "nq2_model_part1.layers[1].set_weights([quantized[key]])\n",
    "nq2_model2_part1.layers[1].set_weights([quantized[key], bias])\n",
    "# print(nq2_model_part1.layers[1].variables[0])\n",
    "\n",
    "semi_quantized_input_image = np.round(train_images[TARGET_IMAGE]/input_scale).astype(int)\n",
    "quantized_input_image = np.round(train_images[TARGET_IMAGE]/input_scale).astype(int) + input_zero\n",
    "quantized_and_dequantized_input = input_scale*(quantized_input_image - input_zero)\n",
    "\n",
    "out_nq2 = nq2_model_part1(semi_quantized_input_image[np.newaxis,:])\n",
    "out_nq22 = nq2_model2_part1(semi_quantized_input_image[np.newaxis,:])\n",
    "\n",
    "self_conv = sp.signal.correlate2d(quantized_input_image - input_zero, kernel[:,:,OUT_CHANNEL], mode = \"valid\").astype(int)\n",
    "self_activ = np.maximum(0, self_conv + bias[OUT_CHANNEL])\n",
    "\n",
    "# out_q = q_model_part1(train_images[np.newaxis,TARGET_IMAGE])\n",
    "\n",
    "increment = 4\n",
    "initial_x = 5\n",
    "initial_y = 3\n",
    "sub_pos_x = (initial_x, initial_x + increment)\n",
    "sub_pos_y = (initial_y, initial_y + increment)\n",
    "position = (0, slice(*sub_pos_y), slice(*sub_pos_x), OUT_CHANNEL)\n",
    "print(\"Non quantized model with quantized weights and quantized input\")\n",
    "print(out_nq2[position].numpy())\n",
    "print(\"Self quantized\")\n",
    "print(self_conv[slice(*sub_pos_y), slice(*sub_pos_x)])\n",
    "print(\"Self quantized with biases\")\n",
    "print(self_activ[slice(*sub_pos_y), slice(*sub_pos_x)])\n",
    "print(\"Layers usage\")\n",
    "print(tf.nn.relu(tf.nn.bias_add(out_nq2, bias))[position].numpy())\n",
    "print(\"Non quantized model 2 with quantized weights and biases and quantized input\")\n",
    "print(out_nq22[position].numpy())\n"
   ]
  },
  {
   "cell_type": "code",
   "execution_count": 30,
   "metadata": {},
   "outputs": [
    {
     "name": "stdout",
     "output_type": "stream",
     "text": [
      "[[0.         0.06520641 0.13041282 0.13041282]\n",
      " [0.         0.06520641 0.06520641 0.09780961]\n",
      " [0.         0.22822243 0.         0.0326032 ]\n",
      " [0.         0.22822243 0.         0.        ]]\n",
      "(1, 28, 28)\n",
      "[[0.         0.06520641 0.13041282 0.13041282]\n",
      " [0.         0.06520641 0.06520641 0.09780961]\n",
      " [0.         0.22822243 0.         0.0326032 ]\n",
      " [0.         0.22822243 0.         0.        ]]\n",
      "[-0.0326032  0.       ]\n"
     ]
    }
   ],
   "source": [
    "print(activation_scale * np.round(bias_scales_first_layer[OUT_CHANNEL] * out_nq22[position].numpy() / activation_scale))\n",
    "print(train_images[np.newaxis,TARGET_IMAGE].shape)\n",
    "out_pt1 = q_model_part1(train_images[np.newaxis,TARGET_IMAGE])\n",
    "print(out_pt1[position].numpy())\n",
    "print(np.unique(activation_scale * np.round(bias_scales_first_layer * out_nq22.numpy() / activation_scale) - out_pt1.numpy()))"
   ]
  },
  {
   "cell_type": "code",
   "execution_count": 99,
   "metadata": {},
   "outputs": [
    {
     "name": "stdout",
     "output_type": "stream",
     "text": [
      "tf.Tensor(\n",
      "[[7.1383256e-05 6.0325971e-07 1.9709682e-04 1.2281805e-06 9.9949563e-01\n",
      "  1.5581294e-08 1.9709682e-04 1.0379360e-08 3.5062109e-05 1.8437242e-06]], shape=(1, 10), dtype=float32)\n",
      "tf.Tensor(\n",
      "[[7.1383256e-05 6.0325971e-07 1.9709682e-04 1.2281805e-06 9.9949563e-01\n",
      "  1.5581294e-08 1.9709682e-04 1.0379360e-08 3.5062109e-05 1.8437242e-06]], shape=(1, 10), dtype=float32)\n",
      "[0.]\n"
     ]
    }
   ],
   "source": [
    "# Two part model output\n",
    "TARGET_IMAGE = 6300 #100\n",
    "OUT_CHANNEL = 22 #20\n",
    "\n",
    "semi_quantized_input_image = np.round(train_images[TARGET_IMAGE]/input_scale).astype(int)\n",
    "out_nq2 = nq2_model_part1(semi_quantized_input_image[np.newaxis,:])\n",
    "out_nq2 = tf.nn.relu(tf.nn.bias_add(out_nq2, bias))\n",
    "out_nq2 = activation_scale * np.round(bias_scales_first_layer * out_nq2 / activation_scale)\n",
    "out_q4 = q_model_part2(out_nq2)\n",
    "\n",
    "out_test = q_aware_model(train_images[np.newaxis,TARGET_IMAGE])\n",
    "\n",
    "print(out_q4)\n",
    "print(out_test)\n",
    "print(np.unique(out_test - out_q4))"
   ]
  },
  {
   "cell_type": "code",
   "execution_count": 100,
   "metadata": {},
   "outputs": [],
   "source": [
    "def mix_split_models_generator(q_aware_model : tf.keras.Model, quantized_weights: OrderedDict, keys_list: List):\n",
    "    r\"\"\" Mixed model generation\n",
    "    -\n",
    "    Generates first model as non quantized and second model as quantized.\n",
    "    - First\n",
    "    - Second \"\"\"\n",
    "    INDEX_FIRST_LAYER_KEY_LIST = 1\n",
    "    INDEX_FIRST_CONV_ORIGINAL_MODEL = 2\n",
    "    INDEX_FIRST_CONV_PT1_MODEL = 1\n",
    "    INDEX_QUANTIZE_LAYER_PT2_MODEL = 1\n",
    "    PT2_LENGTH = len(q_aware_model.layers) - 3\n",
    "    START_INDEX_ORIGINAL_MODEL_PT2 = 3\n",
    "    START_INDEX_PT2_MODEL = 2\n",
    "\n",
    "    input_layer = tf.keras.layers.Input(shape = (28, 28, 1))\n",
    "    conv_1 = tf.keras.layers.Conv2D(32, 5, use_bias = False, activation = None)(input_layer)\n",
    "\n",
    "    input_layer_2 = tf.keras.layers.Input(shape = (24, 24, 32))\n",
    "    pool_1 = tf.keras.layers.MaxPool2D(pool_size = 2, strides = 2)(input_layer_2)\n",
    "    conv_2 = tf.keras.layers.Conv2D(64, 5, use_bias = True, activation = 'relu')(pool_1)\n",
    "    pool_2 = tf.keras.layers.MaxPool2D(pool_size = 2, strides = 2)(conv_2)\n",
    "    conv_3 = tf.keras.layers.Conv2D(96, 3, use_bias = True, activation = 'relu')(pool_2)\n",
    "    pool_3 = tf.keras.layers.MaxPool2D(pool_size = 2, strides = 2)(conv_3)\n",
    "    flat_1 = tf.keras.layers.Flatten()(pool_3)\n",
    "    dense_out = tf.keras.layers.Dense(10, activation = 'softmax', name = \"dense_last\")(flat_1)\n",
    "\n",
    "    # First model: non-quantized with quantized weights\n",
    "    nq_model_part1 = tf.keras.models.Model(inputs = input_layer, outputs = conv_1)\n",
    "    # Second model: quantized\n",
    "    nq_model_part2 = tf.keras.models.Model(inputs = input_layer_2, outputs = dense_out)\n",
    "    q_model_part2 = tfmot.quantization.keras.quantize_model(nq_model_part2)\n",
    "\n",
    "    # Assignation of values for the part 1 model\n",
    "    key = keys_list[INDEX_FIRST_LAYER_KEY_LIST]\n",
    "    nq_model_part1.layers[INDEX_FIRST_CONV_PT1_MODEL].set_weights([quantized_weights[key]])\n",
    "    \n",
    "    # Assignation of max and min values for quantization layer for part 2 model\n",
    "    indexes_original_part2 = list(range(START_INDEX_ORIGINAL_MODEL_PT2, START_INDEX_ORIGINAL_MODEL_PT2 + PT2_LENGTH))\n",
    "    indexes_new_part2 = list(range(START_INDEX_PT2_MODEL, START_INDEX_PT2_MODEL + PT2_LENGTH))\n",
    "    quantize_layer_max_min = q_aware_model.layers[INDEX_FIRST_CONV_ORIGINAL_MODEL].get_weights()[-2:]\n",
    "    quantize_layer_max_min.append(-1)\n",
    "    q_model_part2.layers[INDEX_QUANTIZE_LAYER_PT2_MODEL].set_weights(quantize_layer_max_min)\n",
    "    # Assignation of the rest of the values for the rest of the part 2 model\n",
    "    weights_part2_model = [q_aware_model.layers[idx].get_weights() for idx in indexes_original_part2]\n",
    "    for i, idx in enumerate(indexes_new_part2):\n",
    "        q_model_part2.layers[idx].set_weights(weights_part2_model[i])\n",
    "\n",
    "    q_model_part2.compile(optimizer = 'adam', \n",
    "        loss = 'sparse_categorical_crossentropy', \n",
    "        metrics = ['accuracy'])\n",
    "\n",
    "    return nq_model_part1, q_model_part2"
   ]
  },
  {
   "cell_type": "code",
   "execution_count": 101,
   "metadata": {},
   "outputs": [
    {
     "name": "stdout",
     "output_type": "stream",
     "text": [
      "Out part 2\n",
      "tf.Tensor(\n",
      "[[9.9998820e-01 7.6681560e-12 3.3928120e-06 2.9688740e-10 1.0043667e-09\n",
      "  7.6681560e-12 8.4632084e-06 7.6681560e-12 6.9175248e-09 7.6681569e-12]], shape=(1, 10), dtype=float32)\n",
      "Out test\n",
      "tf.Tensor(\n",
      "[[9.9998820e-01 7.6681560e-12 3.3928120e-06 2.9688740e-10 1.0043667e-09\n",
      "  7.6681560e-12 8.4632084e-06 7.6681560e-12 6.9175248e-09 7.6681569e-12]], shape=(1, 10), dtype=float32)\n",
      "Unique Differences [0.]\n"
     ]
    }
   ],
   "source": [
    "# Two part model output\n",
    "TARGET_IMAGE = 1 #100\n",
    "\n",
    "model_pt1_nq, model_pt2_q = mix_split_models_generator(q_aware_model, quantized_weights, new_keys_list)\n",
    "\n",
    "semi_quantized_input_image = np.round(train_images[TARGET_IMAGE]/output_scales[new_keys_list[0]]).astype(int)\n",
    "out_pt1 = model_pt1_nq(semi_quantized_input_image[np.newaxis,:])\n",
    "out_pt1 = tf.nn.relu(tf.nn.bias_add(out_pt1, bias))\n",
    "out_pt1 = activation_scale * np.round(bias_scales_first_layer * out_pt1 / activation_scale)\n",
    "out_pt2 = q_model_part2(out_pt1)\n",
    "\n",
    "out_test = q_aware_model(train_images[np.newaxis,TARGET_IMAGE])\n",
    "\n",
    "print(\"Out part 2\")\n",
    "print(out_pt2)\n",
    "print(\"Out test\")\n",
    "print(out_test)\n",
    "print(\"Unique Differences\", np.unique(out_test - out_pt2))"
   ]
  },
  {
   "cell_type": "code",
   "execution_count": 102,
   "metadata": {},
   "outputs": [
    {
     "name": "stdout",
     "output_type": "stream",
     "text": [
      "313/313 [==============================] - 1s 2ms/step\n",
      "182375.0\n",
      "-198187.0\n",
      "313/313 [==============================] - 2s 5ms/step\n",
      "313/313 [==============================] - 2s 6ms/step\n",
      "[1.6090614e-04 9.9974769e-01 2.5010963e-06 1.7836649e-07 5.0920039e-06\n",
      " 4.9320692e-10 4.6002378e-06 4.9320692e-10 7.9033991e-05 3.0688772e-09]\n",
      "[1.6090614e-04 9.9974769e-01 2.5010963e-06 1.7836649e-07 5.0920039e-06\n",
      " 4.9320692e-10 4.6002378e-06 4.9320692e-10 7.9033991e-05 3.0688772e-09]\n",
      "All set difference 0.05063927\n",
      "Quantity differences 7905\n",
      "Target difference 0.0\n",
      "Location (array([7903, 7904], dtype=int64),)\n"
     ]
    }
   ],
   "source": [
    "LAYER = 1\n",
    "TARGET = 7904\n",
    "\n",
    "key = new_keys_list[LAYER]\n",
    "semi_quantized_test_images = np.round(test_images/output_scales[new_keys_list[0]]).astype(int)\n",
    "out_test_part1 = model_pt1_nq.predict(semi_quantized_test_images)\n",
    "print(np.max(out_test_part1))\n",
    "print(np.min(out_test_part1))\n",
    "dequantized_out_test_part1 = output_scales[key] * np.round(bias_scales[key] * tf.nn.relu(tf.nn.bias_add(out_test_part1, quantized_bias[key])) / output_scales[key])\n",
    "\n",
    "out_test_part2 = model_pt2_q.predict(dequantized_out_test_part1)\n",
    "out_test = q_aware_model.predict(test_images)\n",
    "print(out_test_part2[TARGET])\n",
    "print(out_test[TARGET])\n",
    "diff = np.unique(out_test_part2 - out_test)\n",
    "m = np.maximum(np.abs(np.max(diff)), np.abs(np.min(diff)))\n",
    "# print(diff)\n",
    "print(\"All set difference\", m)\n",
    "print(\"Quantity differences\", len(diff))\n",
    "print(\"Target difference\", np.max(np.unique(out_test_part2[TARGET] - out_test[TARGET])))\n",
    "eps = 1e-2\n",
    "print(\"Location\", np.where(np.abs(diff -np.max(diff)) < eps))"
   ]
  },
  {
   "cell_type": "code",
   "execution_count": 103,
   "metadata": {},
   "outputs": [
    {
     "name": "stdout",
     "output_type": "stream",
     "text": [
      "313/313 [==============================] - 2s 5ms/step - loss: 0.2892 - accuracy: 0.9116\n",
      "Part 2 test accuracy :  91.16%\n",
      "Part 2 test loss:  0.2891831398010254\n",
      "313/313 [==============================] - 2s 7ms/step - loss: 0.2891 - accuracy: 0.9115\n",
      "Q Aware model test accuracy :  91.15%\n",
      "Q Aware model test loss:  0.2890910804271698\n"
     ]
    }
   ],
   "source": [
    "part2_test_loss, part2_test_acc = model_pt2_q.evaluate(dequantized_out_test_part1, test_labels)\n",
    "print('Part 2 test accuracy : ', \"{:0.2%}\".format(part2_test_acc))\n",
    "print('Part 2 test loss: ', part2_test_loss)\n",
    "q_aware_test_loss, q_aware_test_acc = q_aware_model.evaluate(test_images, test_labels)\n",
    "print('Q Aware model test accuracy : ', \"{:0.2%}\".format(q_aware_test_acc))\n",
    "print('Q Aware model test loss: ', q_aware_test_loss)"
   ]
  },
  {
   "cell_type": "code",
   "execution_count": 104,
   "metadata": {},
   "outputs": [
    {
     "name": "stdout",
     "output_type": "stream",
     "text": [
      "-2291356\n"
     ]
    }
   ],
   "source": [
    "x = -194204\n",
    "y = n_bit_flipper(x, bit_width = 32, bit_pos = 21)\n",
    "print(y)"
   ]
  },
  {
   "cell_type": "code",
   "execution_count": 187,
   "metadata": {},
   "outputs": [
    {
     "name": "stdout",
     "output_type": "stream",
     "text": [
      "(10000, 28, 28, 1)\n",
      "float32\n",
      "input scale 0.003921569 float32\n",
      "activation scale 0.032603204 float32\n",
      "after quantization input <dtype: 'float32'>\n",
      "kernel scales float32\n",
      "kernel quantized float32\n",
      "after convolution <dtype: 'float32'>\n",
      "after bias <dtype: 'float32'>\n",
      "after relu <dtype: 'float32'>\n",
      "division <dtype: 'float32'>\n",
      "dequantized float32\n",
      "input division [0.]\n",
      "Difference after input quantize layer [0.] [7840000]\n",
      "Difference after convolution layer [-0.03260326 -0.0326032   0.          0.03260314  0.0326032 ] [        1      2636 184312977        34      4352]\n",
      "Difference after convolution layer ints [-0.03260326 -0.0326032   0.          0.03260314  0.0326032 ] [        1      2640 184312972        34      4353]\n"
     ]
    }
   ],
   "source": [
    "# test_images[:,:,:,np.newaxis].shape\n",
    "# Input layer\n",
    "a = q_aware_model.layers[0](test_images[:,:,:,np.newaxis])\n",
    "# Quantize layer\n",
    "b = q_aware_model.layers[1](a)\n",
    "# Convolutional layer\n",
    "c = q_aware_model.layers[2](b)\n",
    "print(b.shape)\n",
    "pos = 0, slice(10,15), slice(10,15), 0\n",
    "\n",
    "input_scale = ((input_max - input_min) / (2**BIT_WIDTH - 1)).astype(np.float32)\n",
    "# kernel_scales = kernel_max / (2**(BIT_WIDTH - 1) - 1)\n",
    "# bias_scales_first_layer = input_scale * kernel_scales\n",
    "print((input_scale * kernel_scales).dtype)\n",
    "activation_scale = ((activation_max - activation_min) / (2**BIT_WIDTH - 1)).astype(np.float32)\n",
    "\n",
    "print(\"input scale\", input_scale, input_scale.dtype)\n",
    "print(\"activation scale\", activation_scale, activation_scale.dtype)\n",
    "print(\"after quantization input\", b.dtype)\n",
    "print(\"kernel scales\", kernel_scales.dtype)\n",
    "print(\"kernel quantized\", (kernel_scales*quantized[keys_list[0]]).dtype)\n",
    "b_2 = tf.nn.conv2d(b, kernel_scales*quantized[keys_list[0]], strides = 1, padding = \"VALID\")\n",
    "print(\"after convolution\", b_2.dtype)\n",
    "b_2_bias = tf.nn.bias_add(b_2, (input_scale*kernel_scales).astype(np.float32)*bias_ints)\n",
    "print(\"after bias\", b_2_bias.dtype)\n",
    "b_2_relu = tf.nn.relu(b_2_bias)\n",
    "print(\"after relu\", b_2_relu.dtype)\n",
    "print(\"division\", (b_2_relu / activation_scale).dtype)\n",
    "deq_out_test_part1 = activation_scale * np.round(b_2_relu / activation_scale)\n",
    "print(\"dequantized\", deq_out_test_part1.dtype)\n",
    "\n",
    "print(\"input division\", np.unique(semi_quantized_input_image - np.round((train_images[:,:,:,np.newaxis]/input_scale).astype(np.float32))))\n",
    "semi_quantized_test_images = np.round(test_images[:,:,:,np.newaxis]/input_scale).astype(int)\n",
    "dequant = input_scale * semi_quantized_test_images\n",
    "\n",
    "b_2_quant = tf.nn.conv2d(semi_quantized_test_images, quantized[keys_list[0]], strides = 1, padding = \"VALID\")\n",
    "b_2_quant_bias = tf.nn.bias_add(b_2_quant, bias_ints) \n",
    "b_2_quant_relu = tf.nn.relu(b_2_quant_bias)\n",
    "b_2_dequant = activation_scale * np.round( input_scale * kernel_scales* tf.cast(b_2_quant_relu, np.float32) / activation_scale)\n",
    "\n",
    "# print(test_images[pos[:-1]])\n",
    "# print(b[pos])\n",
    "diff_quantized_input, quantized_input_counts = np.unique(dequant - b, return_counts = True)\n",
    "diff_dequantized_output, dequantized_output_counts = np.unique(c - deq_out_test_part1, return_counts = True)\n",
    "diff_dequant_ints_output, dequant_ints_output_counts = np.unique(c - b_2_dequant, return_counts = True)\n",
    "print(\"Difference after input quantize layer\", diff_quantized_input, quantized_input_counts)\n",
    "print(\"Difference after convolution layer\", diff_dequantized_output, dequantized_output_counts)\n",
    "print(\"Difference after convolution layer ints\", diff_dequant_ints_output, dequant_ints_output_counts)"
   ]
  },
  {
   "cell_type": "code",
   "execution_count": 153,
   "metadata": {},
   "outputs": [
    {
     "name": "stdout",
     "output_type": "stream",
     "text": [
      "Difference after convolution layer [-0.03260326 -0.0326032   0.          0.03260314  0.0326032 ] [        1      2636 184312977        34      4352]\n"
     ]
    }
   ],
   "source": [
    "print(\"Difference after convolution layer\", diff_dequantized_output, dequantized_output_counts)"
   ]
  },
  {
   "cell_type": "code",
   "execution_count": 186,
   "metadata": {},
   "outputs": [
    {
     "name": "stdout",
     "output_type": "stream",
     "text": [
      "[[  0   0   0   4   0]\n",
      " [  0   0   2   0  11]\n",
      " [  0   3   0   0 115]\n",
      " [  3   0   0  89 139]\n",
      " [  0   0  98 136 110]]\n",
      "tf.Tensor(\n",
      "[[3216.    0.    0.    0.    0.]\n",
      " [   0.    0.    0.    0.    0.]\n",
      " [   0.    0.  445.    0.    0.]\n",
      " [   0.    0.    0.    0.    0.]\n",
      " [   0.    0.    0.    0.    0.]], shape=(5, 5), dtype=float32)\n"
     ]
    }
   ],
   "source": [
    "print(semi_quantized_test_images[pos])\n",
    "print(tf.cast(b_2_quant_relu, np.float32)[pos])"
   ]
  }
 ],
 "metadata": {
  "kernelspec": {
   "display_name": "Python 3.10.4 ('py_master_project')",
   "language": "python",
   "name": "python3"
  },
  "language_info": {
   "codemirror_mode": {
    "name": "ipython",
    "version": 3
   },
   "file_extension": ".py",
   "mimetype": "text/x-python",
   "name": "python",
   "nbconvert_exporter": "python",
   "pygments_lexer": "ipython3",
   "version": "3.10.4"
  },
  "orig_nbformat": 4,
  "vscode": {
   "interpreter": {
    "hash": "27b772b08f604b6b43e5a3a606000b08c03a565bb0332f867b1c8863c689a183"
   }
  }
 },
 "nbformat": 4,
 "nbformat_minor": 2
}
