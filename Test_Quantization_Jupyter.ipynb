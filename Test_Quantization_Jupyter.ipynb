{
 "cells": [
  {
   "cell_type": "code",
   "execution_count": 1,
   "metadata": {},
   "outputs": [
    {
     "name": "stdout",
     "output_type": "stream",
     "text": [
      "(60000, 28, 28)\n",
      "(60000,)\n"
     ]
    }
   ],
   "source": [
    "import numpy as np\n",
    "import matplotlib.pyplot as plt\n",
    "import tensorflow as tf\n",
    "import tensorflow_model_optimization as tfmot\n",
    "\n",
    "(train_images, train_labels), (test_images, test_labels) = tf.keras.datasets.fashion_mnist.load_data()\n",
    "print(train_images.shape)\n",
    "print(train_labels.shape)\n",
    "train_images = train_images / 255.0\n",
    "test_images = test_images / 255.0"
   ]
  },
  {
   "cell_type": "code",
   "execution_count": 2,
   "metadata": {},
   "outputs": [
    {
     "name": "stdout",
     "output_type": "stream",
     "text": [
      "Model: \"sequential\"\n",
      "_________________________________________________________________\n",
      " Layer (type)                Output Shape              Param #   \n",
      "=================================================================\n",
      " conv2d (Conv2D)             (None, 24, 24, 32)        832       \n",
      "                                                                 \n",
      " re_lu (ReLU)                (None, 24, 24, 32)        0         \n",
      "                                                                 \n",
      " max_pooling2d (MaxPooling2D  (None, 12, 12, 32)       0         \n",
      " )                                                               \n",
      "                                                                 \n",
      " conv2d_1 (Conv2D)           (None, 8, 8, 64)          51264     \n",
      "                                                                 \n",
      " re_lu_1 (ReLU)              (None, 8, 8, 64)          0         \n",
      "                                                                 \n",
      " max_pooling2d_1 (MaxPooling  (None, 4, 4, 64)         0         \n",
      " 2D)                                                             \n",
      "                                                                 \n",
      " conv2d_2 (Conv2D)           (None, 2, 2, 96)          55392     \n",
      "                                                                 \n",
      " re_lu_2 (ReLU)              (None, 2, 2, 96)          0         \n",
      "                                                                 \n",
      " max_pooling2d_2 (MaxPooling  (None, 1, 1, 96)         0         \n",
      " 2D)                                                             \n",
      "                                                                 \n",
      " flatten (Flatten)           (None, 96)                0         \n",
      "                                                                 \n",
      " dense (Dense)               (None, 10)                970       \n",
      "                                                                 \n",
      "=================================================================\n",
      "Total params: 108,458\n",
      "Trainable params: 108,458\n",
      "Non-trainable params: 0\n",
      "_________________________________________________________________\n"
     ]
    }
   ],
   "source": [
    "model = tf.keras.Sequential([\n",
    "    tf.keras.layers.Conv2D(32, 5, input_shape = (28, 28, 1)),\n",
    "    tf.keras.layers.ReLU(),\n",
    "    tf.keras.layers.MaxPool2D(pool_size = 2, strides = 2),\n",
    "    tf.keras.layers.Conv2D(64, 5),\n",
    "    tf.keras.layers.ReLU(),\n",
    "    tf.keras.layers.MaxPool2D(pool_size = 2, strides = 2),\n",
    "    tf.keras.layers.Conv2D(96, 3),\n",
    "    tf.keras.layers.ReLU(),\n",
    "    tf.keras.layers.MaxPool2D(pool_size = 2, strides = 2),\n",
    "    tf.keras.layers.Flatten(),\n",
    "    tf.keras.layers.Dense(10, activation = 'softmax')\n",
    "])\n",
    "model.compile(optimizer = 'adam', \n",
    "    loss = 'sparse_categorical_crossentropy', \n",
    "    metrics = ['accuracy'])\n",
    "model.summary()"
   ]
  },
  {
   "cell_type": "code",
   "execution_count": 3,
   "metadata": {},
   "outputs": [],
   "source": [
    "save_dir = \"./logs/\"\n",
    "save_path = save_dir + \"model_v1\"\n",
    "# model = tf.keras.models.load_model(save_path)\n",
    "# loss, acc = model.evaluate(test_images, test_labels)\n",
    "# print('Test accuracy : ', \"{:0.2%}\".format(acc))"
   ]
  },
  {
   "cell_type": "code",
   "execution_count": 4,
   "metadata": {},
   "outputs": [
    {
     "name": "stdout",
     "output_type": "stream",
     "text": [
      "WARNING:tensorflow:From c:\\Users\\rosal\\py_master_project\\lib\\site-packages\\tensorflow\\python\\autograph\\pyct\\static_analysis\\liveness.py:83: Analyzer.lamba_check (from tensorflow.python.autograph.pyct.static_analysis.liveness) is deprecated and will be removed after 2023-09-23.\n",
      "Instructions for updating:\n",
      "Lambda fuctions will be no more assumed to be used in the statement where they are used, or at least in the same block. https://github.com/tensorflow/tensorflow/issues/56089\n"
     ]
    }
   ],
   "source": [
    "quantize_model = tfmot.quantization.keras.quantize_model\n",
    "q_aware_model = quantize_model(model)"
   ]
  },
  {
   "cell_type": "code",
   "execution_count": 5,
   "metadata": {},
   "outputs": [
    {
     "name": "stdout",
     "output_type": "stream",
     "text": [
      "Model: \"sequential\"\n",
      "_________________________________________________________________\n",
      " Layer (type)                Output Shape              Param #   \n",
      "=================================================================\n",
      " quantize_layer (QuantizeLay  (None, 28, 28, 1)        3         \n",
      " er)                                                             \n",
      "                                                                 \n",
      " quant_conv2d (QuantizeWrapp  (None, 24, 24, 32)       833       \n",
      " erV2)                                                           \n",
      "                                                                 \n",
      " quant_re_lu (QuantizeWrappe  (None, 24, 24, 32)       3         \n",
      " rV2)                                                            \n",
      "                                                                 \n",
      " quant_max_pooling2d (Quanti  (None, 12, 12, 32)       1         \n",
      " zeWrapperV2)                                                    \n",
      "                                                                 \n",
      " quant_conv2d_1 (QuantizeWra  (None, 8, 8, 64)         51265     \n",
      " pperV2)                                                         \n",
      "                                                                 \n",
      " quant_re_lu_1 (QuantizeWrap  (None, 8, 8, 64)         3         \n",
      " perV2)                                                          \n",
      "                                                                 \n",
      " quant_max_pooling2d_1 (Quan  (None, 4, 4, 64)         1         \n",
      " tizeWrapperV2)                                                  \n",
      "                                                                 \n",
      " quant_conv2d_2 (QuantizeWra  (None, 2, 2, 96)         55393     \n",
      " pperV2)                                                         \n",
      "                                                                 \n",
      " quant_re_lu_2 (QuantizeWrap  (None, 2, 2, 96)         3         \n",
      " perV2)                                                          \n",
      "                                                                 \n",
      " quant_max_pooling2d_2 (Quan  (None, 1, 1, 96)         1         \n",
      " tizeWrapperV2)                                                  \n",
      "                                                                 \n",
      " quant_flatten (QuantizeWrap  (None, 96)               1         \n",
      " perV2)                                                          \n",
      "                                                                 \n",
      " quant_dense (QuantizeWrappe  (None, 10)               975       \n",
      " rV2)                                                            \n",
      "                                                                 \n",
      "=================================================================\n",
      "Total params: 108,482\n",
      "Trainable params: 108,458\n",
      "Non-trainable params: 24\n",
      "_________________________________________________________________\n"
     ]
    }
   ],
   "source": [
    "q_aware_model.compile(optimizer = 'adam', \n",
    "    loss = 'sparse_categorical_crossentropy', \n",
    "    metrics = ['accuracy'])\n",
    "q_aware_model.summary()"
   ]
  },
  {
   "cell_type": "code",
   "execution_count": 6,
   "metadata": {},
   "outputs": [
    {
     "name": "stdout",
     "output_type": "stream",
     "text": [
      "Epoch 1/15\n",
      "938/938 [==============================] - 24s 24ms/step - loss: 0.5762 - accuracy: 0.7894 - val_loss: 0.4515 - val_accuracy: 0.8437\n",
      "Epoch 2/15\n",
      "938/938 [==============================] - 23s 24ms/step - loss: 0.3636 - accuracy: 0.8690 - val_loss: 0.3620 - val_accuracy: 0.8675\n",
      "Epoch 3/15\n",
      "938/938 [==============================] - 22s 23ms/step - loss: 0.3118 - accuracy: 0.8854 - val_loss: 0.3251 - val_accuracy: 0.8830\n",
      "Epoch 4/15\n",
      "938/938 [==============================] - 23s 25ms/step - loss: 0.2790 - accuracy: 0.8980 - val_loss: 0.3072 - val_accuracy: 0.8880\n",
      "Epoch 5/15\n",
      "938/938 [==============================] - 21s 23ms/step - loss: 0.2538 - accuracy: 0.9079 - val_loss: 0.3023 - val_accuracy: 0.8886\n",
      "Epoch 6/15\n",
      "938/938 [==============================] - 21s 23ms/step - loss: 0.2341 - accuracy: 0.9140 - val_loss: 0.2848 - val_accuracy: 0.8982\n",
      "Epoch 7/15\n",
      "938/938 [==============================] - 21s 22ms/step - loss: 0.2145 - accuracy: 0.9218 - val_loss: 0.2753 - val_accuracy: 0.9011\n",
      "Epoch 8/15\n",
      "938/938 [==============================] - 25s 26ms/step - loss: 0.2008 - accuracy: 0.9261 - val_loss: 0.2836 - val_accuracy: 0.9044\n",
      "Epoch 9/15\n",
      "938/938 [==============================] - 22s 24ms/step - loss: 0.1844 - accuracy: 0.9319 - val_loss: 0.2821 - val_accuracy: 0.9035\n",
      "Epoch 10/15\n",
      "938/938 [==============================] - 21s 22ms/step - loss: 0.1709 - accuracy: 0.9363 - val_loss: 0.2989 - val_accuracy: 0.8990\n",
      "Epoch 11/15\n",
      "938/938 [==============================] - 25s 26ms/step - loss: 0.1584 - accuracy: 0.9416 - val_loss: 0.2820 - val_accuracy: 0.9074\n",
      "Epoch 12/15\n",
      "938/938 [==============================] - 21s 23ms/step - loss: 0.1473 - accuracy: 0.9458 - val_loss: 0.2925 - val_accuracy: 0.9065\n",
      "Epoch 13/15\n",
      "938/938 [==============================] - 22s 23ms/step - loss: 0.1366 - accuracy: 0.9485 - val_loss: 0.3053 - val_accuracy: 0.9038\n",
      "Epoch 14/15\n",
      "938/938 [==============================] - 20s 21ms/step - loss: 0.1242 - accuracy: 0.9543 - val_loss: 0.2975 - val_accuracy: 0.9074\n",
      "Epoch 15/15\n",
      "938/938 [==============================] - 20s 21ms/step - loss: 0.1198 - accuracy: 0.9557 - val_loss: 0.3156 - val_accuracy: 0.9040\n"
     ]
    }
   ],
   "source": [
    "train_log = q_aware_model.fit(train_images, train_labels,\n",
    "    batch_size = 64,\n",
    "    epochs = 15,\n",
    "    validation_data = (test_images, test_labels))"
   ]
  },
  {
   "cell_type": "code",
   "execution_count": 7,
   "metadata": {},
   "outputs": [
    {
     "data": {
      "image/png": "[encoded data removed]",
      "text/plain": [
       "<Figure size 640x480 with 1 Axes>"
      ]
     },
     "metadata": {},
     "output_type": "display_data"
    },
    {
     "data": {
      "image/png": "[encoded data removed]",
      "text/plain": [
       "<Figure size 640x480 with 1 Axes>"
      ]
     },
     "metadata": {},
     "output_type": "display_data"
    }
   ],
   "source": [
    "fig = plt.figure()\n",
    "plt.plot(train_log.history['loss'], label = 'Train Loss', linestyle = '--', marker = 'o')\n",
    "plt.plot(train_log.history['val_loss'], label = 'Validation Loss', linestyle = '--', marker = 'o')\n",
    "plt.ylabel('Loss')\n",
    "plt.legend()\n",
    "plt.grid()\n",
    "plt.show()\n",
    "\n",
    "fig = plt.figure()\n",
    "plt.plot(train_log.history['accuracy'], label = 'Train Accuracy', linestyle = '--', marker = 'o')\n",
    "plt.plot(train_log.history['val_accuracy'], label = 'Validation Accuracy', linestyle = '--', marker = 'o')\n",
    "plt.ylabel('Accuracy')\n",
    "plt.legend()\n",
    "plt.grid()\n",
    "plt.show()"
   ]
  },
  {
   "cell_type": "code",
   "execution_count": 25,
   "metadata": {},
   "outputs": [
    {
     "name": "stdout",
     "output_type": "stream",
     "text": [
      "313/313 [==============================] - 2s 6ms/step - loss: 0.3156 - accuracy: 0.9040\n",
      "Test accuracy :  90.40%\n"
     ]
    }
   ],
   "source": [
    "q_aware_test_loss, q_aware_test_acc = q_aware_model.evaluate(test_images, test_labels)\n",
    "print('Test accuracy : ', \"{:0.2%}\".format(q_aware_test_acc))"
   ]
  },
  {
   "cell_type": "code",
   "execution_count": 9,
   "metadata": {},
   "outputs": [
    {
     "name": "stderr",
     "output_type": "stream",
     "text": [
      "WARNING:absl:Found untraced functions such as _update_step_xla, conv2d_layer_call_fn, conv2d_layer_call_and_return_conditional_losses, _jit_compiled_convolution_op, re_lu_layer_call_fn while saving (showing 5 of 20). These functions will not be directly callable after loading.\n"
     ]
    },
    {
     "name": "stdout",
     "output_type": "stream",
     "text": [
      "INFO:tensorflow:Assets written to: C:\\Users\\rosal\\AppData\\Local\\Temp\\tmpn5a5gtdh\\assets\n"
     ]
    },
    {
     "name": "stderr",
     "output_type": "stream",
     "text": [
      "INFO:tensorflow:Assets written to: C:\\Users\\rosal\\AppData\\Local\\Temp\\tmpn5a5gtdh\\assets\n",
      "c:\\Users\\rosal\\py_master_project\\lib\\site-packages\\tensorflow\\lite\\python\\convert.py:765: UserWarning: Statistics for quantized inputs were expected, but not specified; continuing anyway.\n",
      "  warnings.warn(\"Statistics for quantized inputs were expected, but not \"\n"
     ]
    }
   ],
   "source": [
    "converter = tf.lite.TFLiteConverter.from_keras_model(q_aware_model)\n",
    "converter.optimizations = [tf.lite.Optimize.DEFAULT]\n",
    "    \n",
    "quantized_tflite_model = converter.convert()"
   ]
  },
  {
   "cell_type": "code",
   "execution_count": 22,
   "metadata": {},
   "outputs": [],
   "source": [
    "def evaluate_model(interpreter: tf.lite.Interpreter):\n",
    "  input_index = interpreter.get_input_details()[0][\"index\"]\n",
    "  output_index = interpreter.get_output_details()[0][\"index\"]\n",
    "\n",
    "  # Run predictions on every image in the \"test\" dataset.\n",
    "  prediction_digits = []\n",
    "  for i, test_image in enumerate(test_images):\n",
    "    if i % 1000 == 0:\n",
    "      print('Evaluated on {n} results so far.'.format(n=i))\n",
    "    # Pre-processing: add batch dimension and convert to float32 to match with\n",
    "    # the model's input data format.\n",
    "    # print(\"Shape : \", test_image.shape)\n",
    "    test_image = np.expand_dims(test_image, axis = 0).astype(np.float32)\n",
    "    test_image = np.expand_dims(test_image, axis = 3).astype(np.float32)\n",
    "    # print(\"New Shape : \", test_image.shape)\n",
    "    interpreter.set_tensor(input_index, test_image)\n",
    "\n",
    "    # Run inference.\n",
    "    interpreter.invoke()\n",
    "\n",
    "    # Post-processing: remove batch dimension and find the digit with highest\n",
    "    # probability.\n",
    "    output = interpreter.tensor(output_index)\n",
    "    digit = np.argmax(output()[0])\n",
    "    prediction_digits.append(digit)\n",
    "\n",
    "  print('\\n')\n",
    "  # Compare prediction results with ground truth labels to calculate accuracy.\n",
    "  prediction_digits = np.array(prediction_digits)\n",
    "  accuracy = (prediction_digits == test_labels).mean()\n",
    "  return accuracy"
   ]
  },
  {
   "cell_type": "code",
   "execution_count": 26,
   "metadata": {},
   "outputs": [
    {
     "name": "stdout",
     "output_type": "stream",
     "text": [
      "Input Shape:  [ 1 28 28  1]\n",
      "Output Shape:  [ 1 10]\n",
      "Evaluated on 0 results so far.\n",
      "Evaluated on 1000 results so far.\n",
      "Evaluated on 2000 results so far.\n",
      "Evaluated on 3000 results so far.\n",
      "Evaluated on 4000 results so far.\n",
      "Evaluated on 5000 results so far.\n",
      "Evaluated on 6000 results so far.\n",
      "Evaluated on 7000 results so far.\n",
      "Evaluated on 8000 results so far.\n",
      "Evaluated on 9000 results so far.\n",
      "\n",
      "\n",
      "Quant TFLite test_accuracy: 0.9046\n",
      "Quant TF test accuracy: 0.9039999842643738\n"
     ]
    }
   ],
   "source": [
    "interpreter = tf.lite.Interpreter(model_content = quantized_tflite_model)\n",
    "interpreter.allocate_tensors()\n",
    "input_details = interpreter.get_input_details()\n",
    "output_details = interpreter.get_output_details()\n",
    "print(\"Input Shape: \", input_details[0]['shape'])\n",
    "print(\"Output Shape: \", output_details[0]['shape'])\n",
    "\n",
    "test_accuracy = evaluate_model(interpreter)\n",
    "\n",
    "print('Quant TFLite test_accuracy:', test_accuracy)\n",
    "print('Quant TF test accuracy:', q_aware_test_acc)"
   ]
  },
  {
   "cell_type": "code",
   "execution_count": 75,
   "metadata": {},
   "outputs": [
    {
     "name": "stdout",
     "output_type": "stream",
     "text": [
      "quantize_layer 3\n",
      "quant_conv2d 3\n",
      "quant_re_lu 3\n",
      "quant_max_pooling2d 1\n",
      "quant_conv2d_1 3\n",
      "quant_re_lu_1 3\n",
      "quant_max_pooling2d_1 1\n",
      "quant_conv2d_2 3\n",
      "quant_re_lu_2 3\n",
      "quant_max_pooling2d_2 1\n",
      "quant_flatten 1\n",
      "quant_dense 7\n",
      "-1\n"
     ]
    }
   ],
   "source": [
    "for i, layer in enumerate(q_aware_model.layers):\n",
    "    print(layer.name, len(layer.get_weights()))\n",
    "    for j in range(len(layer.get_weights())):\n",
    "        # print(layer.get_weights()[j].shape)\n",
    "        pass\n",
    "print(q_aware_model.layers[2].get_weights()[0])"
   ]
  },
  {
   "cell_type": "code",
   "execution_count": 69,
   "metadata": {},
   "outputs": [
    {
     "name": "stdout",
     "output_type": "stream",
     "text": [
      "Input index :  4\n",
      "Output index :  4 99.61%\n"
     ]
    }
   ],
   "source": [
    "\n",
    "ind_index = 10\n",
    "test_image = test_images[ind_index]\n",
    "test_image = np.expand_dims(test_image, axis = 0).astype(np.float32)\n",
    "test_image = np.expand_dims(test_image, axis = 3).astype(np.float32)\n",
    "\n",
    "interpreter.set_tensor(input_details[0]['index'], test_image)\n",
    "interpreter.invoke()\n",
    "output_array = interpreter.get_tensor(output_details[0]['index'])\n",
    "# print(output_array.shape)\n",
    "digit = np.argmax(output_array[0])\n",
    "probability = max(output_array[0])\n",
    "print(\"Input index : \", test_labels[ind_index])\n",
    "print(\"Output index : \", digit, \"{0:.2%}\".format(probability))\n"
   ]
  },
  {
   "cell_type": "code",
   "execution_count": 77,
   "metadata": {},
   "outputs": [
    {
     "name": "stdout",
     "output_type": "stream",
     "text": [
      "0 serving_default_conv2d_input:0 (0,) (0,) (1, 28, 28, 1)\n",
      "1 sequential/quant_flatten/Const (0,) (0,) (2,)\n",
      "2 sequential/quant_conv2d/BiasAdd/ReadVariableOp (32,) (32,) (32,)\n",
      "3 sequential/quant_conv2d_1/BiasAdd/ReadVariableOp (64,) (64,) (64,)\n",
      "4 sequential/quant_conv2d_2/BiasAdd/ReadVariableOp (96,) (96,) (96,)\n",
      "5 sequential/quant_conv2d/Conv2D (32,) (32,) (32, 5, 5, 1)\n",
      "6 sequential/quant_conv2d_1/Conv2D (64,) (64,) (64, 5, 5, 32)\n",
      "7 sequential/quant_conv2d_2/Conv2D (96,) (96,) (96, 3, 3, 64)\n",
      "8 sequential/quant_dense/BiasAdd/ReadVariableOp (1,) (1,) (10,)\n"
     ]
    },
    {
     "ename": "ValueError",
     "evalue": "Tensor data is null. Run allocate_tensors() first",
     "output_type": "error",
     "traceback": [
      "\u001b[1;31m---------------------------------------------------------------------------\u001b[0m",
      "\u001b[1;31mValueError\u001b[0m                                Traceback (most recent call last)",
      "Cell \u001b[1;32mIn[77], line 9\u001b[0m\n\u001b[0;32m      7\u001b[0m scales \u001b[38;5;241m=\u001b[39m \u001b[38;5;28mdict\u001b[39m[\u001b[38;5;124m'\u001b[39m\u001b[38;5;124mquantization_parameters\u001b[39m\u001b[38;5;124m'\u001b[39m][\u001b[38;5;124m'\u001b[39m\u001b[38;5;124mscales\u001b[39m\u001b[38;5;124m'\u001b[39m]\n\u001b[0;32m      8\u001b[0m zero_points \u001b[38;5;241m=\u001b[39m \u001b[38;5;28mdict\u001b[39m[\u001b[38;5;124m'\u001b[39m\u001b[38;5;124mquantization_parameters\u001b[39m\u001b[38;5;124m'\u001b[39m][\u001b[38;5;124m'\u001b[39m\u001b[38;5;124mzero_points\u001b[39m\u001b[38;5;124m'\u001b[39m]\n\u001b[1;32m----> 9\u001b[0m tensor \u001b[38;5;241m=\u001b[39m \u001b[43minterpreter\u001b[49m\u001b[38;5;241;43m.\u001b[39;49m\u001b[43mtensor\u001b[49m\u001b[43m(\u001b[49m\u001b[43mi\u001b[49m\u001b[43m)\u001b[49m\u001b[43m(\u001b[49m\u001b[43m)\u001b[49m\n\u001b[0;32m     11\u001b[0m \u001b[38;5;28mprint\u001b[39m(i, tensor_name, scales\u001b[38;5;241m.\u001b[39mshape, zero_points\u001b[38;5;241m.\u001b[39mshape, tensor\u001b[38;5;241m.\u001b[39mshape)\n",
      "File \u001b[1;32mc:\\Users\\rosal\\py_master_project\\lib\\site-packages\\tensorflow\\lite\\python\\interpreter.py:902\u001b[0m, in \u001b[0;36mInterpreter.tensor.<locals>.<lambda>\u001b[1;34m()\u001b[0m\n\u001b[0;32m    854\u001b[0m \u001b[39mdef\u001b[39;00m \u001b[39mtensor\u001b[39m(\u001b[39mself\u001b[39m, tensor_index):\n\u001b[0;32m    855\u001b[0m \u001b[39m  \u001b[39m\u001b[39m\"\"\"Returns function that gives a numpy view of the current tensor buffer.\u001b[39;00m\n\u001b[0;32m    856\u001b[0m \n\u001b[0;32m    857\u001b[0m \u001b[39m  This allows reading and writing to this tensors w/o copies. This more\u001b[39;00m\n\u001b[1;32m   (...)\u001b[0m\n\u001b[0;32m    900\u001b[0m \u001b[39m    but it is not safe to hold the numpy array forever.\u001b[39;00m\n\u001b[0;32m    901\u001b[0m \u001b[39m  \"\"\"\u001b[39;00m\n\u001b[1;32m--> 902\u001b[0m   \u001b[39mreturn\u001b[39;00m \u001b[39mlambda\u001b[39;00m: \u001b[39mself\u001b[39;49m\u001b[39m.\u001b[39;49m_interpreter\u001b[39m.\u001b[39;49mtensor(\u001b[39mself\u001b[39;49m\u001b[39m.\u001b[39;49m_interpreter, tensor_index)\n",
      "\u001b[1;31mValueError\u001b[0m: Tensor data is null. Run allocate_tensors() first"
     ]
    }
   ],
   "source": [
    "# interpreter.allocate_tensors()\n",
    "tensor_details = interpreter.get_tensor_details()\n",
    "\n",
    "for dict in tensor_details:\n",
    "    i = dict['index']\n",
    "    tensor_name = dict['name']\n",
    "    scales = dict['quantization_parameters']['scales']\n",
    "    zero_points = dict['quantization_parameters']['zero_points']\n",
    "    tensor = interpreter.tensor(i)()\n",
    "    \n",
    "    print(i, tensor_name, scales.shape, zero_points.shape, tensor.shape)"
   ]
  },
  {
   "cell_type": "code",
   "execution_count": 78,
   "metadata": {},
   "outputs": [
    {
     "ename": "AttributeError",
     "evalue": "'bytes' object has no attribute 'save'",
     "output_type": "error",
     "traceback": [
      "\u001b[1;31m---------------------------------------------------------------------------\u001b[0m",
      "\u001b[1;31mAttributeError\u001b[0m                            Traceback (most recent call last)",
      "Cell \u001b[1;32mIn[78], line 3\u001b[0m\n\u001b[0;32m      1\u001b[0m save_dir \u001b[38;5;241m=\u001b[39m \u001b[38;5;124m\"\u001b[39m\u001b[38;5;124m./logs/\u001b[39m\u001b[38;5;124m\"\u001b[39m\n\u001b[0;32m      2\u001b[0m save_path \u001b[38;5;241m=\u001b[39m save_dir \u001b[38;5;241m+\u001b[39m \u001b[38;5;124m\"\u001b[39m\u001b[38;5;124mq_model_v1\u001b[39m\u001b[38;5;124m\"\u001b[39m\n\u001b[1;32m----> 3\u001b[0m \u001b[43mquantized_tflite_model\u001b[49m\u001b[38;5;241;43m.\u001b[39;49m\u001b[43msave\u001b[49m(save_path)\n\u001b[0;32m      4\u001b[0m \u001b[38;5;66;03m# open(tflite_file, \"wb\").write(quantized_tflite_model)\u001b[39;00m\n",
      "\u001b[1;31mAttributeError\u001b[0m: 'bytes' object has no attribute 'save'"
     ]
    }
   ],
   "source": [
    "save_dir = \"./logs/\"\n",
    "save_path = save_dir + \"q_model_v1\"\n",
    "# quantized_tflite_model.save(save_path)\n",
    "# open(tflite_file, \"wb\").write(quantized_tflite_model)"
   ]
  },
  {
   "cell_type": "code",
   "execution_count": null,
   "metadata": {},
   "outputs": [],
   "source": []
  }
 ],
 "metadata": {
  "kernelspec": {
   "display_name": "Python 3.10.4 ('py_master_project')",
   "language": "python",
   "name": "python3"
  },
  "language_info": {
   "codemirror_mode": {
    "name": "ipython",
    "version": 3
   },
   "file_extension": ".py",
   "mimetype": "text/x-python",
   "name": "python",
   "nbconvert_exporter": "python",
   "pygments_lexer": "ipython3",
   "version": "3.10.4"
  },
  "orig_nbformat": 4,
  "vscode": {
   "interpreter": {
    "hash": "27b772b08f604b6b43e5a3a606000b08c03a565bb0332f867b1c8863c689a183"
   }
  }
 },
 "nbformat": 4,
 "nbformat_minor": 2
}
