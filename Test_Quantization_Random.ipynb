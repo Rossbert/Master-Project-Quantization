{
 "cells": [
  {
   "cell_type": "code",
   "execution_count": 1,
   "metadata": {},
   "outputs": [
    {
     "name": "stderr",
     "output_type": "stream",
     "text": [
      "2023-04-05 02:29:08.389289: I tensorflow/core/platform/cpu_feature_guard.cc:182] This TensorFlow binary is optimized to use available CPU instructions in performance-critical operations.\n",
      "To enable the following instructions: AVX2 FMA, in other operations, rebuild TensorFlow with the appropriate compiler flags.\n",
      "2023-04-05 02:29:09.004226: W tensorflow/compiler/tf2tensorrt/utils/py_utils.cc:38] TF-TRT Warning: Could not find TensorRT\n"
     ]
    },
    {
     "name": "stdout",
     "output_type": "stream",
     "text": [
      "(60000, 28, 28)\n",
      "(60000,)\n",
      "(10000, 28, 28)\n",
      "(10000,)\n"
     ]
    }
   ],
   "source": [
    "import numpy as np\n",
    "import matplotlib.pyplot as plt\n",
    "import tensorflow as tf\n",
    "import tensorflow_model_optimization as tfmot\n",
    "import pandas as pd\n",
    "import time\n",
    "from collections import OrderedDict\n",
    "\n",
    "(train_images, train_labels), (test_images, test_labels) = tf.keras.datasets.fashion_mnist.load_data()\n",
    "print(train_images.shape)\n",
    "print(train_labels.shape)\n",
    "print(test_images.shape)\n",
    "print(test_labels.shape)\n",
    "train_images = train_images / 255.0\n",
    "test_images = test_images / 255.0"
   ]
  },
  {
   "cell_type": "code",
   "execution_count": 2,
   "metadata": {},
   "outputs": [
    {
     "name": "stderr",
     "output_type": "stream",
     "text": [
      "2023-04-05 02:29:15.044765: I tensorflow/compiler/xla/stream_executor/cuda/cuda_gpu_executor.cc:982] could not open file to read NUMA node: /sys/bus/pci/devices/0000:01:00.0/numa_node\n",
      "Your kernel may have been built without NUMA support.\n",
      "2023-04-05 02:29:15.066612: I tensorflow/compiler/xla/stream_executor/cuda/cuda_gpu_executor.cc:982] could not open file to read NUMA node: /sys/bus/pci/devices/0000:01:00.0/numa_node\n",
      "Your kernel may have been built without NUMA support.\n",
      "2023-04-05 02:29:15.066673: I tensorflow/compiler/xla/stream_executor/cuda/cuda_gpu_executor.cc:982] could not open file to read NUMA node: /sys/bus/pci/devices/0000:01:00.0/numa_node\n",
      "Your kernel may have been built without NUMA support.\n"
     ]
    },
    {
     "data": {
      "text/plain": [
       "[PhysicalDevice(name='/physical_device:CPU:0', device_type='CPU'),\n",
       " PhysicalDevice(name='/physical_device:GPU:0', device_type='GPU')]"
      ]
     },
     "execution_count": 2,
     "metadata": {},
     "output_type": "execute_result"
    }
   ],
   "source": [
    "tf.config.list_physical_devices()"
   ]
  },
  {
   "cell_type": "code",
   "execution_count": 3,
   "metadata": {},
   "outputs": [],
   "source": [
    "def get_functional_model(learning_rate : float) -> tf.keras.Model:\n",
    "    input_layer = tf.keras.layers.Input(shape = (28, 28, 1))\n",
    "    conv_1 = tf.keras.layers.Conv2D(32, 5, use_bias = True, activation = 'relu')(input_layer)\n",
    "    pool_1 = tf.keras.layers.MaxPool2D(pool_size = 2, strides = 2)(conv_1)\n",
    "    conv_2 = tf.keras.layers.Conv2D(64, 5, use_bias = True, activation = 'relu')(pool_1)\n",
    "    pool_2 = tf.keras.layers.MaxPool2D(pool_size = 2, strides = 2)(conv_2)\n",
    "    conv_3 = tf.keras.layers.Conv2D(96, 3, use_bias = True, activation = 'relu')(pool_2)\n",
    "    pool_3 = tf.keras.layers.MaxPool2D(pool_size = 2, strides = 2)(conv_3)\n",
    "    flat_1 = tf.keras.layers.Flatten()(pool_3)\n",
    "    dense_out = tf.keras.layers.Dense(10, activation = 'softmax', name = \"dense_last\")(flat_1)\n",
    "    \n",
    "    model = tf.keras.models.Model(inputs = input_layer, outputs = dense_out)\n",
    "    opt = tf.keras.optimizers.Adam(learning_rate = learning_rate)\n",
    "    \n",
    "    model.compile(optimizer = opt, \n",
    "        loss = 'sparse_categorical_crossentropy', \n",
    "        metrics = ['accuracy'])\n",
    "    return model\n",
    "\n",
    "def get_functional_model_kernel_regularization(learning_rate : float, regularization_rate : float) -> tf.keras.Model:\n",
    "    input_layer = tf.keras.layers.Input(shape = (28, 28, 1))\n",
    "    conv_1 = tf.keras.layers.Conv2D(32, 5, use_bias = True, activation = 'relu', \n",
    "                                        kernel_regularizer = tf.keras.regularizers.L2(regularization_rate))(input_layer)\n",
    "    pool_1 = tf.keras.layers.MaxPool2D(pool_size = 2, strides = 2)(conv_1)\n",
    "    conv_2 = tf.keras.layers.Conv2D(64, 5, use_bias = True, activation = 'relu', \n",
    "                                        kernel_regularizer = tf.keras.regularizers.L2(regularization_rate))(pool_1)\n",
    "    pool_2 = tf.keras.layers.MaxPool2D(pool_size = 2, strides = 2)(conv_2)\n",
    "    conv_3 = tf.keras.layers.Conv2D(96, 3, use_bias = True, activation = 'relu', \n",
    "                                        kernel_regularizer = tf.keras.regularizers.L2(regularization_rate))(pool_2)\n",
    "    pool_3 = tf.keras.layers.MaxPool2D(pool_size = 2, strides = 2)(conv_3)\n",
    "    flat_1 = tf.keras.layers.Flatten()(pool_3)\n",
    "    dense_out = tf.keras.layers.Dense(10, activation = 'softmax', name = \"dense_last\", \n",
    "                                        kernel_regularizer = tf.keras.regularizers.L2(regularization_rate))(flat_1)\n",
    "    \n",
    "    model = tf.keras.models.Model(inputs = input_layer, outputs = dense_out)\n",
    "    opt = tf.keras.optimizers.Adam(learning_rate = learning_rate)\n",
    "    \n",
    "    model.compile(optimizer = opt, \n",
    "        loss = 'sparse_categorical_crossentropy', \n",
    "        metrics = ['accuracy'])\n",
    "    return model\n",
    "\n",
    "def get_functional_model_kernel_bias_regularization(learning_rate : float, regularization_rate : float) -> tf.keras.Model:\n",
    "    input_layer = tf.keras.layers.Input(shape = (28, 28, 1))\n",
    "    conv_1 = tf.keras.layers.Conv2D(32, 5, use_bias = True, activation = 'relu', \n",
    "                                        kernel_regularizer = tf.keras.regularizers.L2(regularization_rate),\n",
    "                                        bias_regularizer = tf.keras.regularizers.L2(regularization_rate))(input_layer)\n",
    "    pool_1 = tf.keras.layers.MaxPool2D(pool_size = 2, strides = 2)(conv_1)\n",
    "    conv_2 = tf.keras.layers.Conv2D(64, 5, use_bias = True, activation = 'relu', \n",
    "                                        kernel_regularizer = tf.keras.regularizers.L2(regularization_rate),\n",
    "                                        bias_regularizer = tf.keras.regularizers.L2(regularization_rate))(pool_1)\n",
    "    pool_2 = tf.keras.layers.MaxPool2D(pool_size = 2, strides = 2)(conv_2)\n",
    "    conv_3 = tf.keras.layers.Conv2D(96, 3, use_bias = True, activation = 'relu', \n",
    "                                        kernel_regularizer = tf.keras.regularizers.L2(regularization_rate),\n",
    "                                        bias_regularizer = tf.keras.regularizers.L2(regularization_rate))(pool_2)\n",
    "    pool_3 = tf.keras.layers.MaxPool2D(pool_size = 2, strides = 2)(conv_3)\n",
    "    flat_1 = tf.keras.layers.Flatten()(pool_3)\n",
    "    dense_out = tf.keras.layers.Dense(10, activation = 'softmax', name = \"dense_last\", \n",
    "                                        kernel_regularizer = tf.keras.regularizers.L2(regularization_rate),\n",
    "                                        bias_regularizer = tf.keras.regularizers.L2(regularization_rate))(flat_1)\n",
    "    \n",
    "    model = tf.keras.models.Model(inputs = input_layer, outputs = dense_out)\n",
    "    opt = tf.keras.optimizers.Adam(learning_rate = learning_rate)\n",
    "    \n",
    "    model.compile(optimizer = opt, \n",
    "        loss = 'sparse_categorical_crossentropy', \n",
    "        metrics = ['accuracy'])\n",
    "    return model\n",
    "\n",
    "def get_functional_model_all_regularization(learning_rate : float, regularization_rate : float) -> tf.keras.Model:\n",
    "    input_layer = tf.keras.layers.Input(shape = (28, 28, 1))\n",
    "    conv_1 = tf.keras.layers.Conv2D(32, 5, use_bias = True, activation = 'relu', \n",
    "                                        kernel_regularizer = tf.keras.regularizers.L2(regularization_rate),\n",
    "                                        bias_regularizer = tf.keras.regularizers.L2(regularization_rate),\n",
    "                                        activity_regularizer = tf.keras.regularizers.L2(regularization_rate))(input_layer)\n",
    "    pool_1 = tf.keras.layers.MaxPool2D(pool_size = 2, strides = 2)(conv_1)\n",
    "    conv_2 = tf.keras.layers.Conv2D(64, 5, use_bias = True, activation = 'relu', \n",
    "                                        kernel_regularizer = tf.keras.regularizers.L2(regularization_rate),\n",
    "                                        bias_regularizer = tf.keras.regularizers.L2(regularization_rate),\n",
    "                                        activity_regularizer = tf.keras.regularizers.L2(regularization_rate))(pool_1)\n",
    "    pool_2 = tf.keras.layers.MaxPool2D(pool_size = 2, strides = 2)(conv_2)\n",
    "    conv_3 = tf.keras.layers.Conv2D(96, 3, use_bias = True, activation = 'relu', \n",
    "                                        kernel_regularizer = tf.keras.regularizers.L2(regularization_rate),\n",
    "                                        bias_regularizer = tf.keras.regularizers.L2(regularization_rate),\n",
    "                                        activity_regularizer = tf.keras.regularizers.L2(regularization_rate))(pool_2)\n",
    "    pool_3 = tf.keras.layers.MaxPool2D(pool_size = 2, strides = 2)(conv_3)\n",
    "    flat_1 = tf.keras.layers.Flatten()(pool_3)\n",
    "    dense_out = tf.keras.layers.Dense(10, activation = 'softmax', name = \"dense_last\", \n",
    "                                        kernel_regularizer = tf.keras.regularizers.L2(regularization_rate),\n",
    "                                        bias_regularizer = tf.keras.regularizers.L2(regularization_rate),\n",
    "                                        activity_regularizer = tf.keras.regularizers.L2(regularization_rate))(flat_1)\n",
    "    \n",
    "    model = tf.keras.models.Model(inputs = input_layer, outputs = dense_out)\n",
    "    opt = tf.keras.optimizers.Adam(learning_rate = learning_rate)\n",
    "    \n",
    "    model.compile(optimizer = opt, \n",
    "        loss = 'sparse_categorical_crossentropy', \n",
    "        metrics = ['accuracy'])\n",
    "    return model"
   ]
  },
  {
   "cell_type": "code",
   "execution_count": null,
   "metadata": {},
   "outputs": [],
   "source": [
    "# model = get_functional_model(0.01)\n",
    "# model.summary()"
   ]
  },
  {
   "cell_type": "code",
   "execution_count": null,
   "metadata": {},
   "outputs": [],
   "source": [
    "# loss, acc = model.evaluate(test_images, test_labels)\n",
    "# print('Test accuracy : ', \"{:0.2%}\".format(acc))\n"
   ]
  },
  {
   "cell_type": "code",
   "execution_count": 4,
   "metadata": {},
   "outputs": [
    {
     "name": "stderr",
     "output_type": "stream",
     "text": [
      "2023-04-05 02:29:23.918551: I tensorflow/compiler/xla/stream_executor/cuda/cuda_gpu_executor.cc:982] could not open file to read NUMA node: /sys/bus/pci/devices/0000:01:00.0/numa_node\n",
      "Your kernel may have been built without NUMA support.\n",
      "2023-04-05 02:29:23.918654: I tensorflow/compiler/xla/stream_executor/cuda/cuda_gpu_executor.cc:982] could not open file to read NUMA node: /sys/bus/pci/devices/0000:01:00.0/numa_node\n",
      "Your kernel may have been built without NUMA support.\n",
      "2023-04-05 02:29:23.918685: I tensorflow/compiler/xla/stream_executor/cuda/cuda_gpu_executor.cc:982] could not open file to read NUMA node: /sys/bus/pci/devices/0000:01:00.0/numa_node\n",
      "Your kernel may have been built without NUMA support.\n",
      "2023-04-05 02:29:24.757214: I tensorflow/compiler/xla/stream_executor/cuda/cuda_gpu_executor.cc:982] could not open file to read NUMA node: /sys/bus/pci/devices/0000:01:00.0/numa_node\n",
      "Your kernel may have been built without NUMA support.\n",
      "2023-04-05 02:29:24.757356: I tensorflow/compiler/xla/stream_executor/cuda/cuda_gpu_executor.cc:982] could not open file to read NUMA node: /sys/bus/pci/devices/0000:01:00.0/numa_node\n",
      "Your kernel may have been built without NUMA support.\n",
      "2023-04-05 02:29:24.757368: I tensorflow/core/common_runtime/gpu/gpu_device.cc:1722] Could not identify NUMA node of platform GPU id 0, defaulting to 0.  Your kernel may not have been built with NUMA support.\n",
      "2023-04-05 02:29:24.757407: I tensorflow/compiler/xla/stream_executor/cuda/cuda_gpu_executor.cc:982] could not open file to read NUMA node: /sys/bus/pci/devices/0000:01:00.0/numa_node\n",
      "Your kernel may have been built without NUMA support.\n",
      "2023-04-05 02:29:24.757435: I tensorflow/core/common_runtime/gpu/gpu_device.cc:1635] Created device /job:localhost/replica:0/task:0/device:GPU:0 with 5379 MB memory:  -> device: 0, name: NVIDIA GeForce RTX 3070 Laptop GPU, pci bus id: 0000:01:00.0, compute capability: 8.6\n"
     ]
    },
    {
     "name": "stdout",
     "output_type": "stream",
     "text": [
      "model - normal_model - 150 - 0.01 - Nonetime 1.1077699661254883\n"
     ]
    },
    {
     "name": "stderr",
     "output_type": "stream",
     "text": [
      "2023-04-05 02:29:25.102203: W tensorflow/tsl/framework/cpu_allocator_impl.cc:83] Allocation of 169344000 exceeds 10% of free system memory.\n",
      "2023-04-05 02:29:25.235442: W tensorflow/tsl/framework/cpu_allocator_impl.cc:83] Allocation of 169344000 exceeds 10% of free system memory.\n"
     ]
    },
    {
     "ename": "",
     "evalue": "",
     "output_type": "error",
     "traceback": [
      "\u001b[1;31mCanceled future for execute_request message before replies were done"
     ]
    },
    {
     "ename": "",
     "evalue": "",
     "output_type": "error",
     "traceback": [
      "\u001b[1;31mThe Kernel crashed while executing code in the the current cell or a previous cell. Please review the code in the cell(s) to identify a possible cause of the failure. Click <a href='https://aka.ms/vscodeJupyterKernelCrash'>here</a> for more info. View Jupyter <a href='command:jupyter.viewOutput'>log</a> for further details."
     ]
    }
   ],
   "source": [
    "learning_rates = np.logspace(-2, -5, 5, base = 10)\n",
    "regularization_rates = np.logspace(-2, -4, 4)\n",
    "# batch_sizes = np.arange(10, 250 + 1, 40)\n",
    "batch_sizes = np.array([150, 200])\n",
    "epochs = 10\n",
    "last_time = time.time()\n",
    "def get_performance_data(model: tf.keras.Model, batch_size : int, model_type : str, regularization_rate : int = None) -> dict:\n",
    "    global last_time\n",
    "    print(model.name +\" - \"+ model_type + \" - \" + str(batch_size) + \" - \" + str(model.optimizer._learning_rate.numpy()) + \" - \" + str(regularization_rate) + \"time \" + str(time.time() - last_time))\n",
    "    last_time = time.time()\n",
    "    entry = {}\n",
    "    train_log : tf.keras.callbacks.History\n",
    "    train_log = model.fit(train_images, train_labels,\n",
    "        batch_size = batch_size,\n",
    "        epochs = epochs,\n",
    "        validation_split = 0.1,\n",
    "        verbose = 0)\n",
    "    test_loss, test_acc = model.evaluate(test_images, test_labels)\n",
    "\n",
    "    entry['name'] = model.name\n",
    "    entry['type'] = model_type\n",
    "    entry['learning_rate'] = model.optimizer._learning_rate.numpy()\n",
    "    entry['batch_size'] = batch_size\n",
    "    entry['regularization_rate'] = regularization_rate\n",
    "    entry['train_loss'] = train_log.history['loss']\n",
    "    entry['train_accuracy'] = train_log.history['accuracy']\n",
    "    entry['validation_loss'] = train_log.history['val_loss']\n",
    "    entry['validation_accuracy'] = train_log.history['val_accuracy']\n",
    "    entry['test_loss'] = test_loss\n",
    "    entry['test_accuracy'] = test_acc\n",
    "\n",
    "    return entry\n",
    "\n",
    "performance_data = []\n",
    "for batch_size in batch_sizes:\n",
    "    for learning_rate in learning_rates:\n",
    "        model = get_functional_model(learning_rate)\n",
    "        performance_data.append(get_performance_data(model, batch_size, \"normal_model\"))\n",
    "\n",
    "        for regularization_rate in regularization_rates:\n",
    "            model_kernel_reg = get_functional_model_kernel_regularization(learning_rate, regularization_rate)\n",
    "            model_kernel_bias_reg = get_functional_model_kernel_bias_regularization(learning_rate, regularization_rate)\n",
    "            model_all_reg = get_functional_model_all_regularization(learning_rate, regularization_rate)\n",
    "            performance_data.append(get_performance_data(model_kernel_reg, batch_size, \"model_kernel_reg\", regularization_rate))\n",
    "            performance_data.append(get_performance_data(model_kernel_bias_reg, batch_size, \"model_kernel_bias_reg\", regularization_rate))\n",
    "            performance_data.append(get_performance_data(model_all_reg, batch_size, \"model_all_reg\", regularization_rate))\n",
    "\n",
    "# data = pd.DataFrame(performance_data)"
   ]
  },
  {
   "cell_type": "code",
   "execution_count": null,
   "metadata": {},
   "outputs": [],
   "source": [
    "# print(performance_data)\n",
    "# data = pd.DataFrame(performance_data)\n",
    "# data.to_csv('Test_File_2.csv')\n",
    "data2 = pd.read_csv('Test_File_2.csv')\n",
    "# print(data2)\n",
    "performance_data2 = data2.values.tolist()\n",
    "# print(performance_data2)"
   ]
  },
  {
   "cell_type": "code",
   "execution_count": null,
   "metadata": {},
   "outputs": [],
   "source": [
    "# loss, acc = model.evaluate(test_images, test_labels)\n",
    "# print('Test accuracy : ', \"{:0.2%}\".format(acc))"
   ]
  },
  {
   "cell_type": "code",
   "execution_count": null,
   "metadata": {},
   "outputs": [],
   "source": [
    "save_dir = \"./logs/\"\n",
    "save_path = save_dir + \"model_official_1\"\n",
    "# model.save(save_path)"
   ]
  },
  {
   "cell_type": "code",
   "execution_count": null,
   "metadata": {},
   "outputs": [],
   "source": [
    "# Load model_v3\n",
    "save_dir = \"./logs/\"\n",
    "save_path = save_dir + \"model_official_1\"\n",
    "# model = tf.keras.models.load_model(save_path)\n",
    "loss, acc = model.evaluate(test_images, test_labels)\n",
    "print('Test accuracy : ', \"{:0.2%}\".format(acc))"
   ]
  },
  {
   "cell_type": "code",
   "execution_count": null,
   "metadata": {},
   "outputs": [],
   "source": [
    "q_aware_model = tfmot.quantization.keras.quantize_model(model)\n",
    "q_aware_model.compile(optimizer = 'adam', \n",
    "    loss = 'sparse_categorical_crossentropy', \n",
    "    metrics = ['accuracy'])\n",
    "q_aware_model.summary()"
   ]
  },
  {
   "cell_type": "code",
   "execution_count": null,
   "metadata": {},
   "outputs": [],
   "source": [
    "q_aware_test_loss, q_aware_test_acc = q_aware_model.evaluate(test_images, test_labels)\n",
    "print('Test accuracy : ', \"{:0.2%}\".format(q_aware_test_acc))"
   ]
  },
  {
   "cell_type": "code",
   "execution_count": null,
   "metadata": {},
   "outputs": [],
   "source": [
    "train_log = q_aware_model.fit(train_images, train_labels,\n",
    "    batch_size = 128,\n",
    "    # epochs = 15,\n",
    "    epochs = 1,\n",
    "    validation_split = 0.1)"
   ]
  },
  {
   "cell_type": "code",
   "execution_count": null,
   "metadata": {},
   "outputs": [],
   "source": [
    "q_aware_test_loss, q_aware_test_acc = q_aware_model.evaluate(test_images, test_labels)\n",
    "print('Test accuracy : ', \"{:0.2%}\".format(q_aware_test_acc))"
   ]
  },
  {
   "cell_type": "code",
   "execution_count": null,
   "metadata": {},
   "outputs": [],
   "source": [
    "# Save quantized model\n",
    "save_dir = \"./logs/\"\n",
    "save_path = save_dir + \"model_q4_func\"\n",
    "# q_aware_model.save(save_path)"
   ]
  },
  {
   "cell_type": "code",
   "execution_count": null,
   "metadata": {},
   "outputs": [],
   "source": [
    "# Load model \n",
    "save_dir = \"./logs/\"\n",
    "save_path = save_dir + \"model_q4_func\"\n",
    "q_aware_model : tf.keras.Model\n",
    "with tfmot.quantization.keras.quantize_scope():\n",
    "    q_aware_model = tf.keras.models.load_model(save_path)\n",
    "q_aware_test_loss, q_aware_test_acc = q_aware_model.evaluate(test_images, test_labels)\n",
    "print('Test accuracy : ', \"{:0.2%}\".format(q_aware_test_acc))"
   ]
  },
  {
   "cell_type": "code",
   "execution_count": null,
   "metadata": {},
   "outputs": [],
   "source": [
    "for i in range(len(q_aware_model.layers)):\n",
    "    print(\"Layer : \", i, q_aware_model.layers[i].name,\" - params : \", len(q_aware_model.layers[i].variables))#, len(q_aware_model.layers[i]), \"Weights len\")"
   ]
  },
  {
   "cell_type": "code",
   "execution_count": null,
   "metadata": {},
   "outputs": [],
   "source": [
    "bit_width = 8\n",
    "quantized_and_dequantized = OrderedDict()\n",
    "quantized = OrderedDict()\n",
    "new_quantized_and_dequantized = OrderedDict()\n",
    "new_quantized = OrderedDict()\n",
    "layer_index_list = []\n",
    "key_index_list = []\n",
    "\n",
    "layer : tfmot.quantization.keras.QuantizeWrapperV2\n",
    "for i, layer in enumerate(q_aware_model.layers):\n",
    "    quantizer : tfmot.quantization.keras.quantizers.Quantizer\n",
    "    weight : tf.Variable\n",
    "    if hasattr(layer, '_weight_vars'):\n",
    "        for weight, quantizer, quantizer_vars in layer._weight_vars:\n",
    "            min_var = quantizer_vars['min_var']\n",
    "            max_var = quantizer_vars['max_var']\n",
    "\n",
    "            key = weight.name[:-2]\n",
    "            layer_index_list.append(i)\n",
    "            key_index_list.append(key)\n",
    "            quantized_and_dequantized[key] = quantizer(inputs = weight, training = False, weights = quantizer_vars)\n",
    "            quantized[key] = np.round(quantized_and_dequantized[key] / max_var * (2**(bit_width-1)-1))\n",
    "\n",
    "            if \"conv2d\" in layer.name:\n",
    "                new_quantized_and_dequantized[key] = tf.quantization.fake_quant_with_min_max_vars_per_channel(weight, min_var, max_var, bit_width, narrow_range = True, name = \"New_quantized_\" + str(i))\n",
    "                new_quantized[key] = np.round(new_quantized_and_dequantized[key] / max_var * (2**(bit_width-1)-1))\n",
    "            elif \"dense\" in layer.name:\n",
    "                new_quantized_and_dequantized[key] = tf.quantization.fake_quant_with_min_max_vars(weight, min_var, max_var, bit_width, narrow_range = True, name = \"New_quantized_\" + str(i))\n",
    "                new_quantized[key] = np.round(new_quantized_and_dequantized[key] / max_var * (2**(bit_width-1)-1))\n",
    "\n",
    "for key in quantized:\n",
    "    # print(\"Fake Quantized\")\n",
    "    print(key)\n",
    "    if \"dense\" not in key:\n",
    "        # print(quantized_and_dequantized[key][:,:,0,0])\n",
    "        print(quantized[key][:,:,0,0])\n",
    "    else:\n",
    "        # print(quantized_and_dequantized[key][:,0])\n",
    "        print(quantized[key][:,0])\n",
    "\n",
    "    # print(\"New Fake Quantized\")\n",
    "    # print(key)\n",
    "    # if \"dense\" not in key:\n",
    "    #     print(new_quantized_and_dequantized[key][:,:,0,0])\n",
    "    #     print(new_quantized[key][:,:,0,0])\n",
    "    # else:\n",
    "    #     print(new_quantized_and_dequantized[key][:,0])\n",
    "    #     print(new_quantized[key][:,0])"
   ]
  },
  {
   "cell_type": "code",
   "execution_count": null,
   "metadata": {},
   "outputs": [],
   "source": [
    "def self_quantize_function(input, min_var, max_var, bits, narrow_range = False):\n",
    "    if not narrow_range:\n",
    "        scale = (max_var - min_var) / (2**bits - 1)\n",
    "    else:\n",
    "        scale = (max_var - min_var) / (2**bits - 2)\n",
    "    min_adj = scale * np.round(min_var / scale)\n",
    "    max_adj = max_var + min_adj - min_var\n",
    "    # print(\"Scale : \", scale)\n",
    "    return scale * np.round(input / scale)\n",
    "\n",
    "for idx, layer_index in enumerate(layer_index_list):\n",
    "    m_vars = {variable.name: variable for i, variable in enumerate(q_aware_model.layers[layer_index].non_trainable_variables) if key_index_list[idx] in variable.name}\n",
    "    kernel = {variable.name: variable for i, variable in enumerate(q_aware_model.layers[layer_index].trainable_variables) if \"kernel\" in variable.name}\n",
    "    min_key = list(key for key in m_vars if \"min\" in key)[0]\n",
    "    max_key = list(key for key in m_vars if \"max\" in key)[0]\n",
    "    min_var = m_vars[min_key]\n",
    "    max_var = m_vars[max_key]\n",
    "\n",
    "    kernel_index = 0\n",
    "    self_quantized_and_dequantized = self_quantize_function(q_aware_model.layers[layer_index].trainable_variables[kernel_index], min_var, max_var, bit_width, narrow_range = True)\n",
    "    \n",
    "    print(key_index_list[idx])\n",
    "    # print(\"Self Quantized\")\n",
    "    if \"dense\" not in key_index_list[idx]:\n",
    "        # print(self_quantized_and_dequantized[:,:,0,0])\n",
    "        self_quantized = np.round(self_quantized_and_dequantized / max_var * (2**(bit_width - 1) - 1))\n",
    "        print(self_quantized[:,:,0,0])\n",
    "    else:\n",
    "        # print(self_quantized_and_dequantized[:,0])\n",
    "        self_quantized = np.round(self_quantized_and_dequantized / max_var * (2**(bit_width - 1) - 1))\n",
    "        print(self_quantized[:,0])"
   ]
  },
  {
   "cell_type": "code",
   "execution_count": null,
   "metadata": {},
   "outputs": [],
   "source": [
    "l = 2\n",
    "print(q_aware_model.layers[l].quantize_config.get_config())\n",
    "print(q_aware_model.layers[l].quantize_config.activation_quantizer)"
   ]
  },
  {
   "cell_type": "code",
   "execution_count": null,
   "metadata": {},
   "outputs": [],
   "source": [
    "# Conversion to TF Lite model\n",
    "converter = tf.lite.TFLiteConverter.from_keras_model(q_aware_model)\n",
    "converter.optimizations = [tf.lite.Optimize.DEFAULT]\n",
    "    \n",
    "quantized_tflite_model = converter.convert()"
   ]
  },
  {
   "cell_type": "code",
   "execution_count": null,
   "metadata": {},
   "outputs": [],
   "source": [
    "def evaluate_model(interpreter: tf.lite.Interpreter):\n",
    "  input_index = interpreter.get_input_details()[0][\"index\"]\n",
    "  output_index = interpreter.get_output_details()[0][\"index\"]\n",
    "\n",
    "  # Run predictions on every image in the \"test\" dataset.\n",
    "  prediction_digits = []\n",
    "  for i, test_image in enumerate(test_images):\n",
    "    if i % 1000 == 0:\n",
    "      print('Evaluated on {n} results so far.'.format(n=i))\n",
    "    # Pre-processing: add batch dimension and convert to float32 to match with\n",
    "    # the model's input data format.\n",
    "    # print(\"Shape : \", test_image.shape)\n",
    "    test_image = np.expand_dims(test_image, axis = 0).astype(np.float32)\n",
    "    test_image = np.expand_dims(test_image, axis = 3).astype(np.float32)\n",
    "    # print(\"New Shape : \", test_image.shape)\n",
    "    interpreter.set_tensor(input_index, test_image)\n",
    "\n",
    "    # Run inference.\n",
    "    interpreter.invoke()\n",
    "\n",
    "    # Post-processing: remove batch dimension and find the digit with highest\n",
    "    # probability.\n",
    "    output = interpreter.tensor(output_index)\n",
    "    digit = np.argmax(output()[0])\n",
    "    prediction_digits.append(digit)\n",
    "\n",
    "  print('\\n')\n",
    "  # Compare prediction results with ground truth labels to calculate accuracy.\n",
    "  prediction_digits = np.array(prediction_digits)\n",
    "  accuracy = (prediction_digits == test_labels).mean()\n",
    "  return accuracy"
   ]
  },
  {
   "cell_type": "code",
   "execution_count": null,
   "metadata": {},
   "outputs": [],
   "source": [
    "interpreter = tf.lite.Interpreter(model_content = quantized_tflite_model)\n",
    "interpreter.allocate_tensors()\n",
    "input_details = interpreter.get_input_details()\n",
    "output_details = interpreter.get_output_details()\n",
    "print(\"Input Shape: \", input_details[0]['shape'])\n",
    "print(\"Output Shape: \", output_details[0]['shape'])\n",
    "\n",
    "test_accuracy = evaluate_model(interpreter)\n",
    "\n",
    "print('Quant TFLite test_accuracy:', test_accuracy)\n",
    "print('Quant TF test accuracy:', q_aware_test_acc)"
   ]
  },
  {
   "cell_type": "code",
   "execution_count": null,
   "metadata": {},
   "outputs": [],
   "source": [
    "save_dir = \"./logs/\"\n",
    "quant_file = 'quant_model_q4_func.tflite'\n",
    "save_path = save_dir + quant_file\n",
    "# with open(save_path, 'wb') as f:\n",
    "#   f.write(quantized_tflite_model)"
   ]
  },
  {
   "cell_type": "code",
   "execution_count": null,
   "metadata": {},
   "outputs": [],
   "source": [
    "ind_index = 10\n",
    "test_image = test_images[ind_index]\n",
    "test_image = np.expand_dims(test_image, axis = 0).astype(np.float32)\n",
    "test_image = np.expand_dims(test_image, axis = 3).astype(np.float32)\n",
    "\n",
    "interpreter.set_tensor(input_details[0]['index'], test_image)\n",
    "interpreter.invoke()\n",
    "output_array = interpreter.get_tensor(output_details[0]['index'])\n",
    "# print(output_array.shape)\n",
    "digit = np.argmax(output_array[0])\n",
    "probability = max(output_array[0])\n",
    "print(\"Input index : \", test_labels[ind_index])\n",
    "print(\"Output index : \", digit, \"{0:.2%}\".format(probability))\n"
   ]
  }
 ],
 "metadata": {
  "kernelspec": {
   "display_name": "Python 3.9.16 ('tf')",
   "language": "python",
   "name": "python3"
  },
  "language_info": {
   "codemirror_mode": {
    "name": "ipython",
    "version": 3
   },
   "file_extension": ".py",
   "mimetype": "text/x-python",
   "name": "python",
   "nbconvert_exporter": "python",
   "pygments_lexer": "ipython3",
   "version": "3.9.16"
  },
  "orig_nbformat": 4,
  "vscode": {
   "interpreter": {
    "hash": "e08654d7e9de39c761f28164c2d72fba27cedbf644569744e44486f1519dd3f2"
   }
  }
 },
 "nbformat": 4,
 "nbformat_minor": 2
}
